{
 "cells": [
  {
   "cell_type": "markdown",
   "id": "latter-dancing",
   "metadata": {},
   "source": [
    "#### *API and NLP Project (#3)*\n",
    "---\n",
    "# __Comparing Text with Supervised Machine Learning__\n",
    "---\n",
    "#### *Christopher Caldarella, Data Scientist*\n",
    "##### *2021-05-04*\n",
    "---\n",
    "###### __*Data taken from Reddit.com*__\n"
   ]
  },
  {
   "cell_type": "code",
   "execution_count": 1,
   "id": "arranged-protein",
   "metadata": {},
   "outputs": [],
   "source": [
    "from ipynb.fs.full.functions import *"
   ]
  },
  {
   "cell_type": "code",
   "execution_count": 2,
   "id": "metropolitan-distinction",
   "metadata": {},
   "outputs": [],
   "source": [
    "# Data to create our model\n",
    "# dfa = pd.read_csv('../data/ama_comments.csv')\n",
    "# dfb = pd.read_csv('../data/ar_comments.csv')\n",
    "dfa = pd.read_csv('../data/2021-05-03_2005_AMA_comments.csv')\n",
    "dfb = pd.read_csv('../data/2021-05-03_2005_AskReddit_comments.csv')\n",
    "\n",
    "df = pd.concat([dfa, dfb], axis=0).reset_index(drop=True)"
   ]
  },
  {
   "cell_type": "code",
   "execution_count": 3,
   "id": "royal-contrary",
   "metadata": {
    "tags": []
   },
   "outputs": [
    {
     "data": {
      "image/png": "[encoded data removed]",
      "text/plain": [
       "<Figure size 432x288 with 1 Axes>"
      ]
     },
     "metadata": {
      "needs_background": "light"
     },
     "output_type": "display_data"
    }
   ],
   "source": [
    "sns.countplot(df['subreddit']);\n",
    "# plt.savefig('../images/subreddit_count.png')"
   ]
  },
  {
   "cell_type": "code",
   "execution_count": 4,
   "id": "processed-publisher",
   "metadata": {},
   "outputs": [],
   "source": [
    "df = CleanUp(df).df.copy()"
   ]
  },
  {
   "cell_type": "code",
   "execution_count": 5,
   "id": "marked-clerk",
   "metadata": {},
   "outputs": [],
   "source": [
    "# Model X, and y\n",
    "df = df.sample(n=df.shape[0], random_state=3)\n",
    "\n",
    "X = df['body']\n",
    "y = df['subreddit_binary']\n",
    "\n",
    "# X_train, X_test, y_train, y_test = train_test_split(X, y, stratify=y, random_state=3)"
   ]
  },
  {
   "cell_type": "code",
   "execution_count": null,
   "id": "pediatric-wiring",
   "metadata": {},
   "outputs": [],
   "source": []
  },
  {
   "cell_type": "code",
   "execution_count": 6,
   "id": "numerous-dodge",
   "metadata": {},
   "outputs": [],
   "source": [
    "# TEST data (not part of train/test/split)\n",
    "df1 = pd.read_csv('../data/2021-05-03_1936_AMA_comments.csv')\n",
    "df2 = pd.read_csv('../data/2021-05-03_1936_AskReddit_comments.csv')\n",
    "df_test_pred = pd.concat([df1, df2], axis=0).reset_index(drop=True)"
   ]
  },
  {
   "cell_type": "code",
   "execution_count": 7,
   "id": "metric-russell",
   "metadata": {},
   "outputs": [],
   "source": [
    "df_test_pred = CleanUp(df_test_pred).df.copy()"
   ]
  },
  {
   "cell_type": "code",
   "execution_count": 8,
   "id": "artistic-jenny",
   "metadata": {},
   "outputs": [],
   "source": [
    "# Model Test Data\n",
    "df_test_pred = df_test_pred.sample(n=df_test_pred.shape[0], random_state=3)\n",
    "\n",
    "X_new = df_test_pred['body']\n",
    "y_new = df_test_pred['subreddit_binary'] "
   ]
  },
  {
   "cell_type": "code",
   "execution_count": null,
   "id": "understanding-chance",
   "metadata": {},
   "outputs": [],
   "source": []
  },
  {
   "cell_type": "markdown",
   "id": "basic-spirituality",
   "metadata": {},
   "source": [
    "<h2 style=\"color:black;\"> TfidfVectorizer(), LogisticRegression() (with GridSearch/Pipeline) </h2>\n"
   ]
  },
  {
   "cell_type": "code",
   "execution_count": 9,
   "id": "heard-delhi",
   "metadata": {},
   "outputs": [
    {
     "name": "stdout",
     "output_type": "stream",
     "text": [
      "Fitting 5 folds for each of 48 candidates, totalling 240 fits\n"
     ]
    }
   ],
   "source": [
    "\n",
    "X_gs_tv_lgr = ClassificationModel(make_pipeline(\n",
    "    TfidfVectorizer(), \n",
    "    LogisticRegression()), \n",
    "    X_train=X, X_test=X_new, y_train=y, y_test=y_new,\n",
    "    params={\n",
    "        'tfidfvectorizer__ngram_range': [ (1, 1), (1, 2), (2, 2), (1, 3), (2, 3), (3, 3) ],\n",
    "        'tfidfvectorizer__stop_words': [ 'english', None ],\n",
    "        'tfidfvectorizer__max_features': [ 500, 1000, 2000, 5000 ]\n",
    "}, verbose=3, mod_name='Xy/new Tfidf LogReg')\n"
   ]
  },
  {
   "cell_type": "code",
   "execution_count": 10,
   "id": "sapphire-campus",
   "metadata": {},
   "outputs": [
    {
     "name": "stdout",
     "output_type": "stream",
     "text": [
      "{'tfidfvectorizer__max_features': 5000, 'tfidfvectorizer__ngram_range': (1, 1), 'tfidfvectorizer__stop_words': None}\n",
      "Pipeline(steps=[('tfidfvectorizer', TfidfVectorizer(max_features=5000)),\n",
      "                ('logisticregression', LogisticRegression())])\n",
      "0.718684683788517\n"
     ]
    }
   ],
   "source": [
    "\n",
    "print(X_gs_tv_lgr.model.best_params_)\n",
    "print(X_gs_tv_lgr.model.best_estimator_)\n",
    "print(X_gs_tv_lgr.model.best_score_)\n"
   ]
  },
  {
   "cell_type": "markdown",
   "id": "geographic-intent",
   "metadata": {},
   "source": [
    "<h2 style=\"color:black;\"> TfidfVectorizer(), MultinomialNB() (with GridSearch/Pipeline) </h2>\n"
   ]
  },
  {
   "cell_type": "code",
   "execution_count": 11,
   "id": "indoor-sweden",
   "metadata": {},
   "outputs": [
    {
     "name": "stdout",
     "output_type": "stream",
     "text": [
      "Fitting 5 folds for each of 48 candidates, totalling 240 fits\n"
     ]
    }
   ],
   "source": [
    "X_gs_tv_nb = ClassificationModel(make_pipeline(\n",
    "    TfidfVectorizer(), \n",
    "    MultinomialNB()), \n",
    "    X, X_new, y, y_new,\n",
    "    params={\n",
    "        'tfidfvectorizer__ngram_range': [ (1, 1), (1, 2), (2, 2), (1, 3), (2, 3), (3, 3) ],\n",
    "        'tfidfvectorizer__stop_words': [ 'english', None ],\n",
    "        'tfidfvectorizer__max_features': [ 500, 1000, 2000, 5000 ]\n",
    "}, verbose=3, mod_name='Xy/new Tfidf nBayes')\n"
   ]
  },
  {
   "cell_type": "code",
   "execution_count": 12,
   "id": "middle-abortion",
   "metadata": {},
   "outputs": [
    {
     "name": "stdout",
     "output_type": "stream",
     "text": [
      "{'tfidfvectorizer__max_features': 5000, 'tfidfvectorizer__ngram_range': (1, 1), 'tfidfvectorizer__stop_words': None}\n",
      "Pipeline(steps=[('tfidfvectorizer', TfidfVectorizer(max_features=5000)),\n",
      "                ('multinomialnb', MultinomialNB())])\n",
      "0.717150523419728\n"
     ]
    }
   ],
   "source": [
    "\n",
    "print(X_gs_tv_nb.model.best_params_)\n",
    "print(X_gs_tv_nb.model.best_estimator_)\n",
    "print(X_gs_tv_nb.model.best_score_)\n"
   ]
  },
  {
   "cell_type": "code",
   "execution_count": 13,
   "id": "compound-expense",
   "metadata": {},
   "outputs": [
    {
     "data": {
      "text/html": [
       "<div>\n",
       "<style scoped>\n",
       "    .dataframe tbody tr th:only-of-type {\n",
       "        vertical-align: middle;\n",
       "    }\n",
       "\n",
       "    .dataframe tbody tr th {\n",
       "        vertical-align: top;\n",
       "    }\n",
       "\n",
       "    .dataframe thead th {\n",
       "        text-align: right;\n",
       "    }\n",
       "</style>\n",
       "<table border=\"1\" class=\"dataframe\">\n",
       "  <thead>\n",
       "    <tr style=\"text-align: right;\">\n",
       "      <th></th>\n",
       "      <th>Xy/new Tfidf LogReg</th>\n",
       "      <th>Xy/new Tfidf nBayes</th>\n",
       "    </tr>\n",
       "  </thead>\n",
       "  <tbody>\n",
       "    <tr>\n",
       "      <th>F1 Score</th>\n",
       "      <td>0.704715</td>\n",
       "      <td>0.639785</td>\n",
       "    </tr>\n",
       "    <tr>\n",
       "      <th>Recall Score</th>\n",
       "      <td>0.724490</td>\n",
       "      <td>0.607143</td>\n",
       "    </tr>\n",
       "    <tr>\n",
       "      <th>Accuracy</th>\n",
       "      <td>0.698734</td>\n",
       "      <td>0.660759</td>\n",
       "    </tr>\n",
       "    <tr>\n",
       "      <th>Balanced Accuracy</th>\n",
       "      <td>0.698928</td>\n",
       "      <td>0.660355</td>\n",
       "    </tr>\n",
       "    <tr>\n",
       "      <th>Precision Score</th>\n",
       "      <td>0.685990</td>\n",
       "      <td>0.676136</td>\n",
       "    </tr>\n",
       "    <tr>\n",
       "      <th>Average Precision Score</th>\n",
       "      <td>0.740383</td>\n",
       "      <td>0.757714</td>\n",
       "    </tr>\n",
       "    <tr>\n",
       "      <th>ROC AUC Score</th>\n",
       "      <td>0.759268</td>\n",
       "      <td>0.745757</td>\n",
       "    </tr>\n",
       "    <tr>\n",
       "      <th>True Positive</th>\n",
       "      <td>134.000000</td>\n",
       "      <td>142.000000</td>\n",
       "    </tr>\n",
       "    <tr>\n",
       "      <th>False Negative</th>\n",
       "      <td>65.000000</td>\n",
       "      <td>57.000000</td>\n",
       "    </tr>\n",
       "    <tr>\n",
       "      <th>False Positive</th>\n",
       "      <td>54.000000</td>\n",
       "      <td>77.000000</td>\n",
       "    </tr>\n",
       "    <tr>\n",
       "      <th>True Negative</th>\n",
       "      <td>142.000000</td>\n",
       "      <td>119.000000</td>\n",
       "    </tr>\n",
       "    <tr>\n",
       "      <th>Calculated Accuracy</th>\n",
       "      <td>0.698734</td>\n",
       "      <td>0.660759</td>\n",
       "    </tr>\n",
       "    <tr>\n",
       "      <th>Calculated Precision</th>\n",
       "      <td>0.712766</td>\n",
       "      <td>0.648402</td>\n",
       "    </tr>\n",
       "    <tr>\n",
       "      <th>Calculated Sensitivity</th>\n",
       "      <td>0.673367</td>\n",
       "      <td>0.713568</td>\n",
       "    </tr>\n",
       "    <tr>\n",
       "      <th>Calculated Specificity</th>\n",
       "      <td>0.724490</td>\n",
       "      <td>0.607143</td>\n",
       "    </tr>\n",
       "    <tr>\n",
       "      <th>Train F1 Score</th>\n",
       "      <td>0.820539</td>\n",
       "      <td>0.803460</td>\n",
       "    </tr>\n",
       "    <tr>\n",
       "      <th>Train Recall Score</th>\n",
       "      <td>0.835456</td>\n",
       "      <td>0.753698</td>\n",
       "    </tr>\n",
       "    <tr>\n",
       "      <th>Train Accuracy</th>\n",
       "      <td>0.817949</td>\n",
       "      <td>0.816312</td>\n",
       "    </tr>\n",
       "    <tr>\n",
       "      <th>Train Balanced Accuracy</th>\n",
       "      <td>0.818014</td>\n",
       "      <td>0.816082</td>\n",
       "    </tr>\n",
       "    <tr>\n",
       "      <th>Train Precision Score</th>\n",
       "      <td>0.806145</td>\n",
       "      <td>0.860258</td>\n",
       "    </tr>\n",
       "    <tr>\n",
       "      <th>Train Average Precision Score</th>\n",
       "      <td>0.899897</td>\n",
       "      <td>0.909240</td>\n",
       "    </tr>\n",
       "    <tr>\n",
       "      <th>Train ROC AUC Score</th>\n",
       "      <td>0.897099</td>\n",
       "      <td>0.907126</td>\n",
       "    </tr>\n",
       "    <tr>\n",
       "      <th>Train True Positive</th>\n",
       "      <td>3926.000000</td>\n",
       "      <td>4308.000000</td>\n",
       "    </tr>\n",
       "    <tr>\n",
       "      <th>Train False Negative</th>\n",
       "      <td>978.000000</td>\n",
       "      <td>596.000000</td>\n",
       "    </tr>\n",
       "    <tr>\n",
       "      <th>Train False Positive</th>\n",
       "      <td>801.000000</td>\n",
       "      <td>1199.000000</td>\n",
       "    </tr>\n",
       "    <tr>\n",
       "      <th>Train True Negative</th>\n",
       "      <td>4067.000000</td>\n",
       "      <td>3669.000000</td>\n",
       "    </tr>\n",
       "    <tr>\n",
       "      <th>Train Calculated Accuracy</th>\n",
       "      <td>0.817949</td>\n",
       "      <td>0.816312</td>\n",
       "    </tr>\n",
       "    <tr>\n",
       "      <th>Train Calculated Precision</th>\n",
       "      <td>0.830548</td>\n",
       "      <td>0.782277</td>\n",
       "    </tr>\n",
       "    <tr>\n",
       "      <th>Train Calculated Sensitivity</th>\n",
       "      <td>0.800571</td>\n",
       "      <td>0.878467</td>\n",
       "    </tr>\n",
       "    <tr>\n",
       "      <th>Train Calculated Specificity</th>\n",
       "      <td>0.835456</td>\n",
       "      <td>0.753698</td>\n",
       "    </tr>\n",
       "  </tbody>\n",
       "</table>\n",
       "</div>"
      ],
      "text/plain": [
       "                               Xy/new Tfidf LogReg  Xy/new Tfidf nBayes\n",
       "F1 Score                                  0.704715             0.639785\n",
       "Recall Score                              0.724490             0.607143\n",
       "Accuracy                                  0.698734             0.660759\n",
       "Balanced Accuracy                         0.698928             0.660355\n",
       "Precision Score                           0.685990             0.676136\n",
       "Average Precision Score                   0.740383             0.757714\n",
       "ROC AUC Score                             0.759268             0.745757\n",
       "True Positive                           134.000000           142.000000\n",
       "False Negative                           65.000000            57.000000\n",
       "False Positive                           54.000000            77.000000\n",
       "True Negative                           142.000000           119.000000\n",
       "Calculated Accuracy                       0.698734             0.660759\n",
       "Calculated Precision                      0.712766             0.648402\n",
       "Calculated Sensitivity                    0.673367             0.713568\n",
       "Calculated Specificity                    0.724490             0.607143\n",
       "Train F1 Score                            0.820539             0.803460\n",
       "Train Recall Score                        0.835456             0.753698\n",
       "Train Accuracy                            0.817949             0.816312\n",
       "Train Balanced Accuracy                   0.818014             0.816082\n",
       "Train Precision Score                     0.806145             0.860258\n",
       "Train Average Precision Score             0.899897             0.909240\n",
       "Train ROC AUC Score                       0.897099             0.907126\n",
       "Train True Positive                    3926.000000          4308.000000\n",
       "Train False Negative                    978.000000           596.000000\n",
       "Train False Positive                    801.000000          1199.000000\n",
       "Train True Negative                    4067.000000          3669.000000\n",
       "Train Calculated Accuracy                 0.817949             0.816312\n",
       "Train Calculated Precision                0.830548             0.782277\n",
       "Train Calculated Sensitivity              0.800571             0.878467\n",
       "Train Calculated Specificity              0.835456             0.753698"
      ]
     },
     "execution_count": 13,
     "metadata": {},
     "output_type": "execute_result"
    }
   ],
   "source": [
    "compare_df = pd.concat([X_gs_tv_lgr.df, X_gs_tv_nb.df], axis=1)\n",
    "compare_df"
   ]
  },
  {
   "cell_type": "code",
   "execution_count": null,
   "id": "bound-award",
   "metadata": {},
   "outputs": [],
   "source": []
  },
  {
   "cell_type": "markdown",
   "id": "thousand-connectivity",
   "metadata": {},
   "source": [
    "# Comparing Confusion Matrices"
   ]
  },
  {
   "cell_type": "markdown",
   "id": "rubber-joint",
   "metadata": {},
   "source": [
    "## Train Data"
   ]
  },
  {
   "cell_type": "markdown",
   "id": "cooperative-metabolism",
   "metadata": {},
   "source": [
    "### Logistic Regression \n"
   ]
  },
  {
   "cell_type": "code",
   "execution_count": 14,
   "id": "latest-auditor",
   "metadata": {},
   "outputs": [
    {
     "data": {
      "image/png": "[encoded data removed]",
      "text/plain": [
       "<Figure size 432x288 with 2 Axes>"
      ]
     },
     "metadata": {
      "needs_background": "light"
     },
     "output_type": "display_data"
    }
   ],
   "source": [
    "X_gs_tv_lgr.plot_confusion_matrix(X, y)"
   ]
  },
  {
   "cell_type": "markdown",
   "id": "casual-instruction",
   "metadata": {},
   "source": [
    "### Naive Bayes \n"
   ]
  },
  {
   "cell_type": "code",
   "execution_count": 15,
   "id": "ecological-modeling",
   "metadata": {},
   "outputs": [
    {
     "data": {
      "image/png": "[encoded data removed]",
      "text/plain": [
       "<Figure size 432x288 with 2 Axes>"
      ]
     },
     "metadata": {
      "needs_background": "light"
     },
     "output_type": "display_data"
    }
   ],
   "source": [
    "X_gs_tv_nb.plot_confusion_matrix(X, y)"
   ]
  },
  {
   "cell_type": "markdown",
   "id": "linear-classics",
   "metadata": {},
   "source": [
    "## Test Data"
   ]
  },
  {
   "cell_type": "markdown",
   "id": "affected-singapore",
   "metadata": {},
   "source": [
    "### Logistic Regression \n"
   ]
  },
  {
   "cell_type": "code",
   "execution_count": 16,
   "id": "referenced-familiar",
   "metadata": {},
   "outputs": [
    {
     "data": {
      "image/png": "[encoded data removed]",
      "text/plain": [
       "<Figure size 432x288 with 2 Axes>"
      ]
     },
     "metadata": {
      "needs_background": "light"
     },
     "output_type": "display_data"
    }
   ],
   "source": [
    "X_gs_tv_lgr.plot_confusion_matrix(X_new, y_new)"
   ]
  },
  {
   "cell_type": "markdown",
   "id": "sharing-drawing",
   "metadata": {},
   "source": [
    "### Naive Bayes \n"
   ]
  },
  {
   "cell_type": "code",
   "execution_count": 17,
   "id": "intellectual-robertson",
   "metadata": {},
   "outputs": [
    {
     "data": {
      "image/png": "[encoded data removed]",
      "text/plain": [
       "<Figure size 432x288 with 2 Axes>"
      ]
     },
     "metadata": {
      "needs_background": "light"
     },
     "output_type": "display_data"
    }
   ],
   "source": [
    "X_gs_tv_nb.plot_confusion_matrix(X_new, y_new)"
   ]
  },
  {
   "cell_type": "code",
   "execution_count": null,
   "id": "empirical-civilization",
   "metadata": {},
   "outputs": [],
   "source": []
  },
  {
   "cell_type": "code",
   "execution_count": null,
   "id": "persistent-lunch",
   "metadata": {},
   "outputs": [],
   "source": []
  },
  {
   "cell_type": "code",
   "execution_count": null,
   "id": "european-gospel",
   "metadata": {},
   "outputs": [],
   "source": []
  },
  {
   "cell_type": "markdown",
   "id": "emotional-india",
   "metadata": {},
   "source": [
    "## How do the predictions compare with our data?"
   ]
  },
  {
   "cell_type": "code",
   "execution_count": 18,
   "id": "blind-census",
   "metadata": {},
   "outputs": [],
   "source": [
    "y_pred_lgr = X_gs_tv_lgr.y_pred\n",
    "y_pred_lgr = pd.Series(y_pred_lgr)\n",
    "y_pred_lgr.name = 'logreg_predicted_binary'\n",
    "y_pred_lgr = pd.DataFrame(y_pred_lgr, index=y_new.index)\n",
    "\n",
    "y_pred_nb = X_gs_tv_nb.y_pred\n",
    "y_pred_nb = pd.Series(y_pred_nb)\n",
    "y_pred_nb.name = 'bayes_predicted_binary'\n",
    "y_pred_nb = pd.DataFrame(y_pred_nb, index=y_new.index)\n",
    "\n",
    "pred_df = pd.concat([df_test_pred, pd.DataFrame(y_pred_lgr), pd.DataFrame(y_pred_nb)], axis=1).reset_index(drop=True)"
   ]
  },
  {
   "cell_type": "code",
   "execution_count": 23,
   "id": "adult-damages",
   "metadata": {},
   "outputs": [
    {
     "name": "stdout",
     "output_type": "stream",
     "text": [
      "\n",
      "Guessing Game: See if a Randomly selected comment was predicted correctly!\n",
      "\n",
      "Actual Value:           AMA\n",
      "  (Index: 183)\n",
      "\n",
      "Naive Bayes is:         CORRECT!\n",
      "Prediction:             AMA\n",
      "\n",
      "\n",
      "Logistic Regression is: CORRECT!\n",
      "Prediction:             AMA\n",
      "\n"
     ]
    }
   ],
   "source": [
    "check_p = pred_df.sample(1)\n",
    "idx = check_p.index[0]\n",
    "# idx = 5 # Try these values to see where they differ: 1 # 5 # 19 # 22\n",
    "\n",
    "actual_out = np.where(pred_df.iloc[idx]['subreddit_binary'] == 0, 'AMA', 'AskReddit')\n",
    "pred_out_lgr = np.where(pred_df.iloc[idx]['logreg_predicted_binary'] == 0, 'AMA', 'AskReddit')\n",
    "is_match_lgr = np.where(actual_out == pred_out_lgr, 'CORRECT!', 'wrong!')\n",
    "\n",
    "actual_out = np.where(pred_df.iloc[idx]['subreddit_binary'] == 0, 'AMA', 'AskReddit')\n",
    "pred_out_nb = np.where(pred_df.iloc[idx]['bayes_predicted_binary'] == 0, 'AMA', 'AskReddit')\n",
    "is_match_nb = np.where(actual_out == pred_out_nb, 'CORRECT!', 'wrong!')\n",
    "\n",
    "print(f'\\nGuessing Game: See if a Randomly selected comment was predicted correctly!')\n",
    "print(f\"\\nActual Value:           {actual_out}\")\n",
    "print(f'  (Index: {idx})')\n",
    "\n",
    "print(f'\\nNaive Bayes is:         {is_match_nb}')\n",
    "print(f\"Prediction:             {pred_out_nb}\\n\")\n",
    "\n",
    "print(f'\\nLogistic Regression is: {is_match_lgr}')\n",
    "print(f\"Prediction:             {pred_out_lgr}\\n\")\n"
   ]
  },
  {
   "cell_type": "code",
   "execution_count": 20,
   "id": "several-authorization",
   "metadata": {},
   "outputs": [
    {
     "data": {
      "text/plain": [
       "40"
      ]
     },
     "execution_count": 20,
     "metadata": {},
     "output_type": "execute_result"
    }
   ],
   "source": [
    "# Number of entries that differ between Logistic Regression and Naive Bayes\n",
    "pred_df[pred_df['logreg_predicted_binary'] != pred_df['bayes_predicted_binary']]['subreddit_binary'].sort_index().sum()"
   ]
  },
  {
   "cell_type": "code",
   "execution_count": 21,
   "id": "purple-group",
   "metadata": {},
   "outputs": [],
   "source": [
    "# where Logistic Regression and Naive Bayes Differ, sorted by index.\n",
    "# pred_df[pred_df['logreg_predicted_binary'] != pred_df['bayes_predicted_binary']]['subreddit_binary'].sort_index()"
   ]
  },
  {
   "cell_type": "code",
   "execution_count": null,
   "id": "representative-apparel",
   "metadata": {},
   "outputs": [],
   "source": []
  }
 ],
 "metadata": {
  "kernelspec": {
   "display_name": "Python 3",
   "language": "python",
   "name": "python3"
  },
  "language_info": {
   "codemirror_mode": {
    "name": "ipython",
    "version": 3
   },
   "file_extension": ".py",
   "mimetype": "text/x-python",
   "name": "python",
   "nbconvert_exporter": "python",
   "pygments_lexer": "ipython3",
   "version": "3.9.2"
  }
 },
 "nbformat": 4,
 "nbformat_minor": 5
}
