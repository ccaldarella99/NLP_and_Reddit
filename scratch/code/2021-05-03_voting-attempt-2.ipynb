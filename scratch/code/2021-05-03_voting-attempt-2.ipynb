{
 "cells": [
  {
   "cell_type": "markdown",
   "id": "significant-religious",
   "metadata": {},
   "source": [
    "# Model Stuff"
   ]
  },
  {
   "cell_type": "code",
   "execution_count": 1,
   "id": "virtual-kernel",
   "metadata": {},
   "outputs": [],
   "source": [
    "# from ipynb.fs.full.functions import *\n",
    "from ipynb.fs.full.functions_stream_env import *\n",
    "import spacy"
   ]
  },
  {
   "cell_type": "code",
   "execution_count": 2,
   "id": "spanish-intermediate",
   "metadata": {},
   "outputs": [],
   "source": [
    "# Data to create our model\n",
    "dfa = pd.read_csv('../data/ama_comments.csv')\n",
    "dfb = pd.read_csv('../data/ar_comments.csv')\n",
    "df = pd.concat([dfa, dfb], axis=0)\n",
    "df = CleanUp(df).df.copy()"
   ]
  },
  {
   "cell_type": "code",
   "execution_count": 3,
   "id": "disabled-shaft",
   "metadata": {},
   "outputs": [],
   "source": [
    "# Model X, and y\n",
    "df = df.sample(n=df.shape[0], random_state=3)\n",
    "\n",
    "X = df['body']\n",
    "y = df['subreddit_binary']\n",
    "\n",
    "X_train, X_test, y_train, y_test = train_test_split(X, y, stratify=y, random_state=3)"
   ]
  },
  {
   "cell_type": "code",
   "execution_count": 5,
   "id": "amazing-midnight",
   "metadata": {},
   "outputs": [],
   "source": [
    "# TEST data (not part of train/test/split)\n",
    "df1 = pd.read_csv('../data/2021-04-27_1812_AMA_comments.csv')\n",
    "df2 = pd.read_csv('../data/2021-04-27_1812_AskReddit_comments.csv')\n",
    "df_test_pred = pd.concat([df1, df2], axis=0)\n",
    "df_test_pred = CleanUp(df_test_pred).df.copy()"
   ]
  },
  {
   "cell_type": "code",
   "execution_count": 6,
   "id": "annoying-guess",
   "metadata": {},
   "outputs": [],
   "source": [
    "df_test_pred = df_test_pred.sample(n=df_test_pred.shape[0], random_state=3)\n",
    "\n",
    "X_new = df_test_pred['body']\n",
    "y_new = df_test_pred['subreddit_binary'] "
   ]
  },
  {
   "cell_type": "code",
   "execution_count": null,
   "id": "reported-investigation",
   "metadata": {},
   "outputs": [],
   "source": []
  },
  {
   "cell_type": "code",
   "execution_count": null,
   "id": "outdoor-literature",
   "metadata": {},
   "outputs": [],
   "source": []
  },
  {
   "cell_type": "markdown",
   "id": "mysterious-oregon",
   "metadata": {},
   "source": [
    "<h2 style=\"color:black;\"> (gridsearch) TfidfVectorizer(), LogisiticRegression() </h2>\n",
    "\n",
    "#### BEST Params:\n",
    " - max_features: \n",
    " - ngram_range: \n",
    " - stop_words: "
   ]
  },
  {
   "cell_type": "code",
   "execution_count": 7,
   "id": "chicken-subject",
   "metadata": {},
   "outputs": [],
   "source": [
    "\n",
    "gs_tv_lgr = ClassificationModel(make_pipeline(\n",
    "    TfidfVectorizer(), \n",
    "    LogisticRegression()), \n",
    "    X_train, X_test, y_train, y_test,\n",
    "    params={\n",
    "        'tfidfvectorizer__ngram_range': [ (1, 1), (1, 2), (2, 2), (1, 3), (2, 3), (3, 3) ],\n",
    "        'tfidfvectorizer__stop_words': [ 'english', None ],\n",
    "        'tfidfvectorizer__max_features': [ 500, 1000, 2000, 5000 ]\n",
    "}, verbose=3, mod_name='Train/Test Tfidf LogReg')\n",
    "\n"
   ]
  },
  {
   "cell_type": "code",
   "execution_count": 8,
   "id": "auburn-spray",
   "metadata": {},
   "outputs": [],
   "source": [
    "\n",
    "X_gs_tv_lgr = ClassificationModel(make_pipeline(\n",
    "    TfidfVectorizer(), \n",
    "    LogisticRegression()), \n",
    "    X_train=X, X_test=X_new, y_train=y, y_test=y_new,\n",
    "    params={\n",
    "        'tfidfvectorizer__ngram_range': [ (1, 1), (1, 2), (2, 2), (1, 3), (2, 3), (3, 3) ],\n",
    "        'tfidfvectorizer__stop_words': [ 'english', None ],\n",
    "        'tfidfvectorizer__max_features': [ 500, 1000, 2000, 5000 ]\n",
    "}, verbose=3, mod_name='Xy/new Tfidf LogReg')\n",
    "\n"
   ]
  },
  {
   "cell_type": "markdown",
   "id": "medieval-party",
   "metadata": {},
   "source": [
    "<h2> (gridsearch) TfidfVectorizer(), MultinomialNB() </h2>\n"
   ]
  },
  {
   "cell_type": "code",
   "execution_count": 9,
   "id": "nervous-duration",
   "metadata": {},
   "outputs": [],
   "source": [
    "gs_tv_nb = ClassificationModel(make_pipeline(\n",
    "    TfidfVectorizer(), \n",
    "    MultinomialNB()), \n",
    "    X_train, X_test, y_train, y_test,\n",
    "    params={\n",
    "        'tfidfvectorizer__ngram_range': [ (1, 1), (1, 2), (2, 2), (1, 3), (2, 3), (3, 3) ],\n",
    "        'tfidfvectorizer__stop_words': [ 'english', None ],\n",
    "        'tfidfvectorizer__max_features': [ 500, 1000, 2000, 5000 ]\n",
    "}, verbose=3, mod_name='Train/Test Tfidf nBayes')\n",
    "\n"
   ]
  },
  {
   "cell_type": "code",
   "execution_count": 10,
   "id": "coordinate-values",
   "metadata": {},
   "outputs": [],
   "source": [
    "X_gs_tv_nb = ClassificationModel(make_pipeline(\n",
    "    TfidfVectorizer(), \n",
    "    MultinomialNB()), \n",
    "    X, X_new, y, y_new,\n",
    "    params={\n",
    "        'tfidfvectorizer__ngram_range': [ (1, 1), (1, 2), (2, 2), (1, 3), (2, 3), (3, 3) ],\n",
    "        'tfidfvectorizer__stop_words': [ 'english', None ],\n",
    "        'tfidfvectorizer__max_features': [ 500, 1000, 2000, 5000 ]\n",
    "}, verbose=3, mod_name='Xy/new Tfidf nBayes')\n"
   ]
  },
  {
   "cell_type": "markdown",
   "id": "existing-courage",
   "metadata": {},
   "source": [
    "### MAKE MODEL FUNCTION(S)"
   ]
  },
  {
   "cell_type": "code",
   "execution_count": 11,
   "id": "boring-banks",
   "metadata": {},
   "outputs": [],
   "source": [
    "from sklearn.ensemble import VotingClassifier"
   ]
  },
  {
   "cell_type": "markdown",
   "id": "floppy-shame",
   "metadata": {},
   "source": [
    "### GridSearch Voting Ensemble\n",
    "## Logistic Regression + Naive Bayes"
   ]
  },
  {
   "cell_type": "code",
   "execution_count": 12,
   "id": "improved-rental",
   "metadata": {},
   "outputs": [],
   "source": [
    "vote_lgr_gsbayes = VotingClassifier(\n",
    "    [('gs_nb', gs_tv_nb.model), \n",
    "     ('lgr', gs_tv_lgr.model)],\n",
    "    weights=[ 0.4, 0.6 ]\n",
    ")"
   ]
  },
  {
   "cell_type": "code",
   "execution_count": 13,
   "id": "conservative-alias",
   "metadata": {},
   "outputs": [
    {
     "data": {
      "text/plain": [
       "array([[0, 0],\n",
       "       [0, 0],\n",
       "       [1, 1],\n",
       "       ...,\n",
       "       [0, 1],\n",
       "       [1, 1],\n",
       "       [1, 1]], dtype=int64)"
      ]
     },
     "execution_count": 13,
     "metadata": {},
     "output_type": "execute_result"
    }
   ],
   "source": [
    "vote_lgr_gsbayes.fit_transform(X_train, y_train)"
   ]
  },
  {
   "cell_type": "code",
   "execution_count": 14,
   "id": "charged-indianapolis",
   "metadata": {},
   "outputs": [
    {
     "data": {
      "text/plain": [
       "0.7275603005140372"
      ]
     },
     "execution_count": 14,
     "metadata": {},
     "output_type": "execute_result"
    }
   ],
   "source": [
    "y_pred_lgr_gsbayes = vote_lgr_gsbayes.predict(X_test)\n",
    "\n",
    "f1_score(y_test, y_pred_lgr_gsbayes)"
   ]
  },
  {
   "cell_type": "code",
   "execution_count": 15,
   "id": "hidden-novel",
   "metadata": {},
   "outputs": [
    {
     "data": {
      "text/plain": [
       "<sklearn.metrics._plot.confusion_matrix.ConfusionMatrixDisplay at 0x22b349b25e0>"
      ]
     },
     "execution_count": 15,
     "metadata": {},
     "output_type": "execute_result"
    },
    {
     "data": {
      "image/png": "[encoded data removed]",
      "text/plain": [
       "<Figure size 432x288 with 2 Axes>"
      ]
     },
     "metadata": {
      "needs_background": "light"
     },
     "output_type": "display_data"
    }
   ],
   "source": [
    "plot_confusion_matrix(vote_lgr_gsbayes, X_test, y_test)"
   ]
  },
  {
   "cell_type": "code",
   "execution_count": 16,
   "id": "first-liechtenstein",
   "metadata": {},
   "outputs": [],
   "source": [
    "vote_X_lgr_gsbayes = VotingClassifier(\n",
    "    [('gs_nb', X_gs_tv_nb.model), \n",
    "     ('lgr', X_gs_tv_lgr.model)],\n",
    "    weights=[ 0.4, 0.6 ]\n",
    ")"
   ]
  },
  {
   "cell_type": "code",
   "execution_count": 17,
   "id": "known-essex",
   "metadata": {},
   "outputs": [
    {
     "data": {
      "text/plain": [
       "array([[0, 1],\n",
       "       [1, 1],\n",
       "       [0, 1],\n",
       "       ...,\n",
       "       [1, 1],\n",
       "       [0, 0],\n",
       "       [1, 1]], dtype=int64)"
      ]
     },
     "execution_count": 17,
     "metadata": {},
     "output_type": "execute_result"
    }
   ],
   "source": [
    "vote_X_lgr_gsbayes.fit_transform(X, y)"
   ]
  },
  {
   "cell_type": "code",
   "execution_count": 18,
   "id": "previous-hampton",
   "metadata": {},
   "outputs": [
    {
     "data": {
      "text/plain": [
       "0.6696078431372549"
      ]
     },
     "execution_count": 18,
     "metadata": {},
     "output_type": "execute_result"
    }
   ],
   "source": [
    "y_new_pred_lgr_gsbayes = vote_X_lgr_gsbayes.predict(X_new)\n",
    "\n",
    "f1_score(y_new, y_new_pred_lgr_gsbayes)"
   ]
  },
  {
   "cell_type": "code",
   "execution_count": 19,
   "id": "centered-colonial",
   "metadata": {},
   "outputs": [
    {
     "data": {
      "text/plain": [
       "<sklearn.metrics._plot.confusion_matrix.ConfusionMatrixDisplay at 0x22b67208b20>"
      ]
     },
     "execution_count": 19,
     "metadata": {},
     "output_type": "execute_result"
    },
    {
     "data": {
      "image/png": "[encoded data removed]",
      "text/plain": [
       "<Figure size 432x288 with 2 Axes>"
      ]
     },
     "metadata": {
      "needs_background": "light"
     },
     "output_type": "display_data"
    }
   ],
   "source": [
    "plot_confusion_matrix(vote_X_lgr_gsbayes, X_new, y_new)"
   ]
  },
  {
   "cell_type": "code",
   "execution_count": 33,
   "id": "unnecessary-volume",
   "metadata": {},
   "outputs": [
    {
     "data": {
      "text/plain": [
       "{'F1 Score': 0.6696078431372549,\n",
       " 'Recall Score': 0.6997950819672131,\n",
       " 'Accuracy Score': 0.6564729867482161,\n",
       " 'Balanced Accuracy': 0.6566926728294483,\n",
       " 'Precision Score': 0.6419172932330827,\n",
       " 'True Positive': 683,\n",
       " 'False Negative': 293,\n",
       " 'False Positive': 381,\n",
       " 'True Negative': 605,\n",
       " 'Calculated Accuracy': 0.6564729867482161,\n",
       " 'Calculated Precision': 0.6419172932330827,\n",
       " 'Calculated Sensitivity': 0.6997950819672131,\n",
       " 'Calculated Specificity': 0.6135902636916836}"
      ]
     },
     "execution_count": 33,
     "metadata": {},
     "output_type": "execute_result"
    }
   ],
   "source": [
    "print_classification_stats(y_new, y_new_pred_lgr_gsbayes)"
   ]
  },
  {
   "cell_type": "code",
   "execution_count": 34,
   "id": "diagnostic-sheffield",
   "metadata": {},
   "outputs": [],
   "source": [
    "from sklearn.metrics import classification_report"
   ]
  },
  {
   "cell_type": "code",
   "execution_count": 36,
   "id": "boolean-parallel",
   "metadata": {},
   "outputs": [
    {
     "name": "stdout",
     "output_type": "stream",
     "text": [
      "              precision    recall  f1-score   support\n",
      "\n",
      "           0       0.67      0.61      0.64       986\n",
      "           1       0.64      0.70      0.67       976\n",
      "\n",
      "    accuracy                           0.66      1962\n",
      "   macro avg       0.66      0.66      0.66      1962\n",
      "weighted avg       0.66      0.66      0.66      1962\n",
      "\n"
     ]
    }
   ],
   "source": [
    "print(classification_report(y_new, y_new_pred_lgr_gsbayes))"
   ]
  },
  {
   "cell_type": "code",
   "execution_count": null,
   "id": "atmospheric-value",
   "metadata": {},
   "outputs": [],
   "source": []
  },
  {
   "cell_type": "code",
   "execution_count": null,
   "id": "front-insert",
   "metadata": {},
   "outputs": [],
   "source": []
  },
  {
   "cell_type": "code",
   "execution_count": null,
   "id": "dressed-notion",
   "metadata": {},
   "outputs": [],
   "source": []
  },
  {
   "cell_type": "code",
   "execution_count": null,
   "id": "composed-softball",
   "metadata": {},
   "outputs": [],
   "source": []
  }
 ],
 "metadata": {
  "kernelspec": {
   "display_name": "Python 3",
   "language": "python",
   "name": "python3"
  },
  "language_info": {
   "codemirror_mode": {
    "name": "ipython",
    "version": 3
   },
   "file_extension": ".py",
   "mimetype": "text/x-python",
   "name": "python",
   "nbconvert_exporter": "python",
   "pygments_lexer": "ipython3",
   "version": "3.9.2"
  }
 },
 "nbformat": 4,
 "nbformat_minor": 5
}
