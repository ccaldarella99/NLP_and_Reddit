{
 "cells": [
  {
   "cell_type": "markdown",
   "id": "serial-white",
   "metadata": {},
   "source": [
    "# Bayes Stuff"
   ]
  },
  {
   "cell_type": "code",
   "execution_count": 1,
   "id": "second-formula",
   "metadata": {},
   "outputs": [],
   "source": [
    "# (Uncomment and) Run this cell to properly import from another Jupyter Notebook (in this case my functions notebook)\n",
    "# !pip install ipynb"
   ]
  },
  {
   "cell_type": "code",
   "execution_count": 2,
   "id": "eleven-asbestos",
   "metadata": {},
   "outputs": [],
   "source": [
    "from ipynb.fs.full.functions import *"
   ]
  },
  {
   "cell_type": "code",
   "execution_count": 3,
   "id": "military-buddy",
   "metadata": {},
   "outputs": [
    {
     "data": {
      "text/plain": [
       "(9760, 14)"
      ]
     },
     "execution_count": 3,
     "metadata": {},
     "output_type": "execute_result"
    }
   ],
   "source": [
    "df = pd.read_csv('../data/clean_data.csv')\n",
    "df.shape"
   ]
  },
  {
   "cell_type": "code",
   "execution_count": 4,
   "id": "exciting-workplace",
   "metadata": {},
   "outputs": [
    {
     "data": {
      "text/html": [
       "<div>\n",
       "<style scoped>\n",
       "    .dataframe tbody tr th:only-of-type {\n",
       "        vertical-align: middle;\n",
       "    }\n",
       "\n",
       "    .dataframe tbody tr th {\n",
       "        vertical-align: top;\n",
       "    }\n",
       "\n",
       "    .dataframe thead th {\n",
       "        text-align: right;\n",
       "    }\n",
       "</style>\n",
       "<table border=\"1\" class=\"dataframe\">\n",
       "  <thead>\n",
       "    <tr style=\"text-align: right;\">\n",
       "      <th></th>\n",
       "      <th>Unnamed: 0</th>\n",
       "      <th>author</th>\n",
       "      <th>author_fullname</th>\n",
       "      <th>author_premium</th>\n",
       "      <th>body</th>\n",
       "      <th>id</th>\n",
       "      <th>is_submitter</th>\n",
       "      <th>link_id</th>\n",
       "      <th>no_follow</th>\n",
       "      <th>parent_id</th>\n",
       "      <th>score</th>\n",
       "      <th>send_replies</th>\n",
       "      <th>subreddit</th>\n",
       "      <th>total_awards_received</th>\n",
       "    </tr>\n",
       "  </thead>\n",
       "  <tbody>\n",
       "    <tr>\n",
       "      <th>0</th>\n",
       "      <td>0</td>\n",
       "      <td>AgronLovesSteel</td>\n",
       "      <td>t2_68gsl4ib</td>\n",
       "      <td>False</td>\n",
       "      <td>Omg sooo good just finished! Gotta have some f...</td>\n",
       "      <td>gvrcgqn</td>\n",
       "      <td>True</td>\n",
       "      <td>t3_mxukth</td>\n",
       "      <td>True</td>\n",
       "      <td>t1_gvrccgy</td>\n",
       "      <td>1</td>\n",
       "      <td>True</td>\n",
       "      <td>AMA</td>\n",
       "      <td>0</td>\n",
       "    </tr>\n",
       "    <tr>\n",
       "      <th>1</th>\n",
       "      <td>1</td>\n",
       "      <td>Adventurous-Mess9304</td>\n",
       "      <td>t2_8x6i6s4f</td>\n",
       "      <td>False</td>\n",
       "      <td>Great answer</td>\n",
       "      <td>gvrcf1t</td>\n",
       "      <td>False</td>\n",
       "      <td>t3_mxnfsk</td>\n",
       "      <td>True</td>\n",
       "      <td>t1_gvqnjl0</td>\n",
       "      <td>2</td>\n",
       "      <td>True</td>\n",
       "      <td>AMA</td>\n",
       "      <td>0</td>\n",
       "    </tr>\n",
       "    <tr>\n",
       "      <th>2</th>\n",
       "      <td>2</td>\n",
       "      <td>ab901</td>\n",
       "      <td>t2_6cyel9fk</td>\n",
       "      <td>False</td>\n",
       "      <td>thank you for serving and protecting!</td>\n",
       "      <td>gvrcd04</td>\n",
       "      <td>False</td>\n",
       "      <td>t3_mxnfsk</td>\n",
       "      <td>True</td>\n",
       "      <td>t3_mxnfsk</td>\n",
       "      <td>1</td>\n",
       "      <td>True</td>\n",
       "      <td>AMA</td>\n",
       "      <td>0</td>\n",
       "    </tr>\n",
       "    <tr>\n",
       "      <th>3</th>\n",
       "      <td>4</td>\n",
       "      <td>pardo92</td>\n",
       "      <td>t2_uckdfgu</td>\n",
       "      <td>False</td>\n",
       "      <td>Im sure they brighten the place up :) hows the...</td>\n",
       "      <td>gvrccgy</td>\n",
       "      <td>False</td>\n",
       "      <td>t3_mxukth</td>\n",
       "      <td>True</td>\n",
       "      <td>t1_gvrc8ir</td>\n",
       "      <td>1</td>\n",
       "      <td>True</td>\n",
       "      <td>AMA</td>\n",
       "      <td>0</td>\n",
       "    </tr>\n",
       "    <tr>\n",
       "      <th>4</th>\n",
       "      <td>5</td>\n",
       "      <td>strawberrycreampie</td>\n",
       "      <td>t2_7vozh</td>\n",
       "      <td>False</td>\n",
       "      <td>yes, i would have needed the gun. im much too ...</td>\n",
       "      <td>gvrcaz0</td>\n",
       "      <td>True</td>\n",
       "      <td>t3_mxi3xq</td>\n",
       "      <td>True</td>\n",
       "      <td>t1_gvoquax</td>\n",
       "      <td>1</td>\n",
       "      <td>True</td>\n",
       "      <td>AMA</td>\n",
       "      <td>0</td>\n",
       "    </tr>\n",
       "  </tbody>\n",
       "</table>\n",
       "</div>"
      ],
      "text/plain": [
       "   Unnamed: 0                author author_fullname  author_premium  \\\n",
       "0           0       AgronLovesSteel     t2_68gsl4ib           False   \n",
       "1           1  Adventurous-Mess9304     t2_8x6i6s4f           False   \n",
       "2           2                 ab901     t2_6cyel9fk           False   \n",
       "3           4               pardo92      t2_uckdfgu           False   \n",
       "4           5    strawberrycreampie        t2_7vozh           False   \n",
       "\n",
       "                                                body       id  is_submitter  \\\n",
       "0  Omg sooo good just finished! Gotta have some f...  gvrcgqn          True   \n",
       "1                                       Great answer  gvrcf1t         False   \n",
       "2              thank you for serving and protecting!  gvrcd04         False   \n",
       "3  Im sure they brighten the place up :) hows the...  gvrccgy         False   \n",
       "4  yes, i would have needed the gun. im much too ...  gvrcaz0          True   \n",
       "\n",
       "     link_id  no_follow   parent_id  score  send_replies subreddit  \\\n",
       "0  t3_mxukth       True  t1_gvrccgy      1          True       AMA   \n",
       "1  t3_mxnfsk       True  t1_gvqnjl0      2          True       AMA   \n",
       "2  t3_mxnfsk       True   t3_mxnfsk      1          True       AMA   \n",
       "3  t3_mxukth       True  t1_gvrc8ir      1          True       AMA   \n",
       "4  t3_mxi3xq       True  t1_gvoquax      1          True       AMA   \n",
       "\n",
       "   total_awards_received  \n",
       "0                      0  \n",
       "1                      0  \n",
       "2                      0  \n",
       "3                      0  \n",
       "4                      0  "
      ]
     },
     "execution_count": 4,
     "metadata": {},
     "output_type": "execute_result"
    }
   ],
   "source": [
    "#df = df[['author', 'body', 'score', 'subreddit']]\n",
    "df.head()"
   ]
  },
  {
   "cell_type": "code",
   "execution_count": 5,
   "id": "established-verification",
   "metadata": {},
   "outputs": [
    {
     "data": {
      "text/plain": [
       "Unnamed: 0               0\n",
       "author                   0\n",
       "author_fullname          0\n",
       "author_premium           0\n",
       "body                     0\n",
       "id                       0\n",
       "is_submitter             0\n",
       "link_id                  0\n",
       "no_follow                0\n",
       "parent_id                0\n",
       "score                    0\n",
       "send_replies             0\n",
       "subreddit                0\n",
       "total_awards_received    0\n",
       "dtype: int64"
      ]
     },
     "execution_count": 5,
     "metadata": {},
     "output_type": "execute_result"
    }
   ],
   "source": [
    "df.isna().sum()"
   ]
  },
  {
   "cell_type": "code",
   "execution_count": 6,
   "id": "insured-james",
   "metadata": {},
   "outputs": [],
   "source": [
    "df['subreddit_binary'] = np.where(df['subreddit'] == 'AMA', 0, 1)"
   ]
  },
  {
   "cell_type": "code",
   "execution_count": 7,
   "id": "amino-notice",
   "metadata": {},
   "outputs": [
    {
     "data": {
      "text/html": [
       "<div>\n",
       "<style scoped>\n",
       "    .dataframe tbody tr th:only-of-type {\n",
       "        vertical-align: middle;\n",
       "    }\n",
       "\n",
       "    .dataframe tbody tr th {\n",
       "        vertical-align: top;\n",
       "    }\n",
       "\n",
       "    .dataframe thead th {\n",
       "        text-align: right;\n",
       "    }\n",
       "</style>\n",
       "<table border=\"1\" class=\"dataframe\">\n",
       "  <thead>\n",
       "    <tr style=\"text-align: right;\">\n",
       "      <th></th>\n",
       "      <th>Unnamed: 0</th>\n",
       "      <th>author</th>\n",
       "      <th>author_fullname</th>\n",
       "      <th>author_premium</th>\n",
       "      <th>body</th>\n",
       "      <th>id</th>\n",
       "      <th>is_submitter</th>\n",
       "      <th>link_id</th>\n",
       "      <th>no_follow</th>\n",
       "      <th>parent_id</th>\n",
       "      <th>score</th>\n",
       "      <th>send_replies</th>\n",
       "      <th>subreddit</th>\n",
       "      <th>total_awards_received</th>\n",
       "      <th>subreddit_binary</th>\n",
       "    </tr>\n",
       "  </thead>\n",
       "  <tbody>\n",
       "    <tr>\n",
       "      <th>0</th>\n",
       "      <td>0</td>\n",
       "      <td>AgronLovesSteel</td>\n",
       "      <td>t2_68gsl4ib</td>\n",
       "      <td>False</td>\n",
       "      <td>Omg sooo good just finished! Gotta have some f...</td>\n",
       "      <td>gvrcgqn</td>\n",
       "      <td>True</td>\n",
       "      <td>t3_mxukth</td>\n",
       "      <td>True</td>\n",
       "      <td>t1_gvrccgy</td>\n",
       "      <td>1</td>\n",
       "      <td>True</td>\n",
       "      <td>AMA</td>\n",
       "      <td>0</td>\n",
       "      <td>0</td>\n",
       "    </tr>\n",
       "    <tr>\n",
       "      <th>1</th>\n",
       "      <td>1</td>\n",
       "      <td>Adventurous-Mess9304</td>\n",
       "      <td>t2_8x6i6s4f</td>\n",
       "      <td>False</td>\n",
       "      <td>Great answer</td>\n",
       "      <td>gvrcf1t</td>\n",
       "      <td>False</td>\n",
       "      <td>t3_mxnfsk</td>\n",
       "      <td>True</td>\n",
       "      <td>t1_gvqnjl0</td>\n",
       "      <td>2</td>\n",
       "      <td>True</td>\n",
       "      <td>AMA</td>\n",
       "      <td>0</td>\n",
       "      <td>0</td>\n",
       "    </tr>\n",
       "    <tr>\n",
       "      <th>2</th>\n",
       "      <td>2</td>\n",
       "      <td>ab901</td>\n",
       "      <td>t2_6cyel9fk</td>\n",
       "      <td>False</td>\n",
       "      <td>thank you for serving and protecting!</td>\n",
       "      <td>gvrcd04</td>\n",
       "      <td>False</td>\n",
       "      <td>t3_mxnfsk</td>\n",
       "      <td>True</td>\n",
       "      <td>t3_mxnfsk</td>\n",
       "      <td>1</td>\n",
       "      <td>True</td>\n",
       "      <td>AMA</td>\n",
       "      <td>0</td>\n",
       "      <td>0</td>\n",
       "    </tr>\n",
       "    <tr>\n",
       "      <th>3</th>\n",
       "      <td>4</td>\n",
       "      <td>pardo92</td>\n",
       "      <td>t2_uckdfgu</td>\n",
       "      <td>False</td>\n",
       "      <td>Im sure they brighten the place up :) hows the...</td>\n",
       "      <td>gvrccgy</td>\n",
       "      <td>False</td>\n",
       "      <td>t3_mxukth</td>\n",
       "      <td>True</td>\n",
       "      <td>t1_gvrc8ir</td>\n",
       "      <td>1</td>\n",
       "      <td>True</td>\n",
       "      <td>AMA</td>\n",
       "      <td>0</td>\n",
       "      <td>0</td>\n",
       "    </tr>\n",
       "    <tr>\n",
       "      <th>4</th>\n",
       "      <td>5</td>\n",
       "      <td>strawberrycreampie</td>\n",
       "      <td>t2_7vozh</td>\n",
       "      <td>False</td>\n",
       "      <td>yes, i would have needed the gun. im much too ...</td>\n",
       "      <td>gvrcaz0</td>\n",
       "      <td>True</td>\n",
       "      <td>t3_mxi3xq</td>\n",
       "      <td>True</td>\n",
       "      <td>t1_gvoquax</td>\n",
       "      <td>1</td>\n",
       "      <td>True</td>\n",
       "      <td>AMA</td>\n",
       "      <td>0</td>\n",
       "      <td>0</td>\n",
       "    </tr>\n",
       "    <tr>\n",
       "      <th>...</th>\n",
       "      <td>...</td>\n",
       "      <td>...</td>\n",
       "      <td>...</td>\n",
       "      <td>...</td>\n",
       "      <td>...</td>\n",
       "      <td>...</td>\n",
       "      <td>...</td>\n",
       "      <td>...</td>\n",
       "      <td>...</td>\n",
       "      <td>...</td>\n",
       "      <td>...</td>\n",
       "      <td>...</td>\n",
       "      <td>...</td>\n",
       "      <td>...</td>\n",
       "      <td>...</td>\n",
       "    </tr>\n",
       "    <tr>\n",
       "      <th>9755</th>\n",
       "      <td>9995</td>\n",
       "      <td>Chief_BRUH</td>\n",
       "      <td>t2_rz6p1</td>\n",
       "      <td>False</td>\n",
       "      <td>Bruh</td>\n",
       "      <td>gvrcwi6</td>\n",
       "      <td>False</td>\n",
       "      <td>t3_mxf4dl</td>\n",
       "      <td>True</td>\n",
       "      <td>t1_gvor24q</td>\n",
       "      <td>1</td>\n",
       "      <td>True</td>\n",
       "      <td>AskReddit</td>\n",
       "      <td>0</td>\n",
       "      <td>1</td>\n",
       "    </tr>\n",
       "    <tr>\n",
       "      <th>9756</th>\n",
       "      <td>9996</td>\n",
       "      <td>thelemonx</td>\n",
       "      <td>t2_kj5x6</td>\n",
       "      <td>False</td>\n",
       "      <td>Pretty much all herbivores are.  People think ...</td>\n",
       "      <td>gvrcwhi</td>\n",
       "      <td>False</td>\n",
       "      <td>t3_mxqjly</td>\n",
       "      <td>False</td>\n",
       "      <td>t1_gvqzlil</td>\n",
       "      <td>50</td>\n",
       "      <td>True</td>\n",
       "      <td>AskReddit</td>\n",
       "      <td>0</td>\n",
       "      <td>1</td>\n",
       "    </tr>\n",
       "    <tr>\n",
       "      <th>9757</th>\n",
       "      <td>9997</td>\n",
       "      <td>dieinafirenazi</td>\n",
       "      <td>t2_3y2z14a7</td>\n",
       "      <td>False</td>\n",
       "      <td>A rat in an enriching environment (other rats ...</td>\n",
       "      <td>gvrcwgr</td>\n",
       "      <td>False</td>\n",
       "      <td>t3_mxnf10</td>\n",
       "      <td>False</td>\n",
       "      <td>t1_gvr51zw</td>\n",
       "      <td>37</td>\n",
       "      <td>True</td>\n",
       "      <td>AskReddit</td>\n",
       "      <td>0</td>\n",
       "      <td>1</td>\n",
       "    </tr>\n",
       "    <tr>\n",
       "      <th>9758</th>\n",
       "      <td>9998</td>\n",
       "      <td>theFLORIDAman04</td>\n",
       "      <td>t2_5dmamdcl</td>\n",
       "      <td>False</td>\n",
       "      <td>\"You are the worst child I have had\" or the cl...</td>\n",
       "      <td>gvrcwgl</td>\n",
       "      <td>False</td>\n",
       "      <td>t3_mxf4dl</td>\n",
       "      <td>True</td>\n",
       "      <td>t3_mxf4dl</td>\n",
       "      <td>1</td>\n",
       "      <td>True</td>\n",
       "      <td>AskReddit</td>\n",
       "      <td>0</td>\n",
       "      <td>1</td>\n",
       "    </tr>\n",
       "    <tr>\n",
       "      <th>9759</th>\n",
       "      <td>9999</td>\n",
       "      <td>pyro57</td>\n",
       "      <td>t2_pi0y0</td>\n",
       "      <td>False</td>\n",
       "      <td>Super sorry to hear that bud... It does suck, ...</td>\n",
       "      <td>gvrcwek</td>\n",
       "      <td>False</td>\n",
       "      <td>t3_mxuzpo</td>\n",
       "      <td>True</td>\n",
       "      <td>t1_gvrcrj8</td>\n",
       "      <td>2</td>\n",
       "      <td>True</td>\n",
       "      <td>AskReddit</td>\n",
       "      <td>0</td>\n",
       "      <td>1</td>\n",
       "    </tr>\n",
       "  </tbody>\n",
       "</table>\n",
       "<p>9760 rows × 15 columns</p>\n",
       "</div>"
      ],
      "text/plain": [
       "      Unnamed: 0                author author_fullname  author_premium  \\\n",
       "0              0       AgronLovesSteel     t2_68gsl4ib           False   \n",
       "1              1  Adventurous-Mess9304     t2_8x6i6s4f           False   \n",
       "2              2                 ab901     t2_6cyel9fk           False   \n",
       "3              4               pardo92      t2_uckdfgu           False   \n",
       "4              5    strawberrycreampie        t2_7vozh           False   \n",
       "...          ...                   ...             ...             ...   \n",
       "9755        9995            Chief_BRUH        t2_rz6p1           False   \n",
       "9756        9996             thelemonx        t2_kj5x6           False   \n",
       "9757        9997        dieinafirenazi     t2_3y2z14a7           False   \n",
       "9758        9998       theFLORIDAman04     t2_5dmamdcl           False   \n",
       "9759        9999                pyro57        t2_pi0y0           False   \n",
       "\n",
       "                                                   body       id  \\\n",
       "0     Omg sooo good just finished! Gotta have some f...  gvrcgqn   \n",
       "1                                          Great answer  gvrcf1t   \n",
       "2                 thank you for serving and protecting!  gvrcd04   \n",
       "3     Im sure they brighten the place up :) hows the...  gvrccgy   \n",
       "4     yes, i would have needed the gun. im much too ...  gvrcaz0   \n",
       "...                                                 ...      ...   \n",
       "9755                                               Bruh  gvrcwi6   \n",
       "9756  Pretty much all herbivores are.  People think ...  gvrcwhi   \n",
       "9757  A rat in an enriching environment (other rats ...  gvrcwgr   \n",
       "9758  \"You are the worst child I have had\" or the cl...  gvrcwgl   \n",
       "9759  Super sorry to hear that bud... It does suck, ...  gvrcwek   \n",
       "\n",
       "      is_submitter    link_id  no_follow   parent_id  score  send_replies  \\\n",
       "0             True  t3_mxukth       True  t1_gvrccgy      1          True   \n",
       "1            False  t3_mxnfsk       True  t1_gvqnjl0      2          True   \n",
       "2            False  t3_mxnfsk       True   t3_mxnfsk      1          True   \n",
       "3            False  t3_mxukth       True  t1_gvrc8ir      1          True   \n",
       "4             True  t3_mxi3xq       True  t1_gvoquax      1          True   \n",
       "...            ...        ...        ...         ...    ...           ...   \n",
       "9755         False  t3_mxf4dl       True  t1_gvor24q      1          True   \n",
       "9756         False  t3_mxqjly      False  t1_gvqzlil     50          True   \n",
       "9757         False  t3_mxnf10      False  t1_gvr51zw     37          True   \n",
       "9758         False  t3_mxf4dl       True   t3_mxf4dl      1          True   \n",
       "9759         False  t3_mxuzpo       True  t1_gvrcrj8      2          True   \n",
       "\n",
       "      subreddit  total_awards_received  subreddit_binary  \n",
       "0           AMA                      0                 0  \n",
       "1           AMA                      0                 0  \n",
       "2           AMA                      0                 0  \n",
       "3           AMA                      0                 0  \n",
       "4           AMA                      0                 0  \n",
       "...         ...                    ...               ...  \n",
       "9755  AskReddit                      0                 1  \n",
       "9756  AskReddit                      0                 1  \n",
       "9757  AskReddit                      0                 1  \n",
       "9758  AskReddit                      0                 1  \n",
       "9759  AskReddit                      0                 1  \n",
       "\n",
       "[9760 rows x 15 columns]"
      ]
     },
     "execution_count": 7,
     "metadata": {},
     "output_type": "execute_result"
    }
   ],
   "source": [
    "df['body'] = np.where(df['body'] == '[deleted]', np.nan, df['body'])\n",
    "df"
   ]
  },
  {
   "cell_type": "code",
   "execution_count": 8,
   "id": "growing-vaccine",
   "metadata": {},
   "outputs": [
    {
     "data": {
      "text/plain": [
       "Unnamed: 0               0\n",
       "author                   0\n",
       "author_fullname          0\n",
       "author_premium           0\n",
       "body                     0\n",
       "id                       0\n",
       "is_submitter             0\n",
       "link_id                  0\n",
       "no_follow                0\n",
       "parent_id                0\n",
       "score                    0\n",
       "send_replies             0\n",
       "subreddit                0\n",
       "total_awards_received    0\n",
       "subreddit_binary         0\n",
       "dtype: int64"
      ]
     },
     "execution_count": 8,
     "metadata": {},
     "output_type": "execute_result"
    }
   ],
   "source": [
    "df.isna().sum()"
   ]
  },
  {
   "cell_type": "code",
   "execution_count": 9,
   "id": "dominican-inside",
   "metadata": {},
   "outputs": [
    {
     "data": {
      "text/html": [
       "<div>\n",
       "<style scoped>\n",
       "    .dataframe tbody tr th:only-of-type {\n",
       "        vertical-align: middle;\n",
       "    }\n",
       "\n",
       "    .dataframe tbody tr th {\n",
       "        vertical-align: top;\n",
       "    }\n",
       "\n",
       "    .dataframe thead th {\n",
       "        text-align: right;\n",
       "    }\n",
       "</style>\n",
       "<table border=\"1\" class=\"dataframe\">\n",
       "  <thead>\n",
       "    <tr style=\"text-align: right;\">\n",
       "      <th></th>\n",
       "      <th>Unnamed: 0</th>\n",
       "      <th>author</th>\n",
       "      <th>author_fullname</th>\n",
       "      <th>author_premium</th>\n",
       "      <th>body</th>\n",
       "      <th>id</th>\n",
       "      <th>is_submitter</th>\n",
       "      <th>link_id</th>\n",
       "      <th>no_follow</th>\n",
       "      <th>parent_id</th>\n",
       "      <th>score</th>\n",
       "      <th>send_replies</th>\n",
       "      <th>subreddit</th>\n",
       "      <th>total_awards_received</th>\n",
       "      <th>subreddit_binary</th>\n",
       "    </tr>\n",
       "  </thead>\n",
       "  <tbody>\n",
       "    <tr>\n",
       "      <th>0</th>\n",
       "      <td>0</td>\n",
       "      <td>AgronLovesSteel</td>\n",
       "      <td>t2_68gsl4ib</td>\n",
       "      <td>False</td>\n",
       "      <td>Omg sooo good just finished! Gotta have some f...</td>\n",
       "      <td>gvrcgqn</td>\n",
       "      <td>True</td>\n",
       "      <td>t3_mxukth</td>\n",
       "      <td>True</td>\n",
       "      <td>t1_gvrccgy</td>\n",
       "      <td>1</td>\n",
       "      <td>True</td>\n",
       "      <td>AMA</td>\n",
       "      <td>0</td>\n",
       "      <td>0</td>\n",
       "    </tr>\n",
       "    <tr>\n",
       "      <th>1</th>\n",
       "      <td>1</td>\n",
       "      <td>Adventurous-Mess9304</td>\n",
       "      <td>t2_8x6i6s4f</td>\n",
       "      <td>False</td>\n",
       "      <td>Great answer</td>\n",
       "      <td>gvrcf1t</td>\n",
       "      <td>False</td>\n",
       "      <td>t3_mxnfsk</td>\n",
       "      <td>True</td>\n",
       "      <td>t1_gvqnjl0</td>\n",
       "      <td>2</td>\n",
       "      <td>True</td>\n",
       "      <td>AMA</td>\n",
       "      <td>0</td>\n",
       "      <td>0</td>\n",
       "    </tr>\n",
       "    <tr>\n",
       "      <th>2</th>\n",
       "      <td>2</td>\n",
       "      <td>ab901</td>\n",
       "      <td>t2_6cyel9fk</td>\n",
       "      <td>False</td>\n",
       "      <td>thank you for serving and protecting!</td>\n",
       "      <td>gvrcd04</td>\n",
       "      <td>False</td>\n",
       "      <td>t3_mxnfsk</td>\n",
       "      <td>True</td>\n",
       "      <td>t3_mxnfsk</td>\n",
       "      <td>1</td>\n",
       "      <td>True</td>\n",
       "      <td>AMA</td>\n",
       "      <td>0</td>\n",
       "      <td>0</td>\n",
       "    </tr>\n",
       "    <tr>\n",
       "      <th>3</th>\n",
       "      <td>4</td>\n",
       "      <td>pardo92</td>\n",
       "      <td>t2_uckdfgu</td>\n",
       "      <td>False</td>\n",
       "      <td>Im sure they brighten the place up :) hows the...</td>\n",
       "      <td>gvrccgy</td>\n",
       "      <td>False</td>\n",
       "      <td>t3_mxukth</td>\n",
       "      <td>True</td>\n",
       "      <td>t1_gvrc8ir</td>\n",
       "      <td>1</td>\n",
       "      <td>True</td>\n",
       "      <td>AMA</td>\n",
       "      <td>0</td>\n",
       "      <td>0</td>\n",
       "    </tr>\n",
       "    <tr>\n",
       "      <th>4</th>\n",
       "      <td>5</td>\n",
       "      <td>strawberrycreampie</td>\n",
       "      <td>t2_7vozh</td>\n",
       "      <td>False</td>\n",
       "      <td>yes, i would have needed the gun. im much too ...</td>\n",
       "      <td>gvrcaz0</td>\n",
       "      <td>True</td>\n",
       "      <td>t3_mxi3xq</td>\n",
       "      <td>True</td>\n",
       "      <td>t1_gvoquax</td>\n",
       "      <td>1</td>\n",
       "      <td>True</td>\n",
       "      <td>AMA</td>\n",
       "      <td>0</td>\n",
       "      <td>0</td>\n",
       "    </tr>\n",
       "    <tr>\n",
       "      <th>...</th>\n",
       "      <td>...</td>\n",
       "      <td>...</td>\n",
       "      <td>...</td>\n",
       "      <td>...</td>\n",
       "      <td>...</td>\n",
       "      <td>...</td>\n",
       "      <td>...</td>\n",
       "      <td>...</td>\n",
       "      <td>...</td>\n",
       "      <td>...</td>\n",
       "      <td>...</td>\n",
       "      <td>...</td>\n",
       "      <td>...</td>\n",
       "      <td>...</td>\n",
       "      <td>...</td>\n",
       "    </tr>\n",
       "    <tr>\n",
       "      <th>9755</th>\n",
       "      <td>9995</td>\n",
       "      <td>Chief_BRUH</td>\n",
       "      <td>t2_rz6p1</td>\n",
       "      <td>False</td>\n",
       "      <td>Bruh</td>\n",
       "      <td>gvrcwi6</td>\n",
       "      <td>False</td>\n",
       "      <td>t3_mxf4dl</td>\n",
       "      <td>True</td>\n",
       "      <td>t1_gvor24q</td>\n",
       "      <td>1</td>\n",
       "      <td>True</td>\n",
       "      <td>AskReddit</td>\n",
       "      <td>0</td>\n",
       "      <td>1</td>\n",
       "    </tr>\n",
       "    <tr>\n",
       "      <th>9756</th>\n",
       "      <td>9996</td>\n",
       "      <td>thelemonx</td>\n",
       "      <td>t2_kj5x6</td>\n",
       "      <td>False</td>\n",
       "      <td>Pretty much all herbivores are.  People think ...</td>\n",
       "      <td>gvrcwhi</td>\n",
       "      <td>False</td>\n",
       "      <td>t3_mxqjly</td>\n",
       "      <td>False</td>\n",
       "      <td>t1_gvqzlil</td>\n",
       "      <td>50</td>\n",
       "      <td>True</td>\n",
       "      <td>AskReddit</td>\n",
       "      <td>0</td>\n",
       "      <td>1</td>\n",
       "    </tr>\n",
       "    <tr>\n",
       "      <th>9757</th>\n",
       "      <td>9997</td>\n",
       "      <td>dieinafirenazi</td>\n",
       "      <td>t2_3y2z14a7</td>\n",
       "      <td>False</td>\n",
       "      <td>A rat in an enriching environment (other rats ...</td>\n",
       "      <td>gvrcwgr</td>\n",
       "      <td>False</td>\n",
       "      <td>t3_mxnf10</td>\n",
       "      <td>False</td>\n",
       "      <td>t1_gvr51zw</td>\n",
       "      <td>37</td>\n",
       "      <td>True</td>\n",
       "      <td>AskReddit</td>\n",
       "      <td>0</td>\n",
       "      <td>1</td>\n",
       "    </tr>\n",
       "    <tr>\n",
       "      <th>9758</th>\n",
       "      <td>9998</td>\n",
       "      <td>theFLORIDAman04</td>\n",
       "      <td>t2_5dmamdcl</td>\n",
       "      <td>False</td>\n",
       "      <td>\"You are the worst child I have had\" or the cl...</td>\n",
       "      <td>gvrcwgl</td>\n",
       "      <td>False</td>\n",
       "      <td>t3_mxf4dl</td>\n",
       "      <td>True</td>\n",
       "      <td>t3_mxf4dl</td>\n",
       "      <td>1</td>\n",
       "      <td>True</td>\n",
       "      <td>AskReddit</td>\n",
       "      <td>0</td>\n",
       "      <td>1</td>\n",
       "    </tr>\n",
       "    <tr>\n",
       "      <th>9759</th>\n",
       "      <td>9999</td>\n",
       "      <td>pyro57</td>\n",
       "      <td>t2_pi0y0</td>\n",
       "      <td>False</td>\n",
       "      <td>Super sorry to hear that bud... It does suck, ...</td>\n",
       "      <td>gvrcwek</td>\n",
       "      <td>False</td>\n",
       "      <td>t3_mxuzpo</td>\n",
       "      <td>True</td>\n",
       "      <td>t1_gvrcrj8</td>\n",
       "      <td>2</td>\n",
       "      <td>True</td>\n",
       "      <td>AskReddit</td>\n",
       "      <td>0</td>\n",
       "      <td>1</td>\n",
       "    </tr>\n",
       "  </tbody>\n",
       "</table>\n",
       "<p>9760 rows × 15 columns</p>\n",
       "</div>"
      ],
      "text/plain": [
       "      Unnamed: 0                author author_fullname  author_premium  \\\n",
       "0              0       AgronLovesSteel     t2_68gsl4ib           False   \n",
       "1              1  Adventurous-Mess9304     t2_8x6i6s4f           False   \n",
       "2              2                 ab901     t2_6cyel9fk           False   \n",
       "3              4               pardo92      t2_uckdfgu           False   \n",
       "4              5    strawberrycreampie        t2_7vozh           False   \n",
       "...          ...                   ...             ...             ...   \n",
       "9755        9995            Chief_BRUH        t2_rz6p1           False   \n",
       "9756        9996             thelemonx        t2_kj5x6           False   \n",
       "9757        9997        dieinafirenazi     t2_3y2z14a7           False   \n",
       "9758        9998       theFLORIDAman04     t2_5dmamdcl           False   \n",
       "9759        9999                pyro57        t2_pi0y0           False   \n",
       "\n",
       "                                                   body       id  \\\n",
       "0     Omg sooo good just finished! Gotta have some f...  gvrcgqn   \n",
       "1                                          Great answer  gvrcf1t   \n",
       "2                 thank you for serving and protecting!  gvrcd04   \n",
       "3     Im sure they brighten the place up :) hows the...  gvrccgy   \n",
       "4     yes, i would have needed the gun. im much too ...  gvrcaz0   \n",
       "...                                                 ...      ...   \n",
       "9755                                               Bruh  gvrcwi6   \n",
       "9756  Pretty much all herbivores are.  People think ...  gvrcwhi   \n",
       "9757  A rat in an enriching environment (other rats ...  gvrcwgr   \n",
       "9758  \"You are the worst child I have had\" or the cl...  gvrcwgl   \n",
       "9759  Super sorry to hear that bud... It does suck, ...  gvrcwek   \n",
       "\n",
       "      is_submitter    link_id  no_follow   parent_id  score  send_replies  \\\n",
       "0             True  t3_mxukth       True  t1_gvrccgy      1          True   \n",
       "1            False  t3_mxnfsk       True  t1_gvqnjl0      2          True   \n",
       "2            False  t3_mxnfsk       True   t3_mxnfsk      1          True   \n",
       "3            False  t3_mxukth       True  t1_gvrc8ir      1          True   \n",
       "4             True  t3_mxi3xq       True  t1_gvoquax      1          True   \n",
       "...            ...        ...        ...         ...    ...           ...   \n",
       "9755         False  t3_mxf4dl       True  t1_gvor24q      1          True   \n",
       "9756         False  t3_mxqjly      False  t1_gvqzlil     50          True   \n",
       "9757         False  t3_mxnf10      False  t1_gvr51zw     37          True   \n",
       "9758         False  t3_mxf4dl       True   t3_mxf4dl      1          True   \n",
       "9759         False  t3_mxuzpo       True  t1_gvrcrj8      2          True   \n",
       "\n",
       "      subreddit  total_awards_received  subreddit_binary  \n",
       "0           AMA                      0                 0  \n",
       "1           AMA                      0                 0  \n",
       "2           AMA                      0                 0  \n",
       "3           AMA                      0                 0  \n",
       "4           AMA                      0                 0  \n",
       "...         ...                    ...               ...  \n",
       "9755  AskReddit                      0                 1  \n",
       "9756  AskReddit                      0                 1  \n",
       "9757  AskReddit                      0                 1  \n",
       "9758  AskReddit                      0                 1  \n",
       "9759  AskReddit                      0                 1  \n",
       "\n",
       "[9760 rows x 15 columns]"
      ]
     },
     "execution_count": 9,
     "metadata": {},
     "output_type": "execute_result"
    }
   ],
   "source": [
    "df.dropna(inplace=True)\n",
    "df"
   ]
  },
  {
   "cell_type": "code",
   "execution_count": 10,
   "id": "compound-giving",
   "metadata": {},
   "outputs": [
    {
     "data": {
      "text/plain": [
       "Index(['Unnamed: 0', 'author', 'author_fullname', 'author_premium', 'body',\n",
       "       'id', 'is_submitter', 'link_id', 'no_follow', 'parent_id', 'score',\n",
       "       'send_replies', 'subreddit', 'total_awards_received',\n",
       "       'subreddit_binary'],\n",
       "      dtype='object')"
      ]
     },
     "execution_count": 10,
     "metadata": {},
     "output_type": "execute_result"
    }
   ],
   "source": [
    "df.columns"
   ]
  },
  {
   "cell_type": "code",
   "execution_count": 11,
   "id": "geographic-germany",
   "metadata": {},
   "outputs": [],
   "source": [
    "# X = df.drop(columns=['subreddit_binary', 'subreddit']) #['body']\n",
    "X = df['body']\n",
    "y = df['subreddit_binary']"
   ]
  },
  {
   "cell_type": "code",
   "execution_count": 12,
   "id": "champion-server",
   "metadata": {},
   "outputs": [],
   "source": [
    "X_train, X_test, y_train, y_test = train_test_split(X, y, random_state=3)"
   ]
  },
  {
   "cell_type": "code",
   "execution_count": 13,
   "id": "extraordinary-ivory",
   "metadata": {},
   "outputs": [
    {
     "data": {
      "text/plain": [
       "((7320,), (7320,))"
      ]
     },
     "execution_count": 13,
     "metadata": {},
     "output_type": "execute_result"
    }
   ],
   "source": [
    "(X_train.shape, y_train.shape)"
   ]
  },
  {
   "cell_type": "code",
   "execution_count": 14,
   "id": "tamil-bosnia",
   "metadata": {},
   "outputs": [
    {
     "data": {
      "text/plain": [
       "((2440,), (2440,))"
      ]
     },
     "execution_count": 14,
     "metadata": {},
     "output_type": "execute_result"
    }
   ],
   "source": [
    "(X_test.shape, y_test.shape)"
   ]
  },
  {
   "cell_type": "code",
   "execution_count": 15,
   "id": "digital-router",
   "metadata": {},
   "outputs": [],
   "source": [
    "#vectorize\n",
    "cvect = CountVectorizer(stop_words='english', max_features=500, ngram_range=(1,3))\n",
    "X_train_cvect = cvect.fit_transform(X_train)"
   ]
  },
  {
   "cell_type": "code",
   "execution_count": 16,
   "id": "lyric-circus",
   "metadata": {},
   "outputs": [],
   "source": [
    "#vectorize\n",
    "tvect = TfidfVectorizer(stop_words='english', max_features=500, ngram_range=(1,3))\n",
    "X_train_tvect = cvect.fit_transform(X_train)"
   ]
  },
  {
   "cell_type": "code",
   "execution_count": 17,
   "id": "clinical-crack",
   "metadata": {},
   "outputs": [],
   "source": [
    "#X_train_cvect."
   ]
  },
  {
   "cell_type": "code",
   "execution_count": 18,
   "id": "spanish-turner",
   "metadata": {},
   "outputs": [],
   "source": [
    "c_bayes = MultinomialNB()"
   ]
  },
  {
   "cell_type": "code",
   "execution_count": 19,
   "id": "applied-dialogue",
   "metadata": {},
   "outputs": [
    {
     "data": {
      "text/plain": [
       "MultinomialNB()"
      ]
     },
     "execution_count": 19,
     "metadata": {},
     "output_type": "execute_result"
    }
   ],
   "source": [
    "c_bayes.fit(X_train_cvect, y_train)"
   ]
  },
  {
   "cell_type": "code",
   "execution_count": 20,
   "id": "automatic-lloyd",
   "metadata": {},
   "outputs": [
    {
     "data": {
      "text/plain": [
       "0.5961748633879781"
      ]
     },
     "execution_count": 20,
     "metadata": {},
     "output_type": "execute_result"
    }
   ],
   "source": [
    "c_bayes.score(X_train_cvect, y_train)"
   ]
  },
  {
   "cell_type": "code",
   "execution_count": 21,
   "id": "italian-living",
   "metadata": {},
   "outputs": [],
   "source": [
    "t_bayes = MultinomialNB()"
   ]
  },
  {
   "cell_type": "code",
   "execution_count": 22,
   "id": "crazy-magazine",
   "metadata": {},
   "outputs": [
    {
     "data": {
      "text/plain": [
       "MultinomialNB()"
      ]
     },
     "execution_count": 22,
     "metadata": {},
     "output_type": "execute_result"
    }
   ],
   "source": [
    "t_bayes.fit(X_train_tvect, y_train)"
   ]
  },
  {
   "cell_type": "code",
   "execution_count": 23,
   "id": "systematic-solid",
   "metadata": {},
   "outputs": [
    {
     "data": {
      "text/plain": [
       "0.5961748633879781"
      ]
     },
     "execution_count": 23,
     "metadata": {},
     "output_type": "execute_result"
    }
   ],
   "source": [
    "t_bayes.score(X_train_tvect, y_train)"
   ]
  },
  {
   "cell_type": "code",
   "execution_count": 61,
   "id": "rough-moisture",
   "metadata": {},
   "outputs": [
    {
     "data": {
      "text/plain": [
       "0    4893\n",
       "1    4867\n",
       "Name: subreddit_binary, dtype: int64"
      ]
     },
     "execution_count": 61,
     "metadata": {},
     "output_type": "execute_result"
    }
   ],
   "source": [
    "y.value_counts()"
   ]
  },
  {
   "cell_type": "code",
   "execution_count": 24,
   "id": "demonstrated-baghdad",
   "metadata": {},
   "outputs": [
    {
     "data": {
      "text/plain": [
       "0    0.501332\n",
       "1    0.498668\n",
       "Name: subreddit_binary, dtype: float64"
      ]
     },
     "execution_count": 24,
     "metadata": {},
     "output_type": "execute_result"
    }
   ],
   "source": [
    "y.value_counts(normalize=True)"
   ]
  },
  {
   "cell_type": "code",
   "execution_count": null,
   "id": "needed-removal",
   "metadata": {},
   "outputs": [],
   "source": []
  },
  {
   "cell_type": "code",
   "execution_count": 25,
   "id": "toxic-contemporary",
   "metadata": {},
   "outputs": [
    {
     "name": "stdout",
     "output_type": "stream",
     "text": [
      "Fitting 5 folds for each of 40 candidates, totalling 200 fits\n",
      "CountVector/Bayes Train: 0.7781420765027323\n",
      "CountVector/Bayes Test:  0.7004098360655737\n",
      "CountVector/Bayes Best Params:\n",
      "{'countvectorizer__max_features': 5000, 'countvectorizer__ngram_range': (1, 1), 'countvectorizer__stop_words': None}\n",
      "CountVector/Bayes Best Estimator:\n",
      "Pipeline(steps=[('countvectorizer', CountVectorizer(max_features=5000)),\n",
      "                ('multinomialnb', MultinomialNB())])\n"
     ]
    }
   ],
   "source": [
    "pipe_cb = make_pipeline(CountVectorizer(), MultinomialNB())\n",
    "params_cb = { \n",
    "    'countvectorizer__stop_words': [ 'english', None ],\n",
    "    'countvectorizer__ngram_range': [ (1,1), (1,2), (2,2), (2,3), (3,3) ],\n",
    "    'countvectorizer__max_features': [ 500, 1000, 2000, 5000 ]\n",
    "}\n",
    "\n",
    "gs_cb = GridSearchCV(pipe_cb, params_cb, n_jobs=-1, verbose=2)\n",
    "gs_cb.fit(X_train, y_train)\n",
    "\n",
    "print(f'CountVector/Bayes Train: {gs_cb.score(X_train, y_train)}')\n",
    "print(f'CountVector/Bayes Test:  {gs_cb.score(X_test, y_test)}')\n",
    "print(f'CountVector/Bayes Best Params:\\n{gs_cb.best_params_}')\n",
    "print(f'CountVector/Bayes Best Estimator:\\n{gs_cb.best_estimator_}')"
   ]
  },
  {
   "cell_type": "code",
   "execution_count": null,
   "id": "dominant-digit",
   "metadata": {},
   "outputs": [],
   "source": []
  },
  {
   "cell_type": "code",
   "execution_count": 26,
   "id": "prerequisite-ceremony",
   "metadata": {},
   "outputs": [
    {
     "name": "stdout",
     "output_type": "stream",
     "text": [
      "Fitting 5 folds for each of 40 candidates, totalling 200 fits\n",
      "CountVector/Bayes Train: 0.8188524590163935\n",
      "CountVector/Bayes Test:  0.7045081967213115\n",
      "CountVector/Bayes Best Params:\n",
      "{'tfidfvectorizer__max_features': 5000, 'tfidfvectorizer__ngram_range': (1, 1), 'tfidfvectorizer__stop_words': None}\n",
      "CountVector/Bayes Best Estimator:\n",
      "Pipeline(steps=[('tfidfvectorizer', TfidfVectorizer(max_features=5000)),\n",
      "                ('multinomialnb', MultinomialNB())])\n"
     ]
    }
   ],
   "source": [
    "pipe_tb = make_pipeline(TfidfVectorizer(), MultinomialNB())\n",
    "params_tb = { \n",
    "    'tfidfvectorizer__stop_words': [ 'english', None ],\n",
    "    'tfidfvectorizer__ngram_range': [ (1,1), (1,2), (2,2), (2,3), (3,3) ],\n",
    "    'tfidfvectorizer__max_features': [ 500, 1000, 2000, 5000 ]\n",
    "}\n",
    "\n",
    "gs_tb = GridSearchCV(pipe_tb, params_tb, n_jobs=-1, verbose=2)\n",
    "gs_tb.fit(X_train, y_train)\n",
    "\n",
    "print(f'CountVector/Bayes Train: {gs_tb.score(X_train, y_train)}')\n",
    "print(f'CountVector/Bayes Test:  {gs_tb.score(X_test, y_test)}')\n",
    "print(f'CountVector/Bayes Best Params:\\n{gs_tb.best_params_}')\n",
    "print(f'CountVector/Bayes Best Estimator:\\n{gs_tb.best_estimator_}')"
   ]
  },
  {
   "cell_type": "code",
   "execution_count": null,
   "id": "genetic-heath",
   "metadata": {},
   "outputs": [],
   "source": []
  },
  {
   "cell_type": "code",
   "execution_count": 27,
   "id": "smart-anderson",
   "metadata": {},
   "outputs": [
    {
     "name": "stdout",
     "output_type": "stream",
     "text": [
      "Fitting 5 folds for each of 40 candidates, totalling 200 fits\n",
      "CountVector/Bayes Train: 0.7644467213114754\n",
      "CountVector/Bayes Best Params:\n",
      "{'countvectorizer__max_features': 5000, 'countvectorizer__ngram_range': (1, 1), 'countvectorizer__stop_words': None}\n",
      "CountVector/Bayes Best Estimator:\n",
      "Pipeline(steps=[('countvectorizer', CountVectorizer(max_features=5000)),\n",
      "                ('multinomialnb', MultinomialNB())])\n"
     ]
    }
   ],
   "source": [
    "gs_cb.fit(X, y)\n",
    "\n",
    "print(f'CountVector/Bayes Train: {gs_cb.score(X, y)}')\n",
    "print(f'CountVector/Bayes Best Params:\\n{gs_cb.best_params_}')\n",
    "print(f'CountVector/Bayes Best Estimator:\\n{gs_cb.best_estimator_}')"
   ]
  },
  {
   "cell_type": "code",
   "execution_count": 28,
   "id": "literary-equipment",
   "metadata": {},
   "outputs": [
    {
     "name": "stdout",
     "output_type": "stream",
     "text": [
      "Fitting 5 folds for each of 40 candidates, totalling 200 fits\n",
      "CountVector/Bayes Train: 0.8070696721311476\n",
      "CountVector/Bayes Best Params:\n",
      "{'tfidfvectorizer__max_features': 5000, 'tfidfvectorizer__ngram_range': (1, 1), 'tfidfvectorizer__stop_words': None}\n",
      "CountVector/Bayes Best Estimator:\n",
      "Pipeline(steps=[('tfidfvectorizer', TfidfVectorizer(max_features=5000)),\n",
      "                ('multinomialnb', MultinomialNB())])\n"
     ]
    }
   ],
   "source": [
    "gs_tb.fit(X, y)\n",
    "print(f'CountVector/Bayes Train: {gs_tb.score(X, y)}')\n",
    "print(f'CountVector/Bayes Best Params:\\n{gs_tb.best_params_}')\n",
    "print(f'CountVector/Bayes Best Estimator:\\n{gs_tb.best_estimator_}')\n"
   ]
  },
  {
   "cell_type": "code",
   "execution_count": null,
   "id": "former-designation",
   "metadata": {},
   "outputs": [],
   "source": []
  },
  {
   "cell_type": "code",
   "execution_count": 29,
   "id": "insured-waste",
   "metadata": {},
   "outputs": [],
   "source": [
    "# read in 2 new csv files and predict\n",
    "\n",
    "df1 = pd.read_csv('../data/2021-04-27_1812_AMA_comments.csv')\n",
    "df2 = pd.read_csv('../data/2021-04-27_1812_AskReddit_comments.csv')"
   ]
  },
  {
   "cell_type": "code",
   "execution_count": 30,
   "id": "civilian-window",
   "metadata": {},
   "outputs": [
    {
     "data": {
      "text/plain": [
       "(2000, 37)"
      ]
     },
     "execution_count": 30,
     "metadata": {},
     "output_type": "execute_result"
    }
   ],
   "source": [
    "df_test_pred = pd.concat([df1, df2], axis=0)\n",
    "df_test_pred.shape"
   ]
  },
  {
   "cell_type": "code",
   "execution_count": 31,
   "id": "dated-school",
   "metadata": {},
   "outputs": [
    {
     "data": {
      "text/html": [
       "<div>\n",
       "<style scoped>\n",
       "    .dataframe tbody tr th:only-of-type {\n",
       "        vertical-align: middle;\n",
       "    }\n",
       "\n",
       "    .dataframe tbody tr th {\n",
       "        vertical-align: top;\n",
       "    }\n",
       "\n",
       "    .dataframe thead th {\n",
       "        text-align: right;\n",
       "    }\n",
       "</style>\n",
       "<table border=\"1\" class=\"dataframe\">\n",
       "  <thead>\n",
       "    <tr style=\"text-align: right;\">\n",
       "      <th></th>\n",
       "      <th>author</th>\n",
       "      <th>body</th>\n",
       "      <th>score</th>\n",
       "      <th>subreddit</th>\n",
       "    </tr>\n",
       "  </thead>\n",
       "  <tbody>\n",
       "    <tr>\n",
       "      <th>0</th>\n",
       "      <td>lilyorwhatever</td>\n",
       "      <td>because i have the itis</td>\n",
       "      <td>0</td>\n",
       "      <td>AMA</td>\n",
       "    </tr>\n",
       "    <tr>\n",
       "      <th>1</th>\n",
       "      <td>rockerarjun</td>\n",
       "      <td>Really sorry to hear this :(</td>\n",
       "      <td>2</td>\n",
       "      <td>AMA</td>\n",
       "    </tr>\n",
       "    <tr>\n",
       "      <th>2</th>\n",
       "      <td>nimitz12</td>\n",
       "      <td>Joakim is 40</td>\n",
       "      <td>1</td>\n",
       "      <td>AMA</td>\n",
       "    </tr>\n",
       "    <tr>\n",
       "      <th>3</th>\n",
       "      <td>nimitz12</td>\n",
       "      <td>Joakim is 40, not you so I have minimal concer...</td>\n",
       "      <td>1</td>\n",
       "      <td>AMA</td>\n",
       "    </tr>\n",
       "    <tr>\n",
       "      <th>4</th>\n",
       "      <td>Prim3stSkeletron</td>\n",
       "      <td>Why</td>\n",
       "      <td>1</td>\n",
       "      <td>AMA</td>\n",
       "    </tr>\n",
       "  </tbody>\n",
       "</table>\n",
       "</div>"
      ],
      "text/plain": [
       "             author                                               body  score  \\\n",
       "0    lilyorwhatever                            because i have the itis      0   \n",
       "1       rockerarjun                       Really sorry to hear this :(      2   \n",
       "2          nimitz12                                       Joakim is 40      1   \n",
       "3          nimitz12  Joakim is 40, not you so I have minimal concer...      1   \n",
       "4  Prim3stSkeletron                                                Why      1   \n",
       "\n",
       "  subreddit  \n",
       "0       AMA  \n",
       "1       AMA  \n",
       "2       AMA  \n",
       "3       AMA  \n",
       "4       AMA  "
      ]
     },
     "execution_count": 31,
     "metadata": {},
     "output_type": "execute_result"
    }
   ],
   "source": [
    "df_test_pred = df_test_pred[['author', 'body', 'score', 'subreddit']]\n",
    "df_test_pred.head()"
   ]
  },
  {
   "cell_type": "code",
   "execution_count": 32,
   "id": "hungarian-disability",
   "metadata": {},
   "outputs": [],
   "source": [
    "df_test_pred['subreddit_binary'] = np.where(df_test_pred['subreddit'] == 'AMA', 0, 1)\n"
   ]
  },
  {
   "cell_type": "code",
   "execution_count": 44,
   "id": "brown-palmer",
   "metadata": {},
   "outputs": [],
   "source": [
    "df_test_pred.drop_duplicates(inplace=True)"
   ]
  },
  {
   "cell_type": "code",
   "execution_count": 45,
   "id": "nominated-somewhere",
   "metadata": {},
   "outputs": [
    {
     "data": {
      "text/html": [
       "<div>\n",
       "<style scoped>\n",
       "    .dataframe tbody tr th:only-of-type {\n",
       "        vertical-align: middle;\n",
       "    }\n",
       "\n",
       "    .dataframe tbody tr th {\n",
       "        vertical-align: top;\n",
       "    }\n",
       "\n",
       "    .dataframe thead th {\n",
       "        text-align: right;\n",
       "    }\n",
       "</style>\n",
       "<table border=\"1\" class=\"dataframe\">\n",
       "  <thead>\n",
       "    <tr style=\"text-align: right;\">\n",
       "      <th></th>\n",
       "      <th>author</th>\n",
       "      <th>body</th>\n",
       "      <th>score</th>\n",
       "      <th>subreddit</th>\n",
       "      <th>subreddit_binary</th>\n",
       "    </tr>\n",
       "  </thead>\n",
       "  <tbody>\n",
       "    <tr>\n",
       "      <th>0</th>\n",
       "      <td>lilyorwhatever</td>\n",
       "      <td>because i have the itis</td>\n",
       "      <td>0</td>\n",
       "      <td>AMA</td>\n",
       "      <td>0</td>\n",
       "    </tr>\n",
       "    <tr>\n",
       "      <th>1</th>\n",
       "      <td>rockerarjun</td>\n",
       "      <td>Really sorry to hear this :(</td>\n",
       "      <td>2</td>\n",
       "      <td>AMA</td>\n",
       "      <td>0</td>\n",
       "    </tr>\n",
       "    <tr>\n",
       "      <th>2</th>\n",
       "      <td>nimitz12</td>\n",
       "      <td>Joakim is 40</td>\n",
       "      <td>1</td>\n",
       "      <td>AMA</td>\n",
       "      <td>0</td>\n",
       "    </tr>\n",
       "    <tr>\n",
       "      <th>3</th>\n",
       "      <td>nimitz12</td>\n",
       "      <td>Joakim is 40, not you so I have minimal concer...</td>\n",
       "      <td>1</td>\n",
       "      <td>AMA</td>\n",
       "      <td>0</td>\n",
       "    </tr>\n",
       "    <tr>\n",
       "      <th>4</th>\n",
       "      <td>Prim3stSkeletron</td>\n",
       "      <td>Why</td>\n",
       "      <td>1</td>\n",
       "      <td>AMA</td>\n",
       "      <td>0</td>\n",
       "    </tr>\n",
       "    <tr>\n",
       "      <th>...</th>\n",
       "      <td>...</td>\n",
       "      <td>...</td>\n",
       "      <td>...</td>\n",
       "      <td>...</td>\n",
       "      <td>...</td>\n",
       "    </tr>\n",
       "    <tr>\n",
       "      <th>995</th>\n",
       "      <td>Cuppycake191219</td>\n",
       "      <td>That people will hate u for no fckn reason. It...</td>\n",
       "      <td>2</td>\n",
       "      <td>AskReddit</td>\n",
       "      <td>1</td>\n",
       "    </tr>\n",
       "    <tr>\n",
       "      <th>996</th>\n",
       "      <td>mildly-damp-toast</td>\n",
       "      <td>Spongebob: It’s the Best Day Ever</td>\n",
       "      <td>1</td>\n",
       "      <td>AskReddit</td>\n",
       "      <td>1</td>\n",
       "    </tr>\n",
       "    <tr>\n",
       "      <th>997</th>\n",
       "      <td>shirk-work</td>\n",
       "      <td>Pickles</td>\n",
       "      <td>2</td>\n",
       "      <td>AskReddit</td>\n",
       "      <td>1</td>\n",
       "    </tr>\n",
       "    <tr>\n",
       "      <th>998</th>\n",
       "      <td>changeableLandscape</td>\n",
       "      <td>I remember both doing this to see if people I ...</td>\n",
       "      <td>1</td>\n",
       "      <td>AskReddit</td>\n",
       "      <td>1</td>\n",
       "    </tr>\n",
       "    <tr>\n",
       "      <th>999</th>\n",
       "      <td>thechosenL</td>\n",
       "      <td>architecture probably</td>\n",
       "      <td>2</td>\n",
       "      <td>AskReddit</td>\n",
       "      <td>1</td>\n",
       "    </tr>\n",
       "  </tbody>\n",
       "</table>\n",
       "<p>1935 rows × 5 columns</p>\n",
       "</div>"
      ],
      "text/plain": [
       "                  author                                               body  \\\n",
       "0         lilyorwhatever                            because i have the itis   \n",
       "1            rockerarjun                       Really sorry to hear this :(   \n",
       "2               nimitz12                                       Joakim is 40   \n",
       "3               nimitz12  Joakim is 40, not you so I have minimal concer...   \n",
       "4       Prim3stSkeletron                                                Why   \n",
       "..                   ...                                                ...   \n",
       "995      Cuppycake191219  That people will hate u for no fckn reason. It...   \n",
       "996    mildly-damp-toast                  Spongebob: It’s the Best Day Ever   \n",
       "997           shirk-work                                            Pickles   \n",
       "998  changeableLandscape  I remember both doing this to see if people I ...   \n",
       "999           thechosenL                              architecture probably   \n",
       "\n",
       "     score  subreddit  subreddit_binary  \n",
       "0        0        AMA                 0  \n",
       "1        2        AMA                 0  \n",
       "2        1        AMA                 0  \n",
       "3        1        AMA                 0  \n",
       "4        1        AMA                 0  \n",
       "..     ...        ...               ...  \n",
       "995      2  AskReddit                 1  \n",
       "996      1  AskReddit                 1  \n",
       "997      2  AskReddit                 1  \n",
       "998      1  AskReddit                 1  \n",
       "999      2  AskReddit                 1  \n",
       "\n",
       "[1935 rows x 5 columns]"
      ]
     },
     "execution_count": 45,
     "metadata": {},
     "output_type": "execute_result"
    }
   ],
   "source": [
    "df_test_pred['body'] = np.where(df_test_pred['body'] == '[deleted]', np.nan, df_test_pred['body'])\n",
    "df_test_pred.dropna(inplace=True)\n",
    "df_test_pred"
   ]
  },
  {
   "cell_type": "code",
   "execution_count": 46,
   "id": "convenient-aviation",
   "metadata": {},
   "outputs": [],
   "source": [
    "X_test_pred = df_test_pred['body']\n",
    "y_test_pred = df_test_pred['subreddit_binary']"
   ]
  },
  {
   "cell_type": "code",
   "execution_count": 47,
   "id": "communist-envelope",
   "metadata": {},
   "outputs": [
    {
     "data": {
      "text/plain": [
       "0                                because i have the itis\n",
       "1                           Really sorry to hear this :(\n",
       "2                                           Joakim is 40\n",
       "3      Joakim is 40, not you so I have minimal concer...\n",
       "4                                                    Why\n",
       "                             ...                        \n",
       "995    That people will hate u for no fckn reason. It...\n",
       "996                    Spongebob: It’s the Best Day Ever\n",
       "997                                              Pickles\n",
       "998    I remember both doing this to see if people I ...\n",
       "999                                architecture probably\n",
       "Name: body, Length: 1935, dtype: object"
      ]
     },
     "execution_count": 47,
     "metadata": {},
     "output_type": "execute_result"
    }
   ],
   "source": [
    "X_test_pred"
   ]
  },
  {
   "cell_type": "code",
   "execution_count": 48,
   "id": "known-python",
   "metadata": {},
   "outputs": [],
   "source": [
    "y_preds = gs_cb.predict(X_test_pred)"
   ]
  },
  {
   "cell_type": "code",
   "execution_count": 49,
   "id": "former-steel",
   "metadata": {},
   "outputs": [],
   "source": [
    "y_preds = pd.Series(y_preds)\n",
    "y_preds.name = 'predicted_binary'"
   ]
  },
  {
   "cell_type": "code",
   "execution_count": 50,
   "id": "educated-plane",
   "metadata": {},
   "outputs": [
    {
     "data": {
      "text/plain": [
       "0.6315245478036176"
      ]
     },
     "execution_count": 50,
     "metadata": {},
     "output_type": "execute_result"
    }
   ],
   "source": [
    "gs_tb.score(X_test_pred, y_test_pred)"
   ]
  },
  {
   "cell_type": "code",
   "execution_count": 51,
   "id": "green-austria",
   "metadata": {},
   "outputs": [
    {
     "data": {
      "text/html": [
       "<div>\n",
       "<style scoped>\n",
       "    .dataframe tbody tr th:only-of-type {\n",
       "        vertical-align: middle;\n",
       "    }\n",
       "\n",
       "    .dataframe tbody tr th {\n",
       "        vertical-align: top;\n",
       "    }\n",
       "\n",
       "    .dataframe thead th {\n",
       "        text-align: right;\n",
       "    }\n",
       "</style>\n",
       "<table border=\"1\" class=\"dataframe\">\n",
       "  <thead>\n",
       "    <tr style=\"text-align: right;\">\n",
       "      <th></th>\n",
       "      <th>predicted_binary</th>\n",
       "    </tr>\n",
       "  </thead>\n",
       "  <tbody>\n",
       "    <tr>\n",
       "      <th>0</th>\n",
       "      <td>1</td>\n",
       "    </tr>\n",
       "    <tr>\n",
       "      <th>1</th>\n",
       "      <td>0</td>\n",
       "    </tr>\n",
       "    <tr>\n",
       "      <th>2</th>\n",
       "      <td>0</td>\n",
       "    </tr>\n",
       "    <tr>\n",
       "      <th>3</th>\n",
       "      <td>0</td>\n",
       "    </tr>\n",
       "    <tr>\n",
       "      <th>4</th>\n",
       "      <td>0</td>\n",
       "    </tr>\n",
       "    <tr>\n",
       "      <th>...</th>\n",
       "      <td>...</td>\n",
       "    </tr>\n",
       "    <tr>\n",
       "      <th>995</th>\n",
       "      <td>0</td>\n",
       "    </tr>\n",
       "    <tr>\n",
       "      <th>996</th>\n",
       "      <td>0</td>\n",
       "    </tr>\n",
       "    <tr>\n",
       "      <th>997</th>\n",
       "      <td>0</td>\n",
       "    </tr>\n",
       "    <tr>\n",
       "      <th>998</th>\n",
       "      <td>1</td>\n",
       "    </tr>\n",
       "    <tr>\n",
       "      <th>999</th>\n",
       "      <td>0</td>\n",
       "    </tr>\n",
       "  </tbody>\n",
       "</table>\n",
       "<p>1935 rows × 1 columns</p>\n",
       "</div>"
      ],
      "text/plain": [
       "     predicted_binary\n",
       "0                   1\n",
       "1                   0\n",
       "2                   0\n",
       "3                   0\n",
       "4                   0\n",
       "..                ...\n",
       "995                 0\n",
       "996                 0\n",
       "997                 0\n",
       "998                 1\n",
       "999                 0\n",
       "\n",
       "[1935 rows x 1 columns]"
      ]
     },
     "execution_count": 51,
     "metadata": {},
     "output_type": "execute_result"
    }
   ],
   "source": [
    "y_preds = pd.DataFrame(y_preds, index=y_test_pred.index)\n",
    "y_preds"
   ]
  },
  {
   "cell_type": "code",
   "execution_count": 52,
   "id": "pleased-hypothesis",
   "metadata": {},
   "outputs": [],
   "source": [
    "pred_df = pd.concat([df_test_pred, pd.DataFrame(y_preds)], axis=1)"
   ]
  },
  {
   "cell_type": "code",
   "execution_count": 53,
   "id": "legislative-bride",
   "metadata": {},
   "outputs": [
    {
     "data": {
      "text/html": [
       "<div>\n",
       "<style scoped>\n",
       "    .dataframe tbody tr th:only-of-type {\n",
       "        vertical-align: middle;\n",
       "    }\n",
       "\n",
       "    .dataframe tbody tr th {\n",
       "        vertical-align: top;\n",
       "    }\n",
       "\n",
       "    .dataframe thead th {\n",
       "        text-align: right;\n",
       "    }\n",
       "</style>\n",
       "<table border=\"1\" class=\"dataframe\">\n",
       "  <thead>\n",
       "    <tr style=\"text-align: right;\">\n",
       "      <th></th>\n",
       "      <th>author</th>\n",
       "      <th>body</th>\n",
       "      <th>score</th>\n",
       "      <th>subreddit</th>\n",
       "      <th>subreddit_binary</th>\n",
       "      <th>predicted_binary</th>\n",
       "    </tr>\n",
       "  </thead>\n",
       "  <tbody>\n",
       "    <tr>\n",
       "      <th>0</th>\n",
       "      <td>lilyorwhatever</td>\n",
       "      <td>because i have the itis</td>\n",
       "      <td>0</td>\n",
       "      <td>AMA</td>\n",
       "      <td>0</td>\n",
       "      <td>1</td>\n",
       "    </tr>\n",
       "    <tr>\n",
       "      <th>6</th>\n",
       "      <td>IdkWhatNameToP1ckk</td>\n",
       "      <td>Have you ever used meth?</td>\n",
       "      <td>1</td>\n",
       "      <td>AMA</td>\n",
       "      <td>0</td>\n",
       "      <td>1</td>\n",
       "    </tr>\n",
       "    <tr>\n",
       "      <th>9</th>\n",
       "      <td>novascotiathrowaway2</td>\n",
       "      <td>I had a fantastic support system within my gra...</td>\n",
       "      <td>2</td>\n",
       "      <td>AMA</td>\n",
       "      <td>0</td>\n",
       "      <td>1</td>\n",
       "    </tr>\n",
       "    <tr>\n",
       "      <th>16</th>\n",
       "      <td>External_Zucchini651</td>\n",
       "      <td>They’re singers from about 50 years ago. You s...</td>\n",
       "      <td>1</td>\n",
       "      <td>AMA</td>\n",
       "      <td>0</td>\n",
       "      <td>1</td>\n",
       "    </tr>\n",
       "    <tr>\n",
       "      <th>19</th>\n",
       "      <td>Apenator2013</td>\n",
       "      <td>Never said libtard you ape</td>\n",
       "      <td>1</td>\n",
       "      <td>AMA</td>\n",
       "      <td>0</td>\n",
       "      <td>1</td>\n",
       "    </tr>\n",
       "    <tr>\n",
       "      <th>...</th>\n",
       "      <td>...</td>\n",
       "      <td>...</td>\n",
       "      <td>...</td>\n",
       "      <td>...</td>\n",
       "      <td>...</td>\n",
       "      <td>...</td>\n",
       "    </tr>\n",
       "    <tr>\n",
       "      <th>993</th>\n",
       "      <td>SpinoNeightybaby</td>\n",
       "      <td>I concede, I would have no taste buds left aft...</td>\n",
       "      <td>2</td>\n",
       "      <td>AskReddit</td>\n",
       "      <td>1</td>\n",
       "      <td>0</td>\n",
       "    </tr>\n",
       "    <tr>\n",
       "      <th>995</th>\n",
       "      <td>Cuppycake191219</td>\n",
       "      <td>That people will hate u for no fckn reason. It...</td>\n",
       "      <td>2</td>\n",
       "      <td>AskReddit</td>\n",
       "      <td>1</td>\n",
       "      <td>0</td>\n",
       "    </tr>\n",
       "    <tr>\n",
       "      <th>996</th>\n",
       "      <td>mildly-damp-toast</td>\n",
       "      <td>Spongebob: It’s the Best Day Ever</td>\n",
       "      <td>1</td>\n",
       "      <td>AskReddit</td>\n",
       "      <td>1</td>\n",
       "      <td>0</td>\n",
       "    </tr>\n",
       "    <tr>\n",
       "      <th>997</th>\n",
       "      <td>shirk-work</td>\n",
       "      <td>Pickles</td>\n",
       "      <td>2</td>\n",
       "      <td>AskReddit</td>\n",
       "      <td>1</td>\n",
       "      <td>0</td>\n",
       "    </tr>\n",
       "    <tr>\n",
       "      <th>999</th>\n",
       "      <td>thechosenL</td>\n",
       "      <td>architecture probably</td>\n",
       "      <td>2</td>\n",
       "      <td>AskReddit</td>\n",
       "      <td>1</td>\n",
       "      <td>0</td>\n",
       "    </tr>\n",
       "  </tbody>\n",
       "</table>\n",
       "<p>961 rows × 6 columns</p>\n",
       "</div>"
      ],
      "text/plain": [
       "                   author                                               body  \\\n",
       "0          lilyorwhatever                            because i have the itis   \n",
       "6      IdkWhatNameToP1ckk                           Have you ever used meth?   \n",
       "9    novascotiathrowaway2  I had a fantastic support system within my gra...   \n",
       "16   External_Zucchini651  They’re singers from about 50 years ago. You s...   \n",
       "19           Apenator2013                         Never said libtard you ape   \n",
       "..                    ...                                                ...   \n",
       "993      SpinoNeightybaby  I concede, I would have no taste buds left aft...   \n",
       "995       Cuppycake191219  That people will hate u for no fckn reason. It...   \n",
       "996     mildly-damp-toast                  Spongebob: It’s the Best Day Ever   \n",
       "997            shirk-work                                            Pickles   \n",
       "999            thechosenL                              architecture probably   \n",
       "\n",
       "     score  subreddit  subreddit_binary  predicted_binary  \n",
       "0        0        AMA                 0                 1  \n",
       "6        1        AMA                 0                 1  \n",
       "9        2        AMA                 0                 1  \n",
       "16       1        AMA                 0                 1  \n",
       "19       1        AMA                 0                 1  \n",
       "..     ...        ...               ...               ...  \n",
       "993      2  AskReddit                 1                 0  \n",
       "995      2  AskReddit                 1                 0  \n",
       "996      1  AskReddit                 1                 0  \n",
       "997      2  AskReddit                 1                 0  \n",
       "999      2  AskReddit                 1                 0  \n",
       "\n",
       "[961 rows x 6 columns]"
      ]
     },
     "execution_count": 53,
     "metadata": {},
     "output_type": "execute_result"
    }
   ],
   "source": [
    "pred_df[pred_df['subreddit_binary'] != pred_df['predicted_binary']]"
   ]
  },
  {
   "cell_type": "code",
   "execution_count": 62,
   "id": "controlled-criterion",
   "metadata": {},
   "outputs": [
    {
     "data": {
      "text/plain": [
       "0    977\n",
       "1    958\n",
       "Name: subreddit_binary, dtype: int64"
      ]
     },
     "execution_count": 62,
     "metadata": {},
     "output_type": "execute_result"
    }
   ],
   "source": [
    "y_test_pred.value_counts()"
   ]
  },
  {
   "cell_type": "code",
   "execution_count": 43,
   "id": "potential-douglas",
   "metadata": {},
   "outputs": [
    {
     "data": {
      "text/plain": [
       "0    0.502548\n",
       "1    0.497452\n",
       "Name: subreddit_binary, dtype: float64"
      ]
     },
     "execution_count": 43,
     "metadata": {},
     "output_type": "execute_result"
    }
   ],
   "source": [
    "y_test_pred.value_counts(normalize=True)"
   ]
  },
  {
   "cell_type": "code",
   "execution_count": 58,
   "id": "casual-happiness",
   "metadata": {},
   "outputs": [
    {
     "data": {
      "text/html": [
       "<div>\n",
       "<style scoped>\n",
       "    .dataframe tbody tr th:only-of-type {\n",
       "        vertical-align: middle;\n",
       "    }\n",
       "\n",
       "    .dataframe tbody tr th {\n",
       "        vertical-align: top;\n",
       "    }\n",
       "\n",
       "    .dataframe thead th {\n",
       "        text-align: right;\n",
       "    }\n",
       "</style>\n",
       "<table border=\"1\" class=\"dataframe\">\n",
       "  <thead>\n",
       "    <tr style=\"text-align: right;\">\n",
       "      <th></th>\n",
       "      <th>author</th>\n",
       "      <th>body</th>\n",
       "      <th>score</th>\n",
       "      <th>subreddit</th>\n",
       "      <th>subreddit_binary</th>\n",
       "      <th>predicted_binary</th>\n",
       "    </tr>\n",
       "  </thead>\n",
       "  <tbody>\n",
       "    <tr>\n",
       "      <th>1</th>\n",
       "      <td>rockerarjun</td>\n",
       "      <td>Really sorry to hear this :(</td>\n",
       "      <td>2</td>\n",
       "      <td>AMA</td>\n",
       "      <td>0</td>\n",
       "      <td>0</td>\n",
       "    </tr>\n",
       "    <tr>\n",
       "      <th>2</th>\n",
       "      <td>nimitz12</td>\n",
       "      <td>Joakim is 40</td>\n",
       "      <td>1</td>\n",
       "      <td>AMA</td>\n",
       "      <td>0</td>\n",
       "      <td>0</td>\n",
       "    </tr>\n",
       "    <tr>\n",
       "      <th>3</th>\n",
       "      <td>nimitz12</td>\n",
       "      <td>Joakim is 40, not you so I have minimal concer...</td>\n",
       "      <td>1</td>\n",
       "      <td>AMA</td>\n",
       "      <td>0</td>\n",
       "      <td>0</td>\n",
       "    </tr>\n",
       "    <tr>\n",
       "      <th>4</th>\n",
       "      <td>Prim3stSkeletron</td>\n",
       "      <td>Why</td>\n",
       "      <td>1</td>\n",
       "      <td>AMA</td>\n",
       "      <td>0</td>\n",
       "      <td>0</td>\n",
       "    </tr>\n",
       "    <tr>\n",
       "      <th>5</th>\n",
       "      <td>KandyKandis</td>\n",
       "      <td>What do you think of the governments response ...</td>\n",
       "      <td>1</td>\n",
       "      <td>AMA</td>\n",
       "      <td>0</td>\n",
       "      <td>0</td>\n",
       "    </tr>\n",
       "    <tr>\n",
       "      <th>...</th>\n",
       "      <td>...</td>\n",
       "      <td>...</td>\n",
       "      <td>...</td>\n",
       "      <td>...</td>\n",
       "      <td>...</td>\n",
       "      <td>...</td>\n",
       "    </tr>\n",
       "    <tr>\n",
       "      <th>979</th>\n",
       "      <td>Rilven</td>\n",
       "      <td>Get a job with \"Make a Wish\". Punch terminal kids</td>\n",
       "      <td>1</td>\n",
       "      <td>AskReddit</td>\n",
       "      <td>1</td>\n",
       "      <td>1</td>\n",
       "    </tr>\n",
       "    <tr>\n",
       "      <th>982</th>\n",
       "      <td>Chili_Con</td>\n",
       "      <td>My mom did this too for me</td>\n",
       "      <td>4</td>\n",
       "      <td>AskReddit</td>\n",
       "      <td>1</td>\n",
       "      <td>1</td>\n",
       "    </tr>\n",
       "    <tr>\n",
       "      <th>984</th>\n",
       "      <td>VWJennifer</td>\n",
       "      <td>Me</td>\n",
       "      <td>2</td>\n",
       "      <td>AskReddit</td>\n",
       "      <td>1</td>\n",
       "      <td>1</td>\n",
       "    </tr>\n",
       "    <tr>\n",
       "      <th>994</th>\n",
       "      <td>TheAubergineMan1987</td>\n",
       "      <td>So how many blunts have you rolled today?</td>\n",
       "      <td>1</td>\n",
       "      <td>AskReddit</td>\n",
       "      <td>1</td>\n",
       "      <td>1</td>\n",
       "    </tr>\n",
       "    <tr>\n",
       "      <th>998</th>\n",
       "      <td>changeableLandscape</td>\n",
       "      <td>I remember both doing this to see if people I ...</td>\n",
       "      <td>1</td>\n",
       "      <td>AskReddit</td>\n",
       "      <td>1</td>\n",
       "      <td>1</td>\n",
       "    </tr>\n",
       "  </tbody>\n",
       "</table>\n",
       "<p>974 rows × 6 columns</p>\n",
       "</div>"
      ],
      "text/plain": [
       "                  author                                               body  \\\n",
       "1            rockerarjun                       Really sorry to hear this :(   \n",
       "2               nimitz12                                       Joakim is 40   \n",
       "3               nimitz12  Joakim is 40, not you so I have minimal concer...   \n",
       "4       Prim3stSkeletron                                                Why   \n",
       "5            KandyKandis  What do you think of the governments response ...   \n",
       "..                   ...                                                ...   \n",
       "979               Rilven  Get a job with \"Make a Wish\". Punch terminal kids   \n",
       "982            Chili_Con                         My mom did this too for me   \n",
       "984           VWJennifer                                                 Me   \n",
       "994  TheAubergineMan1987          So how many blunts have you rolled today?   \n",
       "998  changeableLandscape  I remember both doing this to see if people I ...   \n",
       "\n",
       "     score  subreddit  subreddit_binary  predicted_binary  \n",
       "1        2        AMA                 0                 0  \n",
       "2        1        AMA                 0                 0  \n",
       "3        1        AMA                 0                 0  \n",
       "4        1        AMA                 0                 0  \n",
       "5        1        AMA                 0                 0  \n",
       "..     ...        ...               ...               ...  \n",
       "979      1  AskReddit                 1                 1  \n",
       "982      4  AskReddit                 1                 1  \n",
       "984      2  AskReddit                 1                 1  \n",
       "994      1  AskReddit                 1                 1  \n",
       "998      1  AskReddit                 1                 1  \n",
       "\n",
       "[974 rows x 6 columns]"
      ]
     },
     "execution_count": 58,
     "metadata": {},
     "output_type": "execute_result"
    }
   ],
   "source": [
    "pred_df[pred_df['subreddit_binary'] == pred_df['predicted_binary']]"
   ]
  },
  {
   "cell_type": "code",
   "execution_count": 59,
   "id": "veterinary-occasions",
   "metadata": {},
   "outputs": [
    {
     "data": {
      "text/plain": [
       "0.496640826873385"
      ]
     },
     "execution_count": 59,
     "metadata": {},
     "output_type": "execute_result"
    }
   ],
   "source": [
    "pred_df[pred_df['subreddit_binary'] != pred_df['predicted_binary']].shape[0]/pred_df.shape[0]"
   ]
  },
  {
   "cell_type": "code",
   "execution_count": 60,
   "id": "protecting-strip",
   "metadata": {},
   "outputs": [
    {
     "data": {
      "text/plain": [
       "0.5033591731266149"
      ]
     },
     "execution_count": 60,
     "metadata": {},
     "output_type": "execute_result"
    }
   ],
   "source": [
    "pred_df[pred_df['subreddit_binary'] == pred_df['predicted_binary']].shape[0]/pred_df.shape[0]"
   ]
  },
  {
   "cell_type": "code",
   "execution_count": null,
   "id": "known-organizer",
   "metadata": {},
   "outputs": [],
   "source": []
  }
 ],
 "metadata": {
  "kernelspec": {
   "display_name": "Python 3",
   "language": "python",
   "name": "python3"
  },
  "language_info": {
   "codemirror_mode": {
    "name": "ipython",
    "version": 3
   },
   "file_extension": ".py",
   "mimetype": "text/x-python",
   "name": "python",
   "nbconvert_exporter": "python",
   "pygments_lexer": "ipython3",
   "version": "3.8.5"
  }
 },
 "nbformat": 4,
 "nbformat_minor": 5
}
