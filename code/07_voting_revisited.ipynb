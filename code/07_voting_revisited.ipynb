{
 "cells": [
  {
   "cell_type": "markdown",
   "id": "scheduled-beverage",
   "metadata": {},
   "source": [
    "# Voting Revisited\n",
    "#### Taking a look at Bayes and Logistic Regression "
   ]
  },
  {
   "cell_type": "markdown",
   "id": "awful-annual",
   "metadata": {},
   "source": [
    "##### TABLE OF CONTENTS\n",
    " - [Observations and Overview for Voting Revisited](#Observations-and-Overview-for-Voting-Revisited)\n",
    " - [Import and Define our Variables for Voting Revisited](#Import-and-Define-our-Variables-for-Voting-Revisited)\n",
    " - [Vectorizing X variables for Voting Revisited](#Vectorizing-X-variables-for-Voting-Revisited)\n",
    " - [Logistic Regression Model GridSearch (TFIDF)](#Logistic-Regression-Model-GridSearch-(TFIDF))\n",
    " - [Bayes Model GridSearch (TFIDF)](#Bayes-Model-GridSearch-(TFIDF))\n",
    " - [GridSearch Voting Ensemble with Logistic Regression + Naive Bayes ](#GridSearch-Voting-Ensemble-with-Logistic-Regression-+-Naive-Bayes)\n",
    "\n"
   ]
  },
  {
   "cell_type": "markdown",
   "id": "conventional-generation",
   "metadata": {},
   "source": [
    "### Observations and Overview for Voting Revisited\n",
    "[(back to top)](#Voting-Revisited) <br />\n",
    "\n",
    "After trying out lemmatization, I was interested whether there was anything that can make Naive Bayes perform better than my first (four) model(s) from the [03 - Models with GridSearch](03_models_with_gridsearch.ipynb) Notebook.\n",
    "\n",
    "I found that a 0.4 weight for Naive Bayes and 0.6 weight for Logistic Regression gave the best results. While this improved bayes to an F1 Score of 0.669608 and made it slightly less biased, it made the Logistic Regression results a little worse. Like last time, I am find that it is not worth the trouble and time for a score that is almost the same as my less complicated Logistic Regression Model with TF-IDF Vectorization.\n"
   ]
  },
  {
   "cell_type": "markdown",
   "id": "pending-revision",
   "metadata": {},
   "source": [
    "### Import and Define our Variables for Voting Revisited\n",
    "[(back to top)](#Voting-Revisited) <br />\n",
    "\n"
   ]
  },
  {
   "cell_type": "code",
   "execution_count": 1,
   "id": "annual-crest",
   "metadata": {},
   "outputs": [],
   "source": [
    "from ipynb.fs.full.functions import *\n"
   ]
  },
  {
   "cell_type": "code",
   "execution_count": 2,
   "id": "variable-excitement",
   "metadata": {},
   "outputs": [],
   "source": [
    "# Data to create our model\n",
    "dfa = pd.read_csv('../data/ama_comments.csv')\n",
    "dfb = pd.read_csv('../data/ar_comments.csv')\n",
    "df = pd.concat([dfa, dfb], axis=0)\n",
    "df = CleanUp(df).df.copy()"
   ]
  },
  {
   "cell_type": "code",
   "execution_count": 3,
   "id": "pressing-housing",
   "metadata": {},
   "outputs": [],
   "source": [
    "# Model X, and y\n",
    "df = df.sample(n=df.shape[0], random_state=3)\n",
    "\n",
    "X = df['body']\n",
    "y = df['subreddit_binary']\n",
    "\n",
    "X_train, X_test, y_train, y_test = train_test_split(X, y, stratify=y, random_state=3)"
   ]
  },
  {
   "cell_type": "code",
   "execution_count": 4,
   "id": "unique-occupation",
   "metadata": {},
   "outputs": [],
   "source": [
    "# TEST data (not part of train/test/split)\n",
    "df1 = pd.read_csv('../data/2021-04-27_1812_AMA_comments.csv')\n",
    "df2 = pd.read_csv('../data/2021-04-27_1812_AskReddit_comments.csv')\n",
    "df_test_pred = pd.concat([df1, df2], axis=0)\n",
    "df_test_pred = CleanUp(df_test_pred).df.copy()"
   ]
  },
  {
   "cell_type": "code",
   "execution_count": 5,
   "id": "computational-fourth",
   "metadata": {},
   "outputs": [],
   "source": [
    "df_test_pred = df_test_pred.sample(n=df_test_pred.shape[0], random_state=3)\n",
    "\n",
    "X_new = df_test_pred['body']\n",
    "y_new = df_test_pred['subreddit_binary'] "
   ]
  },
  {
   "cell_type": "code",
   "execution_count": null,
   "id": "together-demand",
   "metadata": {},
   "outputs": [],
   "source": []
  },
  {
   "cell_type": "markdown",
   "id": "systematic-storm",
   "metadata": {},
   "source": [
    "## Logistic Regression Model GridSearch (TFIDF)\n",
    "[(back to top)](#Voting-Revisited) <br />\n",
    "\n"
   ]
  },
  {
   "cell_type": "code",
   "execution_count": 6,
   "id": "underlying-belize",
   "metadata": {},
   "outputs": [
    {
     "name": "stdout",
     "output_type": "stream",
     "text": [
      "Fitting 5 folds for each of 48 candidates, totalling 240 fits\n"
     ]
    }
   ],
   "source": [
    "\n",
    "gs_tv_lgr = ClassificationModel(make_pipeline(\n",
    "    TfidfVectorizer(), \n",
    "    LogisticRegression()), \n",
    "    X_train, X_test, y_train, y_test,\n",
    "    params={\n",
    "        'tfidfvectorizer__ngram_range': [ (1, 1), (1, 2), (2, 2), (1, 3), (2, 3), (3, 3) ],\n",
    "        'tfidfvectorizer__stop_words': [ 'english', None ],\n",
    "        'tfidfvectorizer__max_features': [ 500, 1000, 2000, 5000 ]\n",
    "}, verbose=3, mod_name='Train/Test Tfidf LogReg')\n",
    "\n"
   ]
  },
  {
   "cell_type": "code",
   "execution_count": 7,
   "id": "awful-drove",
   "metadata": {},
   "outputs": [
    {
     "name": "stdout",
     "output_type": "stream",
     "text": [
      "Fitting 5 folds for each of 48 candidates, totalling 240 fits\n"
     ]
    }
   ],
   "source": [
    "\n",
    "X_gs_tv_lgr = ClassificationModel(make_pipeline(\n",
    "    TfidfVectorizer(), \n",
    "    LogisticRegression()), \n",
    "    X_train=X, X_test=X_new, y_train=y, y_test=y_new,\n",
    "    params={\n",
    "        'tfidfvectorizer__ngram_range': [ (1, 1), (1, 2), (2, 2), (1, 3), (2, 3), (3, 3) ],\n",
    "        'tfidfvectorizer__stop_words': [ 'english', None ],\n",
    "        'tfidfvectorizer__max_features': [ 500, 1000, 2000, 5000 ]\n",
    "}, verbose=3, mod_name='Xy/new Tfidf LogReg')\n",
    "\n"
   ]
  },
  {
   "cell_type": "markdown",
   "id": "beautiful-saint",
   "metadata": {},
   "source": [
    "## Bayes Model GridSearch (TFIDF)\n",
    "[(back to top)](#Voting-Revisited) <br />\n",
    "\n"
   ]
  },
  {
   "cell_type": "code",
   "execution_count": 8,
   "id": "handmade-mustang",
   "metadata": {},
   "outputs": [
    {
     "name": "stdout",
     "output_type": "stream",
     "text": [
      "Fitting 5 folds for each of 48 candidates, totalling 240 fits\n"
     ]
    }
   ],
   "source": [
    "gs_tv_nb = ClassificationModel(make_pipeline(\n",
    "    TfidfVectorizer(), \n",
    "    MultinomialNB()), \n",
    "    X_train, X_test, y_train, y_test,\n",
    "    params={\n",
    "        'tfidfvectorizer__ngram_range': [ (1, 1), (1, 2), (2, 2), (1, 3), (2, 3), (3, 3) ],\n",
    "        'tfidfvectorizer__stop_words': [ 'english', None ],\n",
    "        'tfidfvectorizer__max_features': [ 500, 1000, 2000, 5000 ]\n",
    "}, verbose=3, mod_name='Train/Test Tfidf nBayes')\n",
    "\n"
   ]
  },
  {
   "cell_type": "code",
   "execution_count": 9,
   "id": "healthy-crisis",
   "metadata": {},
   "outputs": [
    {
     "name": "stdout",
     "output_type": "stream",
     "text": [
      "Fitting 5 folds for each of 48 candidates, totalling 240 fits\n"
     ]
    }
   ],
   "source": [
    "X_gs_tv_nb = ClassificationModel(make_pipeline(\n",
    "    TfidfVectorizer(), \n",
    "    MultinomialNB()), \n",
    "    X, X_new, y, y_new,\n",
    "    params={\n",
    "        'tfidfvectorizer__ngram_range': [ (1, 1), (1, 2), (2, 2), (1, 3), (2, 3), (3, 3) ],\n",
    "        'tfidfvectorizer__stop_words': [ 'english', None ],\n",
    "        'tfidfvectorizer__max_features': [ 500, 1000, 2000, 5000 ]\n",
    "}, verbose=3, mod_name='Xy/new Tfidf nBayes')\n"
   ]
  },
  {
   "cell_type": "markdown",
   "id": "engaged-prompt",
   "metadata": {},
   "source": [
    "## GridSearch Voting Ensemble with Logistic Regression + Naive Bayes\n",
    "[(back to top)](#Voting-Revisited) <br />\n",
    "\n"
   ]
  },
  {
   "cell_type": "code",
   "execution_count": 10,
   "id": "hungry-gather",
   "metadata": {},
   "outputs": [],
   "source": [
    "vote_lgr_gsbayes = VotingClassifier(\n",
    "    [('gs_nb', gs_tv_nb.model), \n",
    "     ('lgr', gs_tv_lgr.model)],\n",
    "    weights=[ 0.4, 0.6 ]\n",
    ")"
   ]
  },
  {
   "cell_type": "code",
   "execution_count": 11,
   "id": "improving-finding",
   "metadata": {},
   "outputs": [
    {
     "name": "stdout",
     "output_type": "stream",
     "text": [
      "Fitting 5 folds for each of 48 candidates, totalling 240 fits\n",
      "Fitting 5 folds for each of 48 candidates, totalling 240 fits\n"
     ]
    },
    {
     "data": {
      "text/plain": [
       "array([[0, 0],\n",
       "       [0, 0],\n",
       "       [1, 1],\n",
       "       ...,\n",
       "       [0, 1],\n",
       "       [1, 1],\n",
       "       [1, 1]], dtype=int64)"
      ]
     },
     "execution_count": 11,
     "metadata": {},
     "output_type": "execute_result"
    }
   ],
   "source": [
    "vote_lgr_gsbayes.fit_transform(X_train, y_train)"
   ]
  },
  {
   "cell_type": "code",
   "execution_count": 12,
   "id": "later-picking",
   "metadata": {},
   "outputs": [
    {
     "data": {
      "text/plain": [
       "0.7275603005140372"
      ]
     },
     "execution_count": 12,
     "metadata": {},
     "output_type": "execute_result"
    }
   ],
   "source": [
    "y_pred_lgr_gsbayes = vote_lgr_gsbayes.predict(X_test)\n",
    "\n",
    "f1_score(y_test, y_pred_lgr_gsbayes)"
   ]
  },
  {
   "cell_type": "code",
   "execution_count": 13,
   "id": "catholic-quarterly",
   "metadata": {},
   "outputs": [
    {
     "data": {
      "text/plain": [
       "<sklearn.metrics._plot.confusion_matrix.ConfusionMatrixDisplay at 0x1a8012da730>"
      ]
     },
     "execution_count": 13,
     "metadata": {},
     "output_type": "execute_result"
    },
    {
     "data": {
      "image/png": "[encoded data removed]",
      "text/plain": [
       "<Figure size 432x288 with 2 Axes>"
      ]
     },
     "metadata": {
      "needs_background": "light"
     },
     "output_type": "display_data"
    }
   ],
   "source": [
    "plot_confusion_matrix(vote_lgr_gsbayes, X_test, y_test)"
   ]
  },
  {
   "cell_type": "code",
   "execution_count": 14,
   "id": "defensive-armor",
   "metadata": {},
   "outputs": [],
   "source": [
    "vote_X_lgr_gsbayes = VotingClassifier(\n",
    "    [('gs_nb', X_gs_tv_nb.model), \n",
    "     ('lgr', X_gs_tv_lgr.model)],\n",
    "    weights=[ 0.4, 0.6 ]\n",
    ")"
   ]
  },
  {
   "cell_type": "code",
   "execution_count": 15,
   "id": "naval-latitude",
   "metadata": {},
   "outputs": [
    {
     "name": "stdout",
     "output_type": "stream",
     "text": [
      "Fitting 5 folds for each of 48 candidates, totalling 240 fits\n",
      "Fitting 5 folds for each of 48 candidates, totalling 240 fits\n"
     ]
    },
    {
     "data": {
      "text/plain": [
       "array([[0, 1],\n",
       "       [1, 1],\n",
       "       [0, 1],\n",
       "       ...,\n",
       "       [1, 1],\n",
       "       [0, 0],\n",
       "       [1, 1]], dtype=int64)"
      ]
     },
     "execution_count": 15,
     "metadata": {},
     "output_type": "execute_result"
    }
   ],
   "source": [
    "vote_X_lgr_gsbayes.fit_transform(X, y)"
   ]
  },
  {
   "cell_type": "code",
   "execution_count": 16,
   "id": "sharing-ministry",
   "metadata": {},
   "outputs": [
    {
     "data": {
      "text/plain": [
       "0.6696078431372549"
      ]
     },
     "execution_count": 16,
     "metadata": {},
     "output_type": "execute_result"
    }
   ],
   "source": [
    "y_new_pred_lgr_gsbayes = vote_X_lgr_gsbayes.predict(X_new)\n",
    "\n",
    "f1_score(y_new, y_new_pred_lgr_gsbayes)"
   ]
  },
  {
   "cell_type": "code",
   "execution_count": 17,
   "id": "blond-tumor",
   "metadata": {},
   "outputs": [
    {
     "data": {
      "text/plain": [
       "<sklearn.metrics._plot.confusion_matrix.ConfusionMatrixDisplay at 0x1a8015a2100>"
      ]
     },
     "execution_count": 17,
     "metadata": {},
     "output_type": "execute_result"
    },
    {
     "data": {
      "image/png": "[encoded data removed]",
      "text/plain": [
       "<Figure size 432x288 with 2 Axes>"
      ]
     },
     "metadata": {
      "needs_background": "light"
     },
     "output_type": "display_data"
    }
   ],
   "source": [
    "plot_confusion_matrix(vote_X_lgr_gsbayes, X_new, y_new)"
   ]
  },
  {
   "cell_type": "code",
   "execution_count": 18,
   "id": "precise-order",
   "metadata": {},
   "outputs": [
    {
     "data": {
      "text/plain": [
       "{'F1 Score': 0.6696078431372549,\n",
       " 'Recall Score': 0.6997950819672131,\n",
       " 'Accuracy Score': 0.6564729867482161,\n",
       " 'Balanced Accuracy': 0.6566926728294483,\n",
       " 'Precision Score': 0.6419172932330827,\n",
       " 'True Positive': 683,\n",
       " 'False Negative': 293,\n",
       " 'False Positive': 381,\n",
       " 'True Negative': 605,\n",
       " 'Calculated Accuracy': 0.6564729867482161,\n",
       " 'Calculated Precision': 0.6419172932330827,\n",
       " 'Calculated Sensitivity': 0.6997950819672131,\n",
       " 'Calculated Specificity': 0.6135902636916836}"
      ]
     },
     "execution_count": 18,
     "metadata": {},
     "output_type": "execute_result"
    }
   ],
   "source": [
    "print_classification_stats(y_new, y_new_pred_lgr_gsbayes)"
   ]
  },
  {
   "cell_type": "code",
   "execution_count": 19,
   "id": "ongoing-georgia",
   "metadata": {},
   "outputs": [],
   "source": [
    "from sklearn.metrics import classification_report"
   ]
  },
  {
   "cell_type": "code",
   "execution_count": 20,
   "id": "contrary-citizenship",
   "metadata": {},
   "outputs": [
    {
     "name": "stdout",
     "output_type": "stream",
     "text": [
      "              precision    recall  f1-score   support\n",
      "\n",
      "           0       0.67      0.61      0.64       986\n",
      "           1       0.64      0.70      0.67       976\n",
      "\n",
      "    accuracy                           0.66      1962\n",
      "   macro avg       0.66      0.66      0.66      1962\n",
      "weighted avg       0.66      0.66      0.66      1962\n",
      "\n"
     ]
    }
   ],
   "source": [
    "print(classification_report(y_new, y_new_pred_lgr_gsbayes))"
   ]
  },
  {
   "cell_type": "code",
   "execution_count": null,
   "id": "seventh-publisher",
   "metadata": {},
   "outputs": [],
   "source": []
  },
  {
   "cell_type": "code",
   "execution_count": null,
   "id": "speaking-classics",
   "metadata": {},
   "outputs": [],
   "source": []
  },
  {
   "cell_type": "code",
   "execution_count": null,
   "id": "vocational-constraint",
   "metadata": {},
   "outputs": [],
   "source": []
  },
  {
   "cell_type": "code",
   "execution_count": null,
   "id": "brave-adrian",
   "metadata": {},
   "outputs": [],
   "source": []
  }
 ],
 "metadata": {
  "kernelspec": {
   "display_name": "Python 3",
   "language": "python",
   "name": "python3"
  },
  "language_info": {
   "codemirror_mode": {
    "name": "ipython",
    "version": 3
   },
   "file_extension": ".py",
   "mimetype": "text/x-python",
   "name": "python",
   "nbconvert_exporter": "python",
   "pygments_lexer": "ipython3",
   "version": "3.9.2"
  }
 },
 "nbformat": 4,
 "nbformat_minor": 5
}
