{
 "cells": [
  {
   "cell_type": "markdown",
   "id": "individual-multiple",
   "metadata": {},
   "source": [
    "# Model Stuff"
   ]
  },
  {
   "cell_type": "code",
   "execution_count": 1,
   "id": "returning-editing",
   "metadata": {},
   "outputs": [],
   "source": [
    "from ipynb.fs.full.functions import *"
   ]
  },
  {
   "cell_type": "code",
   "execution_count": 2,
   "id": "great-indication",
   "metadata": {},
   "outputs": [],
   "source": [
    "# Data to create our model\n",
    "dfa = pd.read_csv('../data/ama_comments.csv')\n",
    "dfb = pd.read_csv('../data/ar_comments.csv')\n",
    "df = pd.concat([dfa, dfb], axis=0)\n",
    "df = CleanUp(df).df.copy()"
   ]
  },
  {
   "cell_type": "code",
   "execution_count": 3,
   "id": "phantom-utilization",
   "metadata": {},
   "outputs": [],
   "source": [
    "# Model X, and y\n",
    "df = df.sample(n=df.shape[0], random_state=3)\n",
    "\n",
    "X_other = df.drop(columns=['subreddit_binary', 'body'])\n",
    "X = df['body']\n",
    "y = df['subreddit_binary']\n",
    "\n",
    "X_train, X_test, y_train, y_test = train_test_split(X, y, stratify=y, random_state=3)"
   ]
  },
  {
   "cell_type": "code",
   "execution_count": 4,
   "id": "effective-gambling",
   "metadata": {},
   "outputs": [],
   "source": [
    "X_other_train, X_other_test, y_other_train, y_other_test = train_test_split(X_other, \n",
    "    y, stratify=y, random_state=3)\n"
   ]
  },
  {
   "cell_type": "code",
   "execution_count": 5,
   "id": "approximate-newport",
   "metadata": {},
   "outputs": [],
   "source": [
    "# TEST data (not part of train/test/split)\n",
    "df1 = pd.read_csv('../data/2021-04-27_1812_AMA_comments.csv')\n",
    "df2 = pd.read_csv('../data/2021-04-27_1812_AskReddit_comments.csv')\n",
    "df_test_pred = pd.concat([df1, df2], axis=0)\n",
    "df_test_pred = CleanUp(df_test_pred).df.copy()"
   ]
  },
  {
   "cell_type": "code",
   "execution_count": 6,
   "id": "immediate-clinic",
   "metadata": {},
   "outputs": [],
   "source": [
    "df_test_pred = df_test_pred.sample(n=df_test_pred.shape[0], random_state=3)\n",
    "\n",
    "X_other_new = df_test_pred.drop(columns=['subreddit_binary', 'body'])\n",
    "X_new = df_test_pred['body']\n",
    "y_new = df_test_pred['subreddit_binary'] "
   ]
  },
  {
   "cell_type": "code",
   "execution_count": null,
   "id": "hired-watershed",
   "metadata": {},
   "outputs": [],
   "source": []
  },
  {
   "cell_type": "code",
   "execution_count": null,
   "id": "manual-bidder",
   "metadata": {},
   "outputs": [],
   "source": []
  },
  {
   "cell_type": "code",
   "execution_count": null,
   "id": "tribal-tonight",
   "metadata": {},
   "outputs": [],
   "source": []
  },
  {
   "cell_type": "code",
   "execution_count": null,
   "id": "international-refrigerator",
   "metadata": {},
   "outputs": [],
   "source": []
  },
  {
   "cell_type": "code",
   "execution_count": 26,
   "id": "understood-clear",
   "metadata": {},
   "outputs": [
    {
     "name": "stdout",
     "output_type": "stream",
     "text": [
      "Fitting 5 folds for each of 1 candidates, totalling 5 fits\n",
      "[Pipeline]  (step 1 of 1) Processing logisticregression, total=   0.1s\n"
     ]
    }
   ],
   "source": [
    "\n",
    "gs_lgr_nobody = ClassificationModel(make_pipeline(\n",
    "    LogisticRegression(), verbose=True), \n",
    "    X_other_train, X_other_test, y_other_train, y_other_test,\n",
    "    params={\n",
    "}, verbose=3, mod_name='Train/Test LogReg NoBody')\n",
    "\n",
    "# gs_lgr_nobody.df"
   ]
  },
  {
   "cell_type": "code",
   "execution_count": 27,
   "id": "friendly-douglas",
   "metadata": {},
   "outputs": [
    {
     "name": "stdout",
     "output_type": "stream",
     "text": [
      "Fitting 5 folds for each of 48 candidates, totalling 240 fits\n"
     ]
    }
   ],
   "source": [
    "\n",
    "gs_tv_lgr = ClassificationModel(make_pipeline(\n",
    "    TfidfVectorizer(), \n",
    "    LogisticRegression()), \n",
    "    X_train, X_test, y_train, y_test,\n",
    "    params={\n",
    "        'tfidfvectorizer__ngram_range': [ (1, 1), (1, 2), (2, 2), (1, 3), (2, 3), (3, 3) ],\n",
    "        'tfidfvectorizer__stop_words': [ 'english', None ],\n",
    "        'tfidfvectorizer__max_features': [ 500, 1000, 2000, 5000 ]\n",
    "}, verbose=3, mod_name='Train/Test Tfidf LogReg')\n",
    "\n",
    "# gs_tv_lgr.df"
   ]
  },
  {
   "cell_type": "code",
   "execution_count": 28,
   "id": "spectacular-subject",
   "metadata": {},
   "outputs": [
    {
     "name": "stdout",
     "output_type": "stream",
     "text": [
      "Fitting 5 folds for each of 48 candidates, totalling 240 fits\n"
     ]
    }
   ],
   "source": [
    "\n",
    "gs_tv_gb = ClassificationModel(make_pipeline(\n",
    "    TfidfVectorizer(), \n",
    "    GradientBoostingClassifier()), \n",
    "    X_train=X_train, X_test=X_test, y_train=y_train, y_test=y_test,\n",
    "    params={\n",
    "        'tfidfvectorizer__ngram_range': [ (1, 1), (1, 2), (2, 2), (1, 3), (2, 3), (3, 3) ],\n",
    "        'tfidfvectorizer__stop_words': [ 'english', None ],\n",
    "        'tfidfvectorizer__max_features': [ 500, 1000, 2000, 5000 ]\n",
    "}, verbose=3, mod_name='Train/Test Tfidf gBoost')\n",
    "\n",
    "# gs_tv_gb.df"
   ]
  },
  {
   "cell_type": "code",
   "execution_count": 29,
   "id": "silver-coffee",
   "metadata": {},
   "outputs": [
    {
     "name": "stdout",
     "output_type": "stream",
     "text": [
      "Fitting 5 folds for each of 48 candidates, totalling 240 fits\n"
     ]
    }
   ],
   "source": [
    "\n",
    "gs_cv_ab = ClassificationModel(make_pipeline(\n",
    "    CountVectorizer(), \n",
    "    AdaBoostClassifier()), \n",
    "    X_train, X_test, y_train, y_test,\n",
    "    params={\n",
    "        'countvectorizer__ngram_range': [ (1, 1), (1, 2), (2, 2), (1, 3), (2, 3), (3, 3) ],\n",
    "        'countvectorizer__stop_words': [ 'english', None ],\n",
    "        'countvectorizer__max_features': [ 500, 1000, 2000, 5000 ]\n",
    "}, verbose=3, mod_name='Train/Test cVect adaBst')\n",
    "\n",
    "# gs_cv_ab.df"
   ]
  },
  {
   "cell_type": "code",
   "execution_count": null,
   "id": "computational-panic",
   "metadata": {},
   "outputs": [],
   "source": []
  },
  {
   "cell_type": "code",
   "execution_count": null,
   "id": "accredited-december",
   "metadata": {},
   "outputs": [],
   "source": []
  },
  {
   "cell_type": "code",
   "execution_count": null,
   "id": "bronze-springer",
   "metadata": {},
   "outputs": [],
   "source": []
  },
  {
   "cell_type": "code",
   "execution_count": null,
   "id": "south-outline",
   "metadata": {},
   "outputs": [],
   "source": []
  },
  {
   "cell_type": "markdown",
   "id": "acceptable-effects",
   "metadata": {},
   "source": [
    "### MAKE MODEL FUNCTION(S)"
   ]
  },
  {
   "cell_type": "code",
   "execution_count": 31,
   "id": "interested-sword",
   "metadata": {},
   "outputs": [
    {
     "name": "stdout",
     "output_type": "stream",
     "text": [
      "(7370,), (2457,), (7370,), (2457,)\n"
     ]
    }
   ],
   "source": [
    "print(f'{X_train.shape}, {X_test.shape}, {y_train.shape}, {y_test.shape}')"
   ]
  },
  {
   "cell_type": "code",
   "execution_count": 32,
   "id": "boolean-mozambique",
   "metadata": {},
   "outputs": [
    {
     "name": "stdout",
     "output_type": "stream",
     "text": [
      "(9827,), (1962,), (9827,), (1962,)\n"
     ]
    }
   ],
   "source": [
    "print(f'{X.shape}, {X_new.shape}, {y.shape}, {y_new.shape}')"
   ]
  },
  {
   "cell_type": "code",
   "execution_count": null,
   "id": "thousand-bonus",
   "metadata": {},
   "outputs": [],
   "source": []
  },
  {
   "cell_type": "code",
   "execution_count": null,
   "id": "fleet-philippines",
   "metadata": {},
   "outputs": [],
   "source": []
  },
  {
   "cell_type": "code",
   "execution_count": 33,
   "id": "norwegian-volleyball",
   "metadata": {},
   "outputs": [],
   "source": [
    "from sklearn.ensemble import VotingRegressor, VotingClassifier\n",
    "from sklearn.neighbors import KNeighborsRegressor\n",
    "from sklearn.tree import DecisionTreeRegressor"
   ]
  },
  {
   "cell_type": "markdown",
   "id": "natural-pollution",
   "metadata": {},
   "source": [
    "### GridSearch Voting Ensemble"
   ]
  },
  {
   "cell_type": "code",
   "execution_count": 143,
   "id": "greenhouse-orange",
   "metadata": {},
   "outputs": [],
   "source": [
    "vote_ada_gbst_lgr = VotingClassifier(\n",
    "    [('ada', gs_cv_ab.model), \n",
    "     ('gbst', gs_tv_gb.model),\n",
    "     ('lgr', gs_tv_lgr.model)],\n",
    "    weights=[ 0.2, 0.2, 0.6 ]\n",
    ")"
   ]
  },
  {
   "cell_type": "code",
   "execution_count": 144,
   "id": "functional-opinion",
   "metadata": {},
   "outputs": [
    {
     "name": "stdout",
     "output_type": "stream",
     "text": [
      "Fitting 5 folds for each of 48 candidates, totalling 240 fits\n",
      "Fitting 5 folds for each of 48 candidates, totalling 240 fits\n",
      "Fitting 5 folds for each of 48 candidates, totalling 240 fits\n"
     ]
    },
    {
     "data": {
      "text/plain": [
       "array([[1, 0, 0],\n",
       "       [0, 0, 0],\n",
       "       [1, 1, 1],\n",
       "       ...,\n",
       "       [1, 1, 1],\n",
       "       [1, 1, 1],\n",
       "       [1, 1, 1]], dtype=int64)"
      ]
     },
     "execution_count": 144,
     "metadata": {},
     "output_type": "execute_result"
    }
   ],
   "source": [
    "vote_ada_gbst_lgr.fit_transform(X_train, y_train)"
   ]
  },
  {
   "cell_type": "code",
   "execution_count": 146,
   "id": "integral-state",
   "metadata": {},
   "outputs": [],
   "source": [
    "y_pred_vr_weights = vote_ada_gbst_lgr.predict(X_test)\n",
    "\n",
    "f1_score(y_test, y_pred_vr_weights)"
   ]
  },
  {
   "cell_type": "code",
   "execution_count": 147,
   "id": "powerful-hazard",
   "metadata": {},
   "outputs": [
    {
     "data": {
      "text/plain": [
       "<sklearn.metrics._plot.confusion_matrix.ConfusionMatrixDisplay at 0x218f506cf70>"
      ]
     },
     "execution_count": 147,
     "metadata": {},
     "output_type": "execute_result"
    },
    {
     "data": {
      "image/png": "[encoded data removed]",
      "text/plain": [
       "<Figure size 432x288 with 2 Axes>"
      ]
     },
     "metadata": {
      "needs_background": "light"
     },
     "output_type": "display_data"
    }
   ],
   "source": [
    "plot_confusion_matrix(vote_ada_gbst_lgr, X_test, y_test)"
   ]
  },
  {
   "cell_type": "code",
   "execution_count": 150,
   "id": "reasonable-traveler",
   "metadata": {},
   "outputs": [
    {
     "name": "stdout",
     "output_type": "stream",
     "text": [
      "Fitting 5 folds for each of 48 candidates, totalling 240 fits\n",
      "Fitting 5 folds for each of 48 candidates, totalling 240 fits\n",
      "Fitting 5 folds for each of 48 candidates, totalling 240 fits\n"
     ]
    },
    {
     "data": {
      "text/plain": [
       "array([[1, 1, 1],\n",
       "       [0, 0, 1],\n",
       "       [1, 1, 1],\n",
       "       ...,\n",
       "       [1, 1, 1],\n",
       "       [0, 0, 0],\n",
       "       [1, 1, 1]], dtype=int64)"
      ]
     },
     "execution_count": 150,
     "metadata": {},
     "output_type": "execute_result"
    }
   ],
   "source": [
    "vote_ada_gbst_lgr.fit_transform(X, y)"
   ]
  },
  {
   "cell_type": "code",
   "execution_count": 151,
   "id": "radio-solution",
   "metadata": {},
   "outputs": [
    {
     "data": {
      "text/plain": [
       "0.6696078431372549"
      ]
     },
     "execution_count": 151,
     "metadata": {},
     "output_type": "execute_result"
    }
   ],
   "source": [
    "y_pred_vr_weights = vote_ada_gbst_lgr.predict(X_new)\n",
    "\n",
    "f1_score(y_new, y_pred_vr_weights)"
   ]
  },
  {
   "cell_type": "code",
   "execution_count": 152,
   "id": "humanitarian-trance",
   "metadata": {},
   "outputs": [
    {
     "data": {
      "text/plain": [
       "<sklearn.metrics._plot.confusion_matrix.ConfusionMatrixDisplay at 0x218f5176dc0>"
      ]
     },
     "execution_count": 152,
     "metadata": {},
     "output_type": "execute_result"
    },
    {
     "data": {
      "image/png": "[encoded data removed]",
      "text/plain": [
       "<Figure size 432x288 with 2 Axes>"
      ]
     },
     "metadata": {
      "needs_background": "light"
     },
     "output_type": "display_data"
    }
   ],
   "source": [
    "plot_confusion_matrix(vote_ada_gbst_lgr, X_new, y_new)"
   ]
  },
  {
   "cell_type": "code",
   "execution_count": null,
   "id": "agreed-egyptian",
   "metadata": {},
   "outputs": [],
   "source": []
  },
  {
   "cell_type": "code",
   "execution_count": null,
   "id": "favorite-hypothetical",
   "metadata": {},
   "outputs": [],
   "source": []
  },
  {
   "cell_type": "code",
   "execution_count": null,
   "id": "signal-mumbai",
   "metadata": {},
   "outputs": [],
   "source": []
  },
  {
   "cell_type": "code",
   "execution_count": null,
   "id": "effective-jacksonville",
   "metadata": {},
   "outputs": [],
   "source": []
  },
  {
   "cell_type": "code",
   "execution_count": null,
   "id": "palestinian-national",
   "metadata": {},
   "outputs": [],
   "source": []
  },
  {
   "cell_type": "markdown",
   "id": "distant-links",
   "metadata": {},
   "source": [
    "### Tfidf Voting Ensemble: "
   ]
  },
  {
   "cell_type": "code",
   "execution_count": 153,
   "id": "based-bronze",
   "metadata": {},
   "outputs": [],
   "source": [
    "tvect = TfidfVectorizer()\n",
    "X_tvect_train = tvect.fit_transform(X_train)\n",
    "X_tvect_test = tvect.transform(X_test)\n",
    "X_tvect = tvect.transform(X)\n",
    "X_tvect_new = tvect.transform(X_new)\n"
   ]
  },
  {
   "cell_type": "code",
   "execution_count": 130,
   "id": "dirty-demographic",
   "metadata": {},
   "outputs": [],
   "source": [
    "v_ada_gbst_lgr_tvect = VotingClassifier(\n",
    "    [('ada', AdaBoostClassifier()), \n",
    "     ('gbst', GradientBoostingClassifier()),\n",
    "     ('lgr', LogisticRegression())],\n",
    "    weights=[ 0.2, 0.2, 0.6 ]\n",
    ")"
   ]
  },
  {
   "cell_type": "code",
   "execution_count": 131,
   "id": "intended-timer",
   "metadata": {},
   "outputs": [
    {
     "data": {
      "text/plain": [
       "array([[0, 0, 0],\n",
       "       [0, 0, 0],\n",
       "       [1, 1, 1],\n",
       "       ...,\n",
       "       [1, 1, 1],\n",
       "       [1, 1, 1],\n",
       "       [1, 1, 1]], dtype=int64)"
      ]
     },
     "execution_count": 131,
     "metadata": {},
     "output_type": "execute_result"
    }
   ],
   "source": [
    "v_ada_gbst_lgr_tvect.fit_transform(X_tvect_train, y_train)"
   ]
  },
  {
   "cell_type": "code",
   "execution_count": 149,
   "id": "olive-album",
   "metadata": {},
   "outputs": [
    {
     "data": {
      "text/plain": [
       "0.7317460317460318"
      ]
     },
     "execution_count": 149,
     "metadata": {},
     "output_type": "execute_result"
    }
   ],
   "source": [
    "y_v_ada_gbst_lgr_tvect_pred = v_ada_gbst_lgr_tvect.predict(X_tvect_test)\n",
    "\n",
    "f1_score(y_test, y_v_ada_gbst_lgr_tvect_pred)"
   ]
  },
  {
   "cell_type": "code",
   "execution_count": 142,
   "id": "scenic-piece",
   "metadata": {},
   "outputs": [
    {
     "data": {
      "text/plain": [
       "<sklearn.metrics._plot.confusion_matrix.ConfusionMatrixDisplay at 0x218f4b2a580>"
      ]
     },
     "execution_count": 142,
     "metadata": {},
     "output_type": "execute_result"
    },
    {
     "data": {
      "image/png": "[encoded data removed]",
      "text/plain": [
       "<Figure size 432x288 with 2 Axes>"
      ]
     },
     "metadata": {
      "needs_background": "light"
     },
     "output_type": "display_data"
    }
   ],
   "source": [
    "plot_confusion_matrix(v_ada_gbst_lgr_tvect, X_tvect_test, y_test) # 0.2, 0.2, 0.6"
   ]
  },
  {
   "cell_type": "code",
   "execution_count": 159,
   "id": "recreational-thesis",
   "metadata": {},
   "outputs": [
    {
     "data": {
      "text/plain": [
       "array([[1, 1, 1],\n",
       "       [0, 0, 1],\n",
       "       [1, 1, 1],\n",
       "       ...,\n",
       "       [1, 1, 1],\n",
       "       [0, 0, 0],\n",
       "       [1, 1, 1]], dtype=int64)"
      ]
     },
     "execution_count": 159,
     "metadata": {},
     "output_type": "execute_result"
    }
   ],
   "source": [
    "v_ada_gbst_lgr_tvect.fit_transform(X_tvect, y)"
   ]
  },
  {
   "cell_type": "code",
   "execution_count": 160,
   "id": "accredited-disposition",
   "metadata": {},
   "outputs": [
    {
     "data": {
      "text/plain": [
       "0.6699171136031203"
      ]
     },
     "execution_count": 160,
     "metadata": {},
     "output_type": "execute_result"
    }
   ],
   "source": [
    "y_v_ada_gbst_lgr_tvect_pred = v_ada_gbst_lgr_tvect.predict(X_tvect_new)\n",
    "\n",
    "f1_score(y_new, y_v_ada_gbst_lgr_tvect_pred)"
   ]
  },
  {
   "cell_type": "code",
   "execution_count": 161,
   "id": "closed-processing",
   "metadata": {},
   "outputs": [
    {
     "data": {
      "text/plain": [
       "<sklearn.metrics._plot.confusion_matrix.ConfusionMatrixDisplay at 0x218f4b4f670>"
      ]
     },
     "execution_count": 161,
     "metadata": {},
     "output_type": "execute_result"
    },
    {
     "data": {
      "image/png": "[encoded data removed]",
      "text/plain": [
       "<Figure size 432x288 with 2 Axes>"
      ]
     },
     "metadata": {
      "needs_background": "light"
     },
     "output_type": "display_data"
    }
   ],
   "source": [
    "plot_confusion_matrix(v_ada_gbst_lgr_tvect, X_tvect_new, y_new) # 0.2, 0.2, 0.6"
   ]
  },
  {
   "cell_type": "markdown",
   "id": "absolute-packing",
   "metadata": {},
   "source": [
    "### Tfidf Voting Ensemble: \n",
    "This time with some trees"
   ]
  },
  {
   "cell_type": "code",
   "execution_count": 201,
   "id": "completed-riverside",
   "metadata": {},
   "outputs": [],
   "source": [
    "v_tree_lgr_tvect = VotingClassifier(\n",
    "    [('tree', DecisionTreeClassifier()),\n",
    "     ('lgr', LogisticRegression())],\n",
    "    weights=[ 0.2, 0.8 ]\n",
    ")"
   ]
  },
  {
   "cell_type": "code",
   "execution_count": 202,
   "id": "accredited-plymouth",
   "metadata": {},
   "outputs": [
    {
     "data": {
      "text/plain": [
       "array([[0, 0],\n",
       "       [0, 0],\n",
       "       [1, 1],\n",
       "       ...,\n",
       "       [1, 1],\n",
       "       [1, 1],\n",
       "       [1, 1]], dtype=int64)"
      ]
     },
     "execution_count": 202,
     "metadata": {},
     "output_type": "execute_result"
    }
   ],
   "source": [
    "v_tree_lgr_tvect.fit_transform(X_tvect_train, y_train)"
   ]
  },
  {
   "cell_type": "code",
   "execution_count": 203,
   "id": "blind-orlando",
   "metadata": {},
   "outputs": [
    {
     "data": {
      "text/plain": [
       "0.7317460317460318"
      ]
     },
     "execution_count": 203,
     "metadata": {},
     "output_type": "execute_result"
    }
   ],
   "source": [
    "y_v_tree_lgr_tvect_pred = v_tree_lgr_tvect.predict(X_tvect_test)\n",
    "\n",
    "f1_score(y_test, y_v_tree_lgr_tvect_pred)"
   ]
  },
  {
   "cell_type": "code",
   "execution_count": 204,
   "id": "finished-michael",
   "metadata": {},
   "outputs": [
    {
     "data": {
      "text/plain": [
       "<sklearn.metrics._plot.confusion_matrix.ConfusionMatrixDisplay at 0x218f4d9a040>"
      ]
     },
     "execution_count": 204,
     "metadata": {},
     "output_type": "execute_result"
    },
    {
     "data": {
      "image/png": "[encoded data removed]",
      "text/plain": [
       "<Figure size 432x288 with 2 Axes>"
      ]
     },
     "metadata": {
      "needs_background": "light"
     },
     "output_type": "display_data"
    }
   ],
   "source": [
    "plot_confusion_matrix(v_tree_lgr_tvect, X_tvect_test, y_test) # 0.2, 0.2, 0.6"
   ]
  },
  {
   "cell_type": "code",
   "execution_count": 205,
   "id": "polished-table",
   "metadata": {},
   "outputs": [
    {
     "data": {
      "text/plain": [
       "array([[1, 1],\n",
       "       [1, 1],\n",
       "       [1, 1],\n",
       "       ...,\n",
       "       [1, 1],\n",
       "       [0, 0],\n",
       "       [1, 1]], dtype=int64)"
      ]
     },
     "execution_count": 205,
     "metadata": {},
     "output_type": "execute_result"
    }
   ],
   "source": [
    "v_tree_lgr_tvect.fit_transform(X_tvect, y)"
   ]
  },
  {
   "cell_type": "code",
   "execution_count": 206,
   "id": "seasonal-sheet",
   "metadata": {},
   "outputs": [
    {
     "data": {
      "text/plain": [
       "0.6699171136031203"
      ]
     },
     "execution_count": 206,
     "metadata": {},
     "output_type": "execute_result"
    }
   ],
   "source": [
    "y_v_tree_lgr_tvect_pred = v_tree_lgr_tvect.predict(X_tvect_new)\n",
    "\n",
    "f1_score(y_new, y_v_tree_lgr_tvect_pred)"
   ]
  },
  {
   "cell_type": "code",
   "execution_count": 207,
   "id": "noted-blast",
   "metadata": {},
   "outputs": [
    {
     "data": {
      "text/plain": [
       "<sklearn.metrics._plot.confusion_matrix.ConfusionMatrixDisplay at 0x218f788ee50>"
      ]
     },
     "execution_count": 207,
     "metadata": {},
     "output_type": "execute_result"
    },
    {
     "data": {
      "image/png": "[encoded data removed]",
      "text/plain": [
       "<Figure size 432x288 with 2 Axes>"
      ]
     },
     "metadata": {
      "needs_background": "light"
     },
     "output_type": "display_data"
    }
   ],
   "source": [
    "plot_confusion_matrix(v_tree_lgr_tvect, X_tvect_new, y_new) # 0.2, 0.2, 0.6"
   ]
  },
  {
   "cell_type": "code",
   "execution_count": 211,
   "id": "lined-education",
   "metadata": {},
   "outputs": [],
   "source": [
    "v_rfc_lgr_tvect = VotingClassifier(\n",
    "    [('rfc', RandomForestClassifier()),\n",
    "     ('lgr', LogisticRegression())],\n",
    "    weights=[ 0.2, 0.8 ]\n",
    ")"
   ]
  },
  {
   "cell_type": "code",
   "execution_count": 212,
   "id": "injured-portuguese",
   "metadata": {},
   "outputs": [
    {
     "data": {
      "text/plain": [
       "array([[0, 0],\n",
       "       [0, 0],\n",
       "       [1, 1],\n",
       "       ...,\n",
       "       [1, 1],\n",
       "       [1, 1],\n",
       "       [1, 1]], dtype=int64)"
      ]
     },
     "execution_count": 212,
     "metadata": {},
     "output_type": "execute_result"
    }
   ],
   "source": [
    "v_rfc_lgr_tvect.fit_transform(X_tvect_train, y_train)"
   ]
  },
  {
   "cell_type": "code",
   "execution_count": 213,
   "id": "straight-thesaurus",
   "metadata": {},
   "outputs": [
    {
     "data": {
      "text/plain": [
       "0.7317460317460318"
      ]
     },
     "execution_count": 213,
     "metadata": {},
     "output_type": "execute_result"
    }
   ],
   "source": [
    "y_v_rfc_lgr_tvect_pred = v_rfc_lgr_tvect.predict(X_tvect_test)\n",
    "\n",
    "f1_score(y_test, y_v_rfc_lgr_tvect_pred)"
   ]
  },
  {
   "cell_type": "code",
   "execution_count": 214,
   "id": "miniature-controversy",
   "metadata": {},
   "outputs": [
    {
     "data": {
      "text/plain": [
       "<sklearn.metrics._plot.confusion_matrix.ConfusionMatrixDisplay at 0x218f6f01d60>"
      ]
     },
     "execution_count": 214,
     "metadata": {},
     "output_type": "execute_result"
    },
    {
     "data": {
      "image/png": "[encoded data removed]",
      "text/plain": [
       "<Figure size 432x288 with 2 Axes>"
      ]
     },
     "metadata": {
      "needs_background": "light"
     },
     "output_type": "display_data"
    }
   ],
   "source": [
    "plot_confusion_matrix(v_rfc_lgr_tvect, X_tvect_test, y_test) # 0.2, 0.2, 0.6"
   ]
  },
  {
   "cell_type": "code",
   "execution_count": 215,
   "id": "negative-popularity",
   "metadata": {},
   "outputs": [
    {
     "data": {
      "text/plain": [
       "array([[1, 1],\n",
       "       [1, 1],\n",
       "       [1, 1],\n",
       "       ...,\n",
       "       [1, 1],\n",
       "       [0, 0],\n",
       "       [1, 1]], dtype=int64)"
      ]
     },
     "execution_count": 215,
     "metadata": {},
     "output_type": "execute_result"
    }
   ],
   "source": [
    "v_rfc_lgr_tvect.fit_transform(X_tvect, y)"
   ]
  },
  {
   "cell_type": "code",
   "execution_count": 216,
   "id": "involved-covering",
   "metadata": {},
   "outputs": [
    {
     "data": {
      "text/plain": [
       "0.6699171136031203"
      ]
     },
     "execution_count": 216,
     "metadata": {},
     "output_type": "execute_result"
    }
   ],
   "source": [
    "y_v_rfc_lgr_tvect_pred = v_rfc_lgr_tvect.predict(X_tvect_new)\n",
    "\n",
    "f1_score(y_new, y_v_rfc_lgr_tvect_pred)"
   ]
  },
  {
   "cell_type": "code",
   "execution_count": 217,
   "id": "common-gothic",
   "metadata": {},
   "outputs": [
    {
     "data": {
      "text/plain": [
       "<sklearn.metrics._plot.confusion_matrix.ConfusionMatrixDisplay at 0x218f6c1fcd0>"
      ]
     },
     "execution_count": 217,
     "metadata": {},
     "output_type": "execute_result"
    },
    {
     "data": {
      "image/png": "[encoded data removed]",
      "text/plain": [
       "<Figure size 432x288 with 2 Axes>"
      ]
     },
     "metadata": {
      "needs_background": "light"
     },
     "output_type": "display_data"
    }
   ],
   "source": [
    "plot_confusion_matrix(v_rfc_lgr_tvect, X_tvect_new, y_new) # 0.2, 0.2, 0.6"
   ]
  },
  {
   "cell_type": "code",
   "execution_count": 221,
   "id": "silent-calculator",
   "metadata": {},
   "outputs": [
    {
     "data": {
      "text/plain": [
       "{'F1 Score': 0.6699171136031203,\n",
       " 'Recall Score': 0.7038934426229508,\n",
       " 'Accuracy Score': 0.6549439347604485,\n",
       " 'Balanced Accuracy': 0.6551921574169521,\n",
       " 'Precision Score': 0.6390697674418605,\n",
       " 'True Positive': 687,\n",
       " 'False Negative': 289,\n",
       " 'False Positive': 388,\n",
       " 'True Negative': 598,\n",
       " 'Calculated Accuracy': 0.6549439347604485,\n",
       " 'Calculated Precision': 0.6390697674418605,\n",
       " 'Calculated Sensitivity': 0.7038934426229508,\n",
       " 'Calculated Specificity': 0.6064908722109533}"
      ]
     },
     "execution_count": 221,
     "metadata": {},
     "output_type": "execute_result"
    }
   ],
   "source": [
    "print_classification_stats(y_new, y_v_rfc_lgr_tvect_pred)"
   ]
  },
  {
   "cell_type": "code",
   "execution_count": 222,
   "id": "daily-niger",
   "metadata": {},
   "outputs": [
    {
     "data": {
      "text/plain": [
       "{'F1 Score': 0.8215867901731776,\n",
       " 'Recall Score': 0.8292682926829268,\n",
       " 'Accuracy Score': 0.8196988196988197,\n",
       " 'Balanced Accuracy': 0.8196871210765897,\n",
       " 'Precision Score': 0.8140462889066241,\n",
       " 'True Positive': 1020,\n",
       " 'False Negative': 210,\n",
       " 'False Positive': 233,\n",
       " 'True Negative': 994,\n",
       " 'Calculated Accuracy': 0.8196988196988197,\n",
       " 'Calculated Precision': 0.8140462889066241,\n",
       " 'Calculated Sensitivity': 0.8292682926829268,\n",
       " 'Calculated Specificity': 0.8101059494702526}"
      ]
     },
     "execution_count": 222,
     "metadata": {},
     "output_type": "execute_result"
    }
   ],
   "source": [
    "print_classification_stats(y_test, v_rfc_lgr_tvect.predict(X_tvect_test))"
   ]
  },
  {
   "cell_type": "code",
   "execution_count": null,
   "id": "computational-median",
   "metadata": {},
   "outputs": [],
   "source": []
  },
  {
   "cell_type": "code",
   "execution_count": null,
   "id": "loose-columbia",
   "metadata": {},
   "outputs": [],
   "source": []
  },
  {
   "cell_type": "code",
   "execution_count": null,
   "id": "stuffed-scratch",
   "metadata": {},
   "outputs": [],
   "source": []
  },
  {
   "cell_type": "code",
   "execution_count": null,
   "id": "competent-oliver",
   "metadata": {},
   "outputs": [],
   "source": []
  },
  {
   "cell_type": "code",
   "execution_count": null,
   "id": "abandoned-brain",
   "metadata": {},
   "outputs": [],
   "source": []
  },
  {
   "cell_type": "markdown",
   "id": "fatal-chambers",
   "metadata": {},
   "source": [
    "### CVect Voting Ensemble"
   ]
  },
  {
   "cell_type": "code",
   "execution_count": 154,
   "id": "permanent-citizen",
   "metadata": {},
   "outputs": [],
   "source": [
    "cvect = CountVectorizer()\n",
    "X_cvect_train = cvect.fit_transform(X_train)\n",
    "X_cvect_test = cvect.transform(X_test)\n",
    "X_cvect = cvect.fit_transform(X)\n",
    "X_cvect_new = cvect.transform(X_new)\n"
   ]
  },
  {
   "cell_type": "code",
   "execution_count": 135,
   "id": "interstate-buffalo",
   "metadata": {},
   "outputs": [],
   "source": [
    "v_ada_gbst_lgr_cvect = VotingClassifier(\n",
    "    [('ada', AdaBoostClassifier()), \n",
    "     ('gbst', GradientBoostingClassifier()),\n",
    "     ('lgr', LogisticRegression())],\n",
    "    weights=[ 0.2, 0.2, 0.6 ]\n",
    ")"
   ]
  },
  {
   "cell_type": "code",
   "execution_count": 162,
   "id": "flush-kelly",
   "metadata": {},
   "outputs": [
    {
     "data": {
      "text/plain": [
       "array([[1, 1, 1],\n",
       "       [0, 0, 1],\n",
       "       [1, 1, 1],\n",
       "       ...,\n",
       "       [1, 1, 1],\n",
       "       [0, 0, 0],\n",
       "       [1, 1, 1]], dtype=int64)"
      ]
     },
     "execution_count": 162,
     "metadata": {},
     "output_type": "execute_result"
    }
   ],
   "source": [
    "v_ada_gbst_lgr_cvect.fit_transform(X_cvect, y)"
   ]
  },
  {
   "cell_type": "code",
   "execution_count": 163,
   "id": "cubic-possible",
   "metadata": {},
   "outputs": [
    {
     "data": {
      "text/plain": [
       "0.6499754540991655"
      ]
     },
     "execution_count": 163,
     "metadata": {},
     "output_type": "execute_result"
    }
   ],
   "source": [
    "y_v_ada_gbst_lgr_cvect_pred = v_ada_gbst_lgr_cvect.predict(X_cvect_new)\n",
    "\n",
    "f1_score(y_new, y_v_ada_gbst_lgr_cvect_pred)"
   ]
  },
  {
   "cell_type": "code",
   "execution_count": 164,
   "id": "reflected-mercury",
   "metadata": {},
   "outputs": [
    {
     "data": {
      "text/plain": [
       "<sklearn.metrics._plot.confusion_matrix.ConfusionMatrixDisplay at 0x218f12b1f70>"
      ]
     },
     "execution_count": 164,
     "metadata": {},
     "output_type": "execute_result"
    },
    {
     "data": {
      "image/png": "[encoded data removed]",
      "text/plain": [
       "<Figure size 432x288 with 2 Axes>"
      ]
     },
     "metadata": {
      "needs_background": "light"
     },
     "output_type": "display_data"
    }
   ],
   "source": [
    "plot_confusion_matrix(v_ada_gbst_lgr_cvect, X_cvect_new, y_new) # 0.2, 0.2, 0.6"
   ]
  },
  {
   "cell_type": "code",
   "execution_count": 165,
   "id": "fiscal-sociology",
   "metadata": {},
   "outputs": [
    {
     "data": {
      "text/plain": [
       "array([[0, 0, 0],\n",
       "       [0, 0, 0],\n",
       "       [1, 1, 1],\n",
       "       ...,\n",
       "       [1, 1, 1],\n",
       "       [1, 1, 1],\n",
       "       [1, 1, 1]], dtype=int64)"
      ]
     },
     "execution_count": 165,
     "metadata": {},
     "output_type": "execute_result"
    }
   ],
   "source": [
    "v_ada_gbst_lgr_cvect.fit_transform(X_cvect_train, y_train)"
   ]
  },
  {
   "cell_type": "code",
   "execution_count": 166,
   "id": "lucky-brother",
   "metadata": {},
   "outputs": [
    {
     "data": {
      "text/plain": [
       "0.7266272189349113"
      ]
     },
     "execution_count": 166,
     "metadata": {},
     "output_type": "execute_result"
    }
   ],
   "source": [
    "y_v_ada_gbst_lgr_cvect_pred = v_ada_gbst_lgr_cvect.predict(X_cvect_test)\n",
    "\n",
    "f1_score(y_test, y_v_ada_gbst_lgr_cvect_pred)"
   ]
  },
  {
   "cell_type": "code",
   "execution_count": 167,
   "id": "formal-garden",
   "metadata": {},
   "outputs": [
    {
     "data": {
      "text/plain": [
       "<sklearn.metrics._plot.confusion_matrix.ConfusionMatrixDisplay at 0x218f5381190>"
      ]
     },
     "execution_count": 167,
     "metadata": {},
     "output_type": "execute_result"
    },
    {
     "data": {
      "image/png": "[encoded data removed]",
      "text/plain": [
       "<Figure size 432x288 with 2 Axes>"
      ]
     },
     "metadata": {
      "needs_background": "light"
     },
     "output_type": "display_data"
    }
   ],
   "source": [
    "plot_confusion_matrix(v_ada_gbst_lgr_cvect, X_cvect_test, y_test) # 0.2, 0.2, 0.6"
   ]
  },
  {
   "cell_type": "code",
   "execution_count": null,
   "id": "stupid-conjunction",
   "metadata": {},
   "outputs": [],
   "source": []
  },
  {
   "cell_type": "code",
   "execution_count": null,
   "id": "potential-rally",
   "metadata": {},
   "outputs": [],
   "source": []
  },
  {
   "cell_type": "code",
   "execution_count": null,
   "id": "egyptian-biology",
   "metadata": {},
   "outputs": [],
   "source": []
  },
  {
   "cell_type": "code",
   "execution_count": null,
   "id": "chief-history",
   "metadata": {},
   "outputs": [],
   "source": []
  },
  {
   "cell_type": "code",
   "execution_count": null,
   "id": "promising-exhaust",
   "metadata": {},
   "outputs": [],
   "source": []
  },
  {
   "cell_type": "code",
   "execution_count": null,
   "id": "processed-damage",
   "metadata": {},
   "outputs": [],
   "source": []
  },
  {
   "cell_type": "code",
   "execution_count": null,
   "id": "aging-leather",
   "metadata": {},
   "outputs": [],
   "source": []
  },
  {
   "cell_type": "code",
   "execution_count": null,
   "id": "aware-tenant",
   "metadata": {},
   "outputs": [],
   "source": [
    "from IPython.lib.display import Audio\n",
    "framerate = 4410\n",
    "play_time_seconds = 3\n",
    "t = np.linspace(0, play_time_seconds, framerate*play_time_seconds)\n",
    "audio_data = np.sin(2*np.pi*261*t) + np.sin(2*np.pi*440*t) + np.sin(4*np.pi*440*t) + np.sin(4*np.pi*261*t)\n",
    "Audio(audio_data, rate=framerate, autoplay=True)"
   ]
  },
  {
   "cell_type": "code",
   "execution_count": null,
   "id": "circular-howard",
   "metadata": {},
   "outputs": [],
   "source": []
  },
  {
   "cell_type": "code",
   "execution_count": null,
   "id": "subsequent-quilt",
   "metadata": {},
   "outputs": [],
   "source": []
  },
  {
   "cell_type": "code",
   "execution_count": null,
   "id": "split-jerusalem",
   "metadata": {},
   "outputs": [],
   "source": []
  },
  {
   "cell_type": "code",
   "execution_count": 218,
   "id": "jewish-thomson",
   "metadata": {},
   "outputs": [],
   "source": [
    "### Did this run??"
   ]
  },
  {
   "cell_type": "code",
   "execution_count": 220,
   "id": "desperate-degree",
   "metadata": {},
   "outputs": [],
   "source": []
  },
  {
   "cell_type": "code",
   "execution_count": null,
   "id": "frequent-consideration",
   "metadata": {},
   "outputs": [],
   "source": []
  }
 ],
 "metadata": {
  "kernelspec": {
   "display_name": "Python 3",
   "language": "python",
   "name": "python3"
  },
  "language_info": {
   "codemirror_mode": {
    "name": "ipython",
    "version": 3
   },
   "file_extension": ".py",
   "mimetype": "text/x-python",
   "name": "python",
   "nbconvert_exporter": "python",
   "pygments_lexer": "ipython3",
   "version": "3.8.5"
  }
 },
 "nbformat": 4,
 "nbformat_minor": 5
}
