{
 "cells": [
  {
   "cell_type": "markdown",
   "id": "touched-enhancement",
   "metadata": {},
   "source": [
    "#### *API and NLP Project (#3)*\n",
    "---\n",
    "# __Comparing Text with Supervised Machine Learning__\n",
    "---\n",
    "#### *Christopher Caldarella, Data Scientist*\n",
    "##### *2021-05-04*\n",
    "---\n",
    "###### __*Data taken from Reddit.com*__\n"
   ]
  },
  {
   "cell_type": "markdown",
   "id": "ranging-overall",
   "metadata": {},
   "source": [
    "#### TABLE OF CONTENTS\n",
    " - [Conclusion](#Conclusion) \n",
    " - [Areas for Further Research and Study](#Areas-for-Further-Research-and-Study)\n",
    " - [And further...](#And-further...)\n",
    " - [Can we do better than our Null Model?](#Can-we-do-better-than-our-Null-Model?)\n",
    " - [Logistic Regression Model](#Logistic-Regression-Model)\n",
    " - [Naive Bayes Model](#Naive-Bayes-Model)\n",
    " - [Comparing Confusion Matrices](#Comparing-Confusion-Matrices)\n",
    " - [How do the predictions compare with our data?](#How-do-the-predictions-compare-with-our-data?)\n",
    " - [And a quick example of using non-text features](#And-a-quick-example-of-using-non-text-features)\n"
   ]
  },
  {
   "cell_type": "markdown",
   "id": "fancy-planning",
   "metadata": {},
   "source": [
    "## Conclusion\n",
    "[(back to top)](#API-and-NLP-Project-(#3))<br />\n",
    "\n",
    "The Metrics I focused on was mainly F1 score, but also Accuracy and Recall. I tried to keep an eye on the ratio of True/False Positives/Negatives. Confusion Matrices proved helpful for the latter. Since this is a Binary Classification problem with no real \"Negative\" or \"Positive\" I wanted a Model that was well balanced in Precision __*and*__ Accuracy.\n",
    "\n",
    "Since this we are only  trying to predict which subreddit a comment came from, I think we would prefer balance with a model. We are not predicting a cancer diagnosis (where we would want to less False Negatives and would allow more False Postives to do achieve this), and this is not something where we need to determine any sort of risk, like lending money for a loan. These are two equally weighted classifications, so I tried to achieve the most balanced results, but with some give if the Model predicted better; there is always going tobe bias.\n",
    "\n",
    "It is worth noting that Lemmatizing the Naive Bayes model did not yield the results I was hoping for - it made the bias worse and took away any speed that teh Bayes model typically gives.\n",
    "\n",
    "While my Bayesian Model did ok, I think my Logistic Regression model performed best in terms of balance. And Logistic Regression did well with it's F1 score too (0.7116), but other models came close, such as the Ada Boost and the Random Forest Classifications. I would recommend the Logistic Regression with TF-IDF Vectorization to make predictions between these two subreddits."
   ]
  },
  {
   "cell_type": "markdown",
   "id": "victorian-approval",
   "metadata": {},
   "source": [
    "## Areas for Further Research and Study\n",
    "[(back to top)](#API-and-NLP-Project-(#3))<br />\n",
    "\n",
    "To further research into this topic, I think it would worthwhile to study generating probability of other features, and caluclating a prediction to see if there is any sway. Like I often found, it becomes difficult to find results that are not biased. And maybe it would be worth some time to re-introduce some Data that had since been disregarded.\n",
    "\n",
    "Extending upon that I think it might be useful to apply ways to combine the results of the Data compiled using Sparse Matrices with data that was compiled without them. And perhaps introducing Neural Networks."
   ]
  },
  {
   "cell_type": "markdown",
   "id": "steady-feeling",
   "metadata": {},
   "source": [
    "## And further...\n",
    "[(back to top)](#API-and-NLP-Project-(#3))<br />\n",
    "\n",
    "To take this one step further, I pulled a new set of data the morning of the presentation, which I was hoping to showcase, but I ran out of time. Please follow along to see how my best Baysian Model and Best Logistic Regression Model held up as I take you through an abridged version of my results."
   ]
  },
  {
   "cell_type": "code",
   "execution_count": 1,
   "id": "prepared-developer",
   "metadata": {},
   "outputs": [],
   "source": [
    "from ipynb.fs.full.functions import *"
   ]
  },
  {
   "cell_type": "code",
   "execution_count": 2,
   "id": "referenced-arthur",
   "metadata": {},
   "outputs": [],
   "source": [
    "# Data to create our model\n",
    "# dfa = pd.read_csv('../data/ama_comments.csv')\n",
    "# dfb = pd.read_csv('../data/ar_comments.csv')\n",
    "dfa = pd.read_csv('../data/2021-05-04_1007_AMA_comments.csv')\n",
    "dfb = pd.read_csv('../data/2021-05-04_1007_AskReddit_comments.csv')\n",
    "\n",
    "df = pd.concat([dfa, dfb], axis=0).reset_index(drop=True)"
   ]
  },
  {
   "cell_type": "markdown",
   "id": "breathing-start",
   "metadata": {},
   "source": [
    "## Can we do better than our Null Model?\n",
    "[(back to top)](#API-and-NLP-Project-(#3))<br />\n",
    "\n",
    "Our null model was evenly split around 50/50. Comparing even some of the poorest __optimized__ models, I would say doing better than the Null Model was achieved.\n",
    "\n",
    "In this notebook, the best score was with Logistic Regression with an F1 Score of 0.7047, and an Accuracy of 0.6987. In contrast, the Bayes Model has an F1 Score of 0.6397, and an Accuracy of 0.6607.\n",
    "\n",
    "\n",
    "Continue on to look at the Logistic Regression, and Naive Bayes Models."
   ]
  },
  {
   "cell_type": "code",
   "execution_count": 3,
   "id": "sharing-family",
   "metadata": {
    "tags": []
   },
   "outputs": [
    {
     "data": {
      "image/png": "[encoded data removed]",
      "text/plain": [
       "<Figure size 432x288 with 1 Axes>"
      ]
     },
     "metadata": {
      "needs_background": "light"
     },
     "output_type": "display_data"
    }
   ],
   "source": [
    "sns.countplot(df['subreddit']);\n",
    "# plt.savefig('../images/subreddit_count.png')"
   ]
  },
  {
   "cell_type": "code",
   "execution_count": 4,
   "id": "portable-psychology",
   "metadata": {},
   "outputs": [],
   "source": [
    "df = CleanUp(df).df.copy()"
   ]
  },
  {
   "cell_type": "code",
   "execution_count": 5,
   "id": "covered-filter",
   "metadata": {},
   "outputs": [],
   "source": [
    "# Model X, and y\n",
    "df = df.sample(n=df.shape[0], random_state=3)\n",
    "\n",
    "X = df['body']\n",
    "y = df['subreddit_binary']\n",
    "\n",
    "# X_train, X_test, y_train, y_test = train_test_split(X, y, stratify=y, random_state=3)"
   ]
  },
  {
   "cell_type": "code",
   "execution_count": null,
   "id": "waiting-puzzle",
   "metadata": {},
   "outputs": [],
   "source": []
  },
  {
   "cell_type": "code",
   "execution_count": 6,
   "id": "adjacent-spoke",
   "metadata": {},
   "outputs": [],
   "source": [
    "# TEST data (not part of train/test/split)\n",
    "df1 = pd.read_csv('../data/2021-05-04_0920_AMA_comments.csv')\n",
    "df2 = pd.read_csv('../data/2021-05-04_0920_AskReddit_comments.csv')\n",
    "df_test_pred = pd.concat([df1, df2], axis=0).reset_index(drop=True)"
   ]
  },
  {
   "cell_type": "code",
   "execution_count": 7,
   "id": "educated-family",
   "metadata": {},
   "outputs": [],
   "source": [
    "df_test_pred = CleanUp(df_test_pred).df.copy()"
   ]
  },
  {
   "cell_type": "code",
   "execution_count": 8,
   "id": "governmental-amber",
   "metadata": {},
   "outputs": [],
   "source": [
    "# Model Test Data\n",
    "df_test_pred = df_test_pred.sample(n=df_test_pred.shape[0], random_state=3)\n",
    "\n",
    "X_new = df_test_pred['body']\n",
    "y_new = df_test_pred['subreddit_binary'] "
   ]
  },
  {
   "cell_type": "markdown",
   "id": "dying-celebrity",
   "metadata": {},
   "source": [
    "# Logistic Regression Model\n",
    "[(back to top)](#API-and-NLP-Project-(#3))<br />\n"
   ]
  },
  {
   "cell_type": "markdown",
   "id": "western-passion",
   "metadata": {},
   "source": [
    "<h2 style=\"color:black;\"> TfidfVectorizer(), LogisticRegression() (with GridSearch/Pipeline) </h2>\n"
   ]
  },
  {
   "cell_type": "code",
   "execution_count": 9,
   "id": "revolutionary-printing",
   "metadata": {},
   "outputs": [
    {
     "name": "stdout",
     "output_type": "stream",
     "text": [
      "Fitting 5 folds for each of 48 candidates, totalling 240 fits\n"
     ]
    }
   ],
   "source": [
    "\n",
    "X_gs_tv_lgr = ClassificationModel(make_pipeline(\n",
    "    TfidfVectorizer(), \n",
    "    LogisticRegression()), \n",
    "    X_train=X, X_test=X_new, y_train=y, y_test=y_new,\n",
    "    params={\n",
    "        'tfidfvectorizer__ngram_range': [ (1, 1), (1, 2), (2, 2), (1, 3), (2, 3), (3, 3) ],\n",
    "        'tfidfvectorizer__stop_words': [ 'english', None ],\n",
    "        'tfidfvectorizer__max_features': [ 500, 1000, 2000, 5000 ]\n",
    "}, verbose=3, mod_name='Xy/new Tfidf LogReg')\n"
   ]
  },
  {
   "cell_type": "code",
   "execution_count": 10,
   "id": "residential-aging",
   "metadata": {},
   "outputs": [
    {
     "name": "stdout",
     "output_type": "stream",
     "text": [
      "{'tfidfvectorizer__max_features': 5000, 'tfidfvectorizer__ngram_range': (1, 2), 'tfidfvectorizer__stop_words': None}\n",
      "Pipeline(steps=[('tfidfvectorizer',\n",
      "                 TfidfVectorizer(max_features=5000, ngram_range=(1, 2))),\n",
      "                ('logisticregression', LogisticRegression())])\n",
      "0.7116775007725575\n"
     ]
    }
   ],
   "source": [
    "\n",
    "print(X_gs_tv_lgr.model.best_params_)\n",
    "print(X_gs_tv_lgr.model.best_estimator_)\n",
    "print(X_gs_tv_lgr.model.best_score_)\n"
   ]
  },
  {
   "cell_type": "markdown",
   "id": "exempt-solomon",
   "metadata": {},
   "source": [
    "# Naive Bayes Model\n",
    "[(back to top)](#API-and-NLP-Project-(#3))<br />\n"
   ]
  },
  {
   "cell_type": "markdown",
   "id": "atmospheric-horizontal",
   "metadata": {},
   "source": [
    "<h2 style=\"color:black;\"> TfidfVectorizer(), MultinomialNB() (with GridSearch/Pipeline) </h2>\n"
   ]
  },
  {
   "cell_type": "code",
   "execution_count": 11,
   "id": "popular-bracket",
   "metadata": {},
   "outputs": [
    {
     "name": "stdout",
     "output_type": "stream",
     "text": [
      "Fitting 5 folds for each of 48 candidates, totalling 240 fits\n"
     ]
    }
   ],
   "source": [
    "X_gs_tv_nb = ClassificationModel(make_pipeline(\n",
    "    TfidfVectorizer(), \n",
    "    MultinomialNB()), \n",
    "    X, X_new, y, y_new,\n",
    "    params={\n",
    "        'tfidfvectorizer__ngram_range': [ (1, 1), (1, 2), (2, 2), (1, 3), (2, 3), (3, 3) ],\n",
    "        'tfidfvectorizer__stop_words': [ 'english', None ],\n",
    "        'tfidfvectorizer__max_features': [ 500, 1000, 2000, 5000 ]\n",
    "}, verbose=3, mod_name='Xy/new Tfidf nBayes')\n"
   ]
  },
  {
   "cell_type": "code",
   "execution_count": 12,
   "id": "growing-appointment",
   "metadata": {},
   "outputs": [
    {
     "name": "stdout",
     "output_type": "stream",
     "text": [
      "{'tfidfvectorizer__max_features': 5000, 'tfidfvectorizer__ngram_range': (1, 1), 'tfidfvectorizer__stop_words': None}\n",
      "Pipeline(steps=[('tfidfvectorizer', TfidfVectorizer(max_features=5000)),\n",
      "                ('multinomialnb', MultinomialNB())])\n",
      "0.6958779155222097\n"
     ]
    }
   ],
   "source": [
    "\n",
    "print(X_gs_tv_nb.model.best_params_)\n",
    "print(X_gs_tv_nb.model.best_estimator_)\n",
    "print(X_gs_tv_nb.model.best_score_)\n"
   ]
  },
  {
   "cell_type": "code",
   "execution_count": 13,
   "id": "arctic-squad",
   "metadata": {},
   "outputs": [
    {
     "data": {
      "text/html": [
       "<div>\n",
       "<style scoped>\n",
       "    .dataframe tbody tr th:only-of-type {\n",
       "        vertical-align: middle;\n",
       "    }\n",
       "\n",
       "    .dataframe tbody tr th {\n",
       "        vertical-align: top;\n",
       "    }\n",
       "\n",
       "    .dataframe thead th {\n",
       "        text-align: right;\n",
       "    }\n",
       "</style>\n",
       "<table border=\"1\" class=\"dataframe\">\n",
       "  <thead>\n",
       "    <tr style=\"text-align: right;\">\n",
       "      <th></th>\n",
       "      <th>Xy/new Tfidf LogReg</th>\n",
       "      <th>Xy/new Tfidf nBayes</th>\n",
       "    </tr>\n",
       "  </thead>\n",
       "  <tbody>\n",
       "    <tr>\n",
       "      <th>F1 Score</th>\n",
       "      <td>0.720850</td>\n",
       "      <td>0.662954</td>\n",
       "    </tr>\n",
       "    <tr>\n",
       "      <th>Recall Score</th>\n",
       "      <td>0.748205</td>\n",
       "      <td>0.641026</td>\n",
       "    </tr>\n",
       "    <tr>\n",
       "      <th>Accuracy</th>\n",
       "      <td>0.710776</td>\n",
       "      <td>0.674686</td>\n",
       "    </tr>\n",
       "    <tr>\n",
       "      <th>Balanced Accuracy</th>\n",
       "      <td>0.710842</td>\n",
       "      <td>0.674626</td>\n",
       "    </tr>\n",
       "    <tr>\n",
       "      <th>Precision Score</th>\n",
       "      <td>0.695424</td>\n",
       "      <td>0.686436</td>\n",
       "    </tr>\n",
       "    <tr>\n",
       "      <th>Average Precision Score</th>\n",
       "      <td>0.761512</td>\n",
       "      <td>0.756516</td>\n",
       "    </tr>\n",
       "    <tr>\n",
       "      <th>ROC AUC Score</th>\n",
       "      <td>0.776260</td>\n",
       "      <td>0.755035</td>\n",
       "    </tr>\n",
       "    <tr>\n",
       "      <th>True Positive</th>\n",
       "      <td>1318.000000</td>\n",
       "      <td>1386.000000</td>\n",
       "    </tr>\n",
       "    <tr>\n",
       "      <th>False Negative</th>\n",
       "      <td>639.000000</td>\n",
       "      <td>571.000000</td>\n",
       "    </tr>\n",
       "    <tr>\n",
       "      <th>False Positive</th>\n",
       "      <td>491.000000</td>\n",
       "      <td>700.000000</td>\n",
       "    </tr>\n",
       "    <tr>\n",
       "      <th>True Negative</th>\n",
       "      <td>1459.000000</td>\n",
       "      <td>1250.000000</td>\n",
       "    </tr>\n",
       "    <tr>\n",
       "      <th>Calculated Accuracy</th>\n",
       "      <td>0.710776</td>\n",
       "      <td>0.674686</td>\n",
       "    </tr>\n",
       "    <tr>\n",
       "      <th>Calculated Precision</th>\n",
       "      <td>0.728579</td>\n",
       "      <td>0.664430</td>\n",
       "    </tr>\n",
       "    <tr>\n",
       "      <th>Calculated Sensitivity</th>\n",
       "      <td>0.673480</td>\n",
       "      <td>0.708227</td>\n",
       "    </tr>\n",
       "    <tr>\n",
       "      <th>Calculated Specificity</th>\n",
       "      <td>0.748205</td>\n",
       "      <td>0.641026</td>\n",
       "    </tr>\n",
       "    <tr>\n",
       "      <th>Train F1 Score</th>\n",
       "      <td>0.790388</td>\n",
       "      <td>0.752140</td>\n",
       "    </tr>\n",
       "    <tr>\n",
       "      <th>Train Recall Score</th>\n",
       "      <td>0.813582</td>\n",
       "      <td>0.715354</td>\n",
       "    </tr>\n",
       "    <tr>\n",
       "      <th>Train Accuracy</th>\n",
       "      <td>0.784589</td>\n",
       "      <td>0.764649</td>\n",
       "    </tr>\n",
       "    <tr>\n",
       "      <th>Train Balanced Accuracy</th>\n",
       "      <td>0.784637</td>\n",
       "      <td>0.764568</td>\n",
       "    </tr>\n",
       "    <tr>\n",
       "      <th>Train Precision Score</th>\n",
       "      <td>0.768479</td>\n",
       "      <td>0.792916</td>\n",
       "    </tr>\n",
       "    <tr>\n",
       "      <th>Train Average Precision Score</th>\n",
       "      <td>0.865258</td>\n",
       "      <td>0.855326</td>\n",
       "    </tr>\n",
       "    <tr>\n",
       "      <th>Train ROC AUC Score</th>\n",
       "      <td>0.866849</td>\n",
       "      <td>0.856800</td>\n",
       "    </tr>\n",
       "    <tr>\n",
       "      <th>Train True Positive</th>\n",
       "      <td>7402.000000</td>\n",
       "      <td>7971.000000</td>\n",
       "    </tr>\n",
       "    <tr>\n",
       "      <th>Train False Negative</th>\n",
       "      <td>2393.000000</td>\n",
       "      <td>1824.000000</td>\n",
       "    </tr>\n",
       "    <tr>\n",
       "      <th>Train False Positive</th>\n",
       "      <td>1820.000000</td>\n",
       "      <td>2779.000000</td>\n",
       "    </tr>\n",
       "    <tr>\n",
       "      <th>Train True Negative</th>\n",
       "      <td>7943.000000</td>\n",
       "      <td>6984.000000</td>\n",
       "    </tr>\n",
       "    <tr>\n",
       "      <th>Train Calculated Accuracy</th>\n",
       "      <td>0.784589</td>\n",
       "      <td>0.764649</td>\n",
       "    </tr>\n",
       "    <tr>\n",
       "      <th>Train Calculated Precision</th>\n",
       "      <td>0.802646</td>\n",
       "      <td>0.741488</td>\n",
       "    </tr>\n",
       "    <tr>\n",
       "      <th>Train Calculated Sensitivity</th>\n",
       "      <td>0.755692</td>\n",
       "      <td>0.813783</td>\n",
       "    </tr>\n",
       "    <tr>\n",
       "      <th>Train Calculated Specificity</th>\n",
       "      <td>0.813582</td>\n",
       "      <td>0.715354</td>\n",
       "    </tr>\n",
       "  </tbody>\n",
       "</table>\n",
       "</div>"
      ],
      "text/plain": [
       "                               Xy/new Tfidf LogReg  Xy/new Tfidf nBayes\n",
       "F1 Score                                  0.720850             0.662954\n",
       "Recall Score                              0.748205             0.641026\n",
       "Accuracy                                  0.710776             0.674686\n",
       "Balanced Accuracy                         0.710842             0.674626\n",
       "Precision Score                           0.695424             0.686436\n",
       "Average Precision Score                   0.761512             0.756516\n",
       "ROC AUC Score                             0.776260             0.755035\n",
       "True Positive                          1318.000000          1386.000000\n",
       "False Negative                          639.000000           571.000000\n",
       "False Positive                          491.000000           700.000000\n",
       "True Negative                          1459.000000          1250.000000\n",
       "Calculated Accuracy                       0.710776             0.674686\n",
       "Calculated Precision                      0.728579             0.664430\n",
       "Calculated Sensitivity                    0.673480             0.708227\n",
       "Calculated Specificity                    0.748205             0.641026\n",
       "Train F1 Score                            0.790388             0.752140\n",
       "Train Recall Score                        0.813582             0.715354\n",
       "Train Accuracy                            0.784589             0.764649\n",
       "Train Balanced Accuracy                   0.784637             0.764568\n",
       "Train Precision Score                     0.768479             0.792916\n",
       "Train Average Precision Score             0.865258             0.855326\n",
       "Train ROC AUC Score                       0.866849             0.856800\n",
       "Train True Positive                    7402.000000          7971.000000\n",
       "Train False Negative                   2393.000000          1824.000000\n",
       "Train False Positive                   1820.000000          2779.000000\n",
       "Train True Negative                    7943.000000          6984.000000\n",
       "Train Calculated Accuracy                 0.784589             0.764649\n",
       "Train Calculated Precision                0.802646             0.741488\n",
       "Train Calculated Sensitivity              0.755692             0.813783\n",
       "Train Calculated Specificity              0.813582             0.715354"
      ]
     },
     "execution_count": 13,
     "metadata": {},
     "output_type": "execute_result"
    }
   ],
   "source": [
    "compare_df = pd.concat([X_gs_tv_lgr.df, X_gs_tv_nb.df], axis=1)\n",
    "compare_df"
   ]
  },
  {
   "cell_type": "code",
   "execution_count": null,
   "id": "respective-identification",
   "metadata": {},
   "outputs": [],
   "source": []
  },
  {
   "cell_type": "markdown",
   "id": "strong-timer",
   "metadata": {},
   "source": [
    "# Comparing Confusion Matrices\n",
    "[(back to top)](#API-and-NLP-Project-(#3))<br />\n"
   ]
  },
  {
   "cell_type": "markdown",
   "id": "voluntary-adobe",
   "metadata": {},
   "source": [
    "## Train Data"
   ]
  },
  {
   "cell_type": "markdown",
   "id": "textile-sculpture",
   "metadata": {},
   "source": [
    "### Logistic Regression \n"
   ]
  },
  {
   "cell_type": "code",
   "execution_count": 14,
   "id": "mysterious-launch",
   "metadata": {},
   "outputs": [
    {
     "data": {
      "image/png": "[encoded data removed]",
      "text/plain": [
       "<Figure size 432x288 with 2 Axes>"
      ]
     },
     "metadata": {
      "needs_background": "light"
     },
     "output_type": "display_data"
    }
   ],
   "source": [
    "X_gs_tv_lgr.plot_confusion_matrix(X, y)"
   ]
  },
  {
   "cell_type": "markdown",
   "id": "cathedral-behalf",
   "metadata": {},
   "source": [
    "### Naive Bayes \n"
   ]
  },
  {
   "cell_type": "code",
   "execution_count": 15,
   "id": "handled-pacific",
   "metadata": {},
   "outputs": [
    {
     "data": {
      "image/png": "[encoded data removed]",
      "text/plain": [
       "<Figure size 432x288 with 2 Axes>"
      ]
     },
     "metadata": {
      "needs_background": "light"
     },
     "output_type": "display_data"
    }
   ],
   "source": [
    "X_gs_tv_nb.plot_confusion_matrix(X, y)"
   ]
  },
  {
   "cell_type": "markdown",
   "id": "constitutional-winning",
   "metadata": {},
   "source": [
    "## Test Data"
   ]
  },
  {
   "cell_type": "markdown",
   "id": "centered-clone",
   "metadata": {},
   "source": [
    "### Logistic Regression \n"
   ]
  },
  {
   "cell_type": "code",
   "execution_count": 16,
   "id": "musical-creature",
   "metadata": {},
   "outputs": [
    {
     "data": {
      "image/png": "[encoded data removed]",
      "text/plain": [
       "<Figure size 432x288 with 2 Axes>"
      ]
     },
     "metadata": {
      "needs_background": "light"
     },
     "output_type": "display_data"
    }
   ],
   "source": [
    "X_gs_tv_lgr.plot_confusion_matrix(X_new, y_new)"
   ]
  },
  {
   "cell_type": "markdown",
   "id": "quarterly-cleaners",
   "metadata": {},
   "source": [
    "### Naive Bayes \n"
   ]
  },
  {
   "cell_type": "code",
   "execution_count": 17,
   "id": "sporting-dragon",
   "metadata": {},
   "outputs": [
    {
     "data": {
      "image/png": "[encoded data removed]",
      "text/plain": [
       "<Figure size 432x288 with 2 Axes>"
      ]
     },
     "metadata": {
      "needs_background": "light"
     },
     "output_type": "display_data"
    }
   ],
   "source": [
    "X_gs_tv_nb.plot_confusion_matrix(X_new, y_new)"
   ]
  },
  {
   "cell_type": "code",
   "execution_count": null,
   "id": "amino-career",
   "metadata": {},
   "outputs": [],
   "source": []
  },
  {
   "cell_type": "code",
   "execution_count": null,
   "id": "martial-visibility",
   "metadata": {},
   "outputs": [],
   "source": []
  },
  {
   "cell_type": "code",
   "execution_count": null,
   "id": "painful-genesis",
   "metadata": {},
   "outputs": [],
   "source": []
  },
  {
   "cell_type": "markdown",
   "id": "billion-laundry",
   "metadata": {},
   "source": [
    "## How do the predictions compare with our data?\n",
    "[(back to top)](#API-and-NLP-Project-(#3))<br />\n",
    "\n",
    "Run the following cells, and a random row is selected, and it tells you where the post came from, and whether each model correctly predicted where the comment came from."
   ]
  },
  {
   "cell_type": "code",
   "execution_count": 18,
   "id": "domestic-pollution",
   "metadata": {},
   "outputs": [],
   "source": [
    "y_pred_lgr = X_gs_tv_lgr.y_pred\n",
    "y_pred_lgr = pd.Series(y_pred_lgr)\n",
    "y_pred_lgr.name = 'logreg_predicted_binary'\n",
    "y_pred_lgr = pd.DataFrame(y_pred_lgr, index=y_new.index)\n",
    "\n",
    "y_pred_nb = X_gs_tv_nb.y_pred\n",
    "y_pred_nb = pd.Series(y_pred_nb)\n",
    "y_pred_nb.name = 'bayes_predicted_binary'\n",
    "y_pred_nb = pd.DataFrame(y_pred_nb, index=y_new.index)\n",
    "\n",
    "pred_df = pd.concat([df_test_pred, pd.DataFrame(y_pred_lgr), pd.DataFrame(y_pred_nb)], axis=1).reset_index(drop=True)"
   ]
  },
  {
   "cell_type": "code",
   "execution_count": 19,
   "id": "changed-associate",
   "metadata": {},
   "outputs": [
    {
     "name": "stdout",
     "output_type": "stream",
     "text": [
      "\n",
      "Guessing Game: See if a Randomly selected comment was predicted correctly!\n",
      "\n",
      "Actual Value:           AMA\n",
      "  (Index: 1210)\n",
      "\n",
      "Naive Bayes is:         CORRECT!\n",
      "Prediction:             AMA\n",
      "\n",
      "\n",
      "Logistic Regression is: CORRECT!\n",
      "Prediction:             AMA\n",
      "\n"
     ]
    }
   ],
   "source": [
    "check_p = pred_df.sample(1)\n",
    "idx = check_p.index[0]\n",
    "# idx = 5 # Try these values to see where they differ: 1 # 5 # 19 # 22\n",
    "\n",
    "actual_out = np.where(pred_df.iloc[idx]['subreddit_binary'] == 0, 'AMA', 'AskReddit')\n",
    "pred_out_lgr = np.where(pred_df.iloc[idx]['logreg_predicted_binary'] == 0, 'AMA', 'AskReddit')\n",
    "is_match_lgr = np.where(actual_out == pred_out_lgr, 'CORRECT!', 'wrong!')\n",
    "\n",
    "actual_out = np.where(pred_df.iloc[idx]['subreddit_binary'] == 0, 'AMA', 'AskReddit')\n",
    "pred_out_nb = np.where(pred_df.iloc[idx]['bayes_predicted_binary'] == 0, 'AMA', 'AskReddit')\n",
    "is_match_nb = np.where(actual_out == pred_out_nb, 'CORRECT!', 'wrong!')\n",
    "\n",
    "print(f'\\nGuessing Game: See if a Randomly selected comment was predicted correctly!')\n",
    "print(f\"\\nActual Value:           {actual_out}\")\n",
    "print(f'  (Index: {idx})')\n",
    "\n",
    "print(f'\\nNaive Bayes is:         {is_match_nb}')\n",
    "print(f\"Prediction:             {pred_out_nb}\\n\")\n",
    "\n",
    "print(f'\\nLogistic Regression is: {is_match_lgr}')\n",
    "print(f\"Prediction:             {pred_out_lgr}\\n\")\n"
   ]
  },
  {
   "cell_type": "code",
   "execution_count": 20,
   "id": "civilian-antenna",
   "metadata": {},
   "outputs": [
    {
     "data": {
      "text/plain": [
       "465"
      ]
     },
     "execution_count": 20,
     "metadata": {},
     "output_type": "execute_result"
    }
   ],
   "source": [
    "# Number of entries that differ between Logistic Regression and Naive Bayes\n",
    "pred_df[pred_df['logreg_predicted_binary'] != pred_df['bayes_predicted_binary']]['subreddit_binary'].sort_index().sum()"
   ]
  },
  {
   "cell_type": "code",
   "execution_count": 21,
   "id": "biblical-massage",
   "metadata": {},
   "outputs": [],
   "source": [
    "# where Logistic Regression and Naive Bayes Differ, sorted by index.\n",
    "# pred_df[pred_df['logreg_predicted_binary'] != pred_df['bayes_predicted_binary']]['subreddit_binary'].sort_index()"
   ]
  },
  {
   "cell_type": "code",
   "execution_count": null,
   "id": "floating-drama",
   "metadata": {},
   "outputs": [],
   "source": []
  },
  {
   "cell_type": "markdown",
   "id": "serious-worthy",
   "metadata": {},
   "source": [
    "# And a quick example of using non-text features\n",
    "[(back to top)](#API-and-NLP-Project-(#3))<br />\n",
    "\n",
    "This is an example of one of many iteration of me trying to base a model off of the rest of the features. In this example, I used the Random Forest Classifier."
   ]
  },
  {
   "cell_type": "markdown",
   "id": "perceived-paragraph",
   "metadata": {},
   "source": [
    "#### Trying RFC with otherfeatures (no `body` from comments)"
   ]
  },
  {
   "cell_type": "code",
   "execution_count": 22,
   "id": "quick-secondary",
   "metadata": {},
   "outputs": [],
   "source": [
    "X_nobody = df.drop(columns=['subreddit_binary', 'body'])\n",
    "y_nobody = df['subreddit_binary']\n",
    "\n",
    "X_nobody_new = df_test_pred.drop(columns=['subreddit_binary', 'body'])\n",
    "y_nobody_new = df_test_pred['subreddit_binary'] "
   ]
  },
  {
   "cell_type": "code",
   "execution_count": 23,
   "id": "consolidated-excess",
   "metadata": {},
   "outputs": [
    {
     "data": {
      "text/plain": [
       "((19558, 7), (19558,), (3907, 7), (3907,))"
      ]
     },
     "execution_count": 23,
     "metadata": {},
     "output_type": "execute_result"
    }
   ],
   "source": [
    "(X_nobody.shape, y_nobody.shape, X_nobody_new.shape, y_nobody_new.shape)"
   ]
  },
  {
   "cell_type": "code",
   "execution_count": 24,
   "id": "billion-march",
   "metadata": {},
   "outputs": [
    {
     "name": "stdout",
     "output_type": "stream",
     "text": [
      "Fitting 5 folds for each of 8 candidates, totalling 40 fits\n",
      "{'randomforestclassifier__criterion': 'gini', 'randomforestclassifier__max_depth': 1, 'randomforestclassifier__random_state': 3}\n"
     ]
    },
    {
     "data": {
      "text/html": [
       "<div>\n",
       "<style scoped>\n",
       "    .dataframe tbody tr th:only-of-type {\n",
       "        vertical-align: middle;\n",
       "    }\n",
       "\n",
       "    .dataframe tbody tr th {\n",
       "        vertical-align: top;\n",
       "    }\n",
       "\n",
       "    .dataframe thead th {\n",
       "        text-align: right;\n",
       "    }\n",
       "</style>\n",
       "<table border=\"1\" class=\"dataframe\">\n",
       "  <thead>\n",
       "    <tr style=\"text-align: right;\">\n",
       "      <th></th>\n",
       "      <th>Xy/new RFC</th>\n",
       "    </tr>\n",
       "  </thead>\n",
       "  <tbody>\n",
       "    <tr>\n",
       "      <th>F1 Score</th>\n",
       "      <td>0.715163</td>\n",
       "    </tr>\n",
       "    <tr>\n",
       "      <th>Recall Score</th>\n",
       "      <td>0.955385</td>\n",
       "    </tr>\n",
       "    <tr>\n",
       "      <th>Accuracy</th>\n",
       "      <td>0.620169</td>\n",
       "    </tr>\n",
       "    <tr>\n",
       "      <th>Balanced Accuracy</th>\n",
       "      <td>0.620768</td>\n",
       "    </tr>\n",
       "    <tr>\n",
       "      <th>Precision Score</th>\n",
       "      <td>0.571472</td>\n",
       "    </tr>\n",
       "    <tr>\n",
       "      <th>Average Precision Score</th>\n",
       "      <td>0.604027</td>\n",
       "    </tr>\n",
       "    <tr>\n",
       "      <th>ROC AUC Score</th>\n",
       "      <td>0.638320</td>\n",
       "    </tr>\n",
       "    <tr>\n",
       "      <th>True Positive</th>\n",
       "      <td>560.000000</td>\n",
       "    </tr>\n",
       "    <tr>\n",
       "      <th>False Negative</th>\n",
       "      <td>1397.000000</td>\n",
       "    </tr>\n",
       "    <tr>\n",
       "      <th>False Positive</th>\n",
       "      <td>87.000000</td>\n",
       "    </tr>\n",
       "    <tr>\n",
       "      <th>True Negative</th>\n",
       "      <td>1863.000000</td>\n",
       "    </tr>\n",
       "    <tr>\n",
       "      <th>Calculated Accuracy</th>\n",
       "      <td>0.620169</td>\n",
       "    </tr>\n",
       "    <tr>\n",
       "      <th>Calculated Precision</th>\n",
       "      <td>0.865533</td>\n",
       "    </tr>\n",
       "    <tr>\n",
       "      <th>Calculated Sensitivity</th>\n",
       "      <td>0.286152</td>\n",
       "    </tr>\n",
       "    <tr>\n",
       "      <th>Calculated Specificity</th>\n",
       "      <td>0.955385</td>\n",
       "    </tr>\n",
       "    <tr>\n",
       "      <th>Train F1 Score</th>\n",
       "      <td>0.729645</td>\n",
       "    </tr>\n",
       "    <tr>\n",
       "      <th>Train Recall Score</th>\n",
       "      <td>0.948172</td>\n",
       "    </tr>\n",
       "    <tr>\n",
       "      <th>Train Accuracy</th>\n",
       "      <td>0.649248</td>\n",
       "    </tr>\n",
       "    <tr>\n",
       "      <th>Train Balanced Accuracy</th>\n",
       "      <td>0.649737</td>\n",
       "    </tr>\n",
       "    <tr>\n",
       "      <th>Train Precision Score</th>\n",
       "      <td>0.592979</td>\n",
       "    </tr>\n",
       "    <tr>\n",
       "      <th>Train Average Precision Score</th>\n",
       "      <td>0.652285</td>\n",
       "    </tr>\n",
       "    <tr>\n",
       "      <th>Train ROC AUC Score</th>\n",
       "      <td>0.687261</td>\n",
       "    </tr>\n",
       "    <tr>\n",
       "      <th>Train True Positive</th>\n",
       "      <td>3441.000000</td>\n",
       "    </tr>\n",
       "    <tr>\n",
       "      <th>Train False Negative</th>\n",
       "      <td>6354.000000</td>\n",
       "    </tr>\n",
       "    <tr>\n",
       "      <th>Train False Positive</th>\n",
       "      <td>506.000000</td>\n",
       "    </tr>\n",
       "    <tr>\n",
       "      <th>Train True Negative</th>\n",
       "      <td>9257.000000</td>\n",
       "    </tr>\n",
       "    <tr>\n",
       "      <th>Train Calculated Accuracy</th>\n",
       "      <td>0.649248</td>\n",
       "    </tr>\n",
       "    <tr>\n",
       "      <th>Train Calculated Precision</th>\n",
       "      <td>0.871801</td>\n",
       "    </tr>\n",
       "    <tr>\n",
       "      <th>Train Calculated Sensitivity</th>\n",
       "      <td>0.351302</td>\n",
       "    </tr>\n",
       "    <tr>\n",
       "      <th>Train Calculated Specificity</th>\n",
       "      <td>0.948172</td>\n",
       "    </tr>\n",
       "  </tbody>\n",
       "</table>\n",
       "</div>"
      ],
      "text/plain": [
       "                                Xy/new RFC\n",
       "F1 Score                          0.715163\n",
       "Recall Score                      0.955385\n",
       "Accuracy                          0.620169\n",
       "Balanced Accuracy                 0.620768\n",
       "Precision Score                   0.571472\n",
       "Average Precision Score           0.604027\n",
       "ROC AUC Score                     0.638320\n",
       "True Positive                   560.000000\n",
       "False Negative                 1397.000000\n",
       "False Positive                   87.000000\n",
       "True Negative                  1863.000000\n",
       "Calculated Accuracy               0.620169\n",
       "Calculated Precision              0.865533\n",
       "Calculated Sensitivity            0.286152\n",
       "Calculated Specificity            0.955385\n",
       "Train F1 Score                    0.729645\n",
       "Train Recall Score                0.948172\n",
       "Train Accuracy                    0.649248\n",
       "Train Balanced Accuracy           0.649737\n",
       "Train Precision Score             0.592979\n",
       "Train Average Precision Score     0.652285\n",
       "Train ROC AUC Score               0.687261\n",
       "Train True Positive            3441.000000\n",
       "Train False Negative           6354.000000\n",
       "Train False Positive            506.000000\n",
       "Train True Negative            9257.000000\n",
       "Train Calculated Accuracy         0.649248\n",
       "Train Calculated Precision        0.871801\n",
       "Train Calculated Sensitivity      0.351302\n",
       "Train Calculated Specificity      0.948172"
      ]
     },
     "execution_count": 24,
     "metadata": {},
     "output_type": "execute_result"
    }
   ],
   "source": [
    "X_gs_rfc = ClassificationModel(make_pipeline(\n",
    "    RandomForestClassifier()), \n",
    "    X_train=X_nobody, X_test=X_nobody_new, y_train=y_nobody, y_test=y_nobody_new,\n",
    "    params={\n",
    "        'randomforestclassifier__criterion': [ 'gini', 'entropy' ],\n",
    "        'randomforestclassifier__max_depth': [ None, 1, 2, 3 ],\n",
    "        'randomforestclassifier__random_state': [ 3 ]\n",
    "}, verbose=3, mod_name='Xy/new RFC')\n",
    "\n",
    "print(X_gs_rfc.model.best_params_)\n",
    "X_gs_rfc.df"
   ]
  },
  {
   "cell_type": "code",
   "execution_count": 25,
   "id": "bored-panama",
   "metadata": {},
   "outputs": [
    {
     "data": {
      "image/png": "[encoded data removed]",
      "text/plain": [
       "<Figure size 432x288 with 2 Axes>"
      ]
     },
     "metadata": {
      "needs_background": "light"
     },
     "output_type": "display_data"
    }
   ],
   "source": [
    "X_gs_rfc.plot_confusion_matrix(X_nobody_new, y_nobody_new)"
   ]
  },
  {
   "cell_type": "code",
   "execution_count": null,
   "id": "roman-programming",
   "metadata": {},
   "outputs": [],
   "source": []
  },
  {
   "cell_type": "code",
   "execution_count": null,
   "id": "solar-joseph",
   "metadata": {},
   "outputs": [],
   "source": []
  }
 ],
 "metadata": {
  "kernelspec": {
   "display_name": "Python 3",
   "language": "python",
   "name": "python3"
  },
  "language_info": {
   "codemirror_mode": {
    "name": "ipython",
    "version": 3
   },
   "file_extension": ".py",
   "mimetype": "text/x-python",
   "name": "python",
   "nbconvert_exporter": "python",
   "pygments_lexer": "ipython3",
   "version": "3.8.5"
  }
 },
 "nbformat": 4,
 "nbformat_minor": 5
}
