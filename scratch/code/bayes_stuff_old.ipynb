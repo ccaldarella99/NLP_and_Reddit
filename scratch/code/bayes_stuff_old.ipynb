{
 "cells": [
  {
   "cell_type": "markdown",
   "id": "instant-primary",
   "metadata": {},
   "source": [
    "# Bayes Stuff"
   ]
  },
  {
   "cell_type": "code",
   "execution_count": 2,
   "id": "surprised-willow",
   "metadata": {},
   "outputs": [],
   "source": [
    "# (Uncomment and) Run this cell to properly import from another Jupyter Notebook (in this case my functions notebook)\n",
    "# !pip install ipynb"
   ]
  },
  {
   "cell_type": "code",
   "execution_count": 99,
   "id": "sufficient-pleasure",
   "metadata": {},
   "outputs": [],
   "source": [
    "from ipynb.fs.full.functions import *"
   ]
  },
  {
   "cell_type": "code",
   "execution_count": 100,
   "id": "crude-tribune",
   "metadata": {},
   "outputs": [
    {
     "data": {
      "text/plain": [
       "(10000, 37)"
      ]
     },
     "execution_count": 100,
     "metadata": {},
     "output_type": "execute_result"
    }
   ],
   "source": [
    "df = pd.read_csv('../data/comments.csv')\n",
    "df.shape"
   ]
  },
  {
   "cell_type": "code",
   "execution_count": 101,
   "id": "perfect-transmission",
   "metadata": {},
   "outputs": [
    {
     "data": {
      "text/html": [
       "<div>\n",
       "<style scoped>\n",
       "    .dataframe tbody tr th:only-of-type {\n",
       "        vertical-align: middle;\n",
       "    }\n",
       "\n",
       "    .dataframe tbody tr th {\n",
       "        vertical-align: top;\n",
       "    }\n",
       "\n",
       "    .dataframe thead th {\n",
       "        text-align: right;\n",
       "    }\n",
       "</style>\n",
       "<table border=\"1\" class=\"dataframe\">\n",
       "  <thead>\n",
       "    <tr style=\"text-align: right;\">\n",
       "      <th></th>\n",
       "      <th>author</th>\n",
       "      <th>body</th>\n",
       "      <th>score</th>\n",
       "      <th>subreddit</th>\n",
       "    </tr>\n",
       "  </thead>\n",
       "  <tbody>\n",
       "    <tr>\n",
       "      <th>0</th>\n",
       "      <td>AgronLovesSteel</td>\n",
       "      <td>Omg sooo good just finished! Gotta have some f...</td>\n",
       "      <td>1</td>\n",
       "      <td>AMA</td>\n",
       "    </tr>\n",
       "    <tr>\n",
       "      <th>1</th>\n",
       "      <td>Adventurous-Mess9304</td>\n",
       "      <td>Great answer</td>\n",
       "      <td>2</td>\n",
       "      <td>AMA</td>\n",
       "    </tr>\n",
       "    <tr>\n",
       "      <th>2</th>\n",
       "      <td>ab901</td>\n",
       "      <td>thank you for serving and protecting!</td>\n",
       "      <td>1</td>\n",
       "      <td>AMA</td>\n",
       "    </tr>\n",
       "    <tr>\n",
       "      <th>3</th>\n",
       "      <td>[deleted]</td>\n",
       "      <td>[deleted]</td>\n",
       "      <td>1</td>\n",
       "      <td>AMA</td>\n",
       "    </tr>\n",
       "    <tr>\n",
       "      <th>4</th>\n",
       "      <td>pardo92</td>\n",
       "      <td>Im sure they brighten the place up :) hows the...</td>\n",
       "      <td>1</td>\n",
       "      <td>AMA</td>\n",
       "    </tr>\n",
       "  </tbody>\n",
       "</table>\n",
       "</div>"
      ],
      "text/plain": [
       "                 author                                               body  \\\n",
       "0       AgronLovesSteel  Omg sooo good just finished! Gotta have some f...   \n",
       "1  Adventurous-Mess9304                                       Great answer   \n",
       "2                 ab901              thank you for serving and protecting!   \n",
       "3             [deleted]                                          [deleted]   \n",
       "4               pardo92  Im sure they brighten the place up :) hows the...   \n",
       "\n",
       "   score subreddit  \n",
       "0      1       AMA  \n",
       "1      2       AMA  \n",
       "2      1       AMA  \n",
       "3      1       AMA  \n",
       "4      1       AMA  "
      ]
     },
     "execution_count": 101,
     "metadata": {},
     "output_type": "execute_result"
    }
   ],
   "source": [
    "df = df[['author', 'body', 'score', 'subreddit']]\n",
    "df.head()"
   ]
  },
  {
   "cell_type": "code",
   "execution_count": 5,
   "id": "differential-newspaper",
   "metadata": {},
   "outputs": [
    {
     "data": {
      "text/plain": [
       "author       0\n",
       "body         0\n",
       "score        0\n",
       "subreddit    0\n",
       "dtype: int64"
      ]
     },
     "execution_count": 5,
     "metadata": {},
     "output_type": "execute_result"
    }
   ],
   "source": [
    "df.isna().sum()"
   ]
  },
  {
   "cell_type": "code",
   "execution_count": 6,
   "id": "temporal-palace",
   "metadata": {},
   "outputs": [],
   "source": [
    "df['subreddit_binary'] = np.where(df['subreddit'] == 'AMA', 0, 1)"
   ]
  },
  {
   "cell_type": "code",
   "execution_count": 7,
   "id": "brutal-innocent",
   "metadata": {},
   "outputs": [
    {
     "data": {
      "text/html": [
       "<div>\n",
       "<style scoped>\n",
       "    .dataframe tbody tr th:only-of-type {\n",
       "        vertical-align: middle;\n",
       "    }\n",
       "\n",
       "    .dataframe tbody tr th {\n",
       "        vertical-align: top;\n",
       "    }\n",
       "\n",
       "    .dataframe thead th {\n",
       "        text-align: right;\n",
       "    }\n",
       "</style>\n",
       "<table border=\"1\" class=\"dataframe\">\n",
       "  <thead>\n",
       "    <tr style=\"text-align: right;\">\n",
       "      <th></th>\n",
       "      <th>author</th>\n",
       "      <th>body</th>\n",
       "      <th>score</th>\n",
       "      <th>subreddit</th>\n",
       "      <th>subreddit_binary</th>\n",
       "    </tr>\n",
       "  </thead>\n",
       "  <tbody>\n",
       "    <tr>\n",
       "      <th>0</th>\n",
       "      <td>AgronLovesSteel</td>\n",
       "      <td>Omg sooo good just finished! Gotta have some f...</td>\n",
       "      <td>1</td>\n",
       "      <td>AMA</td>\n",
       "      <td>0</td>\n",
       "    </tr>\n",
       "    <tr>\n",
       "      <th>1</th>\n",
       "      <td>Adventurous-Mess9304</td>\n",
       "      <td>Great answer</td>\n",
       "      <td>2</td>\n",
       "      <td>AMA</td>\n",
       "      <td>0</td>\n",
       "    </tr>\n",
       "    <tr>\n",
       "      <th>2</th>\n",
       "      <td>ab901</td>\n",
       "      <td>thank you for serving and protecting!</td>\n",
       "      <td>1</td>\n",
       "      <td>AMA</td>\n",
       "      <td>0</td>\n",
       "    </tr>\n",
       "    <tr>\n",
       "      <th>3</th>\n",
       "      <td>[deleted]</td>\n",
       "      <td>NaN</td>\n",
       "      <td>1</td>\n",
       "      <td>AMA</td>\n",
       "      <td>0</td>\n",
       "    </tr>\n",
       "    <tr>\n",
       "      <th>4</th>\n",
       "      <td>pardo92</td>\n",
       "      <td>Im sure they brighten the place up :) hows the...</td>\n",
       "      <td>1</td>\n",
       "      <td>AMA</td>\n",
       "      <td>0</td>\n",
       "    </tr>\n",
       "    <tr>\n",
       "      <th>...</th>\n",
       "      <td>...</td>\n",
       "      <td>...</td>\n",
       "      <td>...</td>\n",
       "      <td>...</td>\n",
       "      <td>...</td>\n",
       "    </tr>\n",
       "    <tr>\n",
       "      <th>9995</th>\n",
       "      <td>Chief_BRUH</td>\n",
       "      <td>Bruh</td>\n",
       "      <td>1</td>\n",
       "      <td>AskReddit</td>\n",
       "      <td>1</td>\n",
       "    </tr>\n",
       "    <tr>\n",
       "      <th>9996</th>\n",
       "      <td>thelemonx</td>\n",
       "      <td>Pretty much all herbivores are.  People think ...</td>\n",
       "      <td>50</td>\n",
       "      <td>AskReddit</td>\n",
       "      <td>1</td>\n",
       "    </tr>\n",
       "    <tr>\n",
       "      <th>9997</th>\n",
       "      <td>dieinafirenazi</td>\n",
       "      <td>A rat in an enriching environment (other rats ...</td>\n",
       "      <td>37</td>\n",
       "      <td>AskReddit</td>\n",
       "      <td>1</td>\n",
       "    </tr>\n",
       "    <tr>\n",
       "      <th>9998</th>\n",
       "      <td>theFLORIDAman04</td>\n",
       "      <td>\"You are the worst child I have had\" or the cl...</td>\n",
       "      <td>1</td>\n",
       "      <td>AskReddit</td>\n",
       "      <td>1</td>\n",
       "    </tr>\n",
       "    <tr>\n",
       "      <th>9999</th>\n",
       "      <td>pyro57</td>\n",
       "      <td>Super sorry to hear that bud... It does suck, ...</td>\n",
       "      <td>2</td>\n",
       "      <td>AskReddit</td>\n",
       "      <td>1</td>\n",
       "    </tr>\n",
       "  </tbody>\n",
       "</table>\n",
       "<p>10000 rows × 5 columns</p>\n",
       "</div>"
      ],
      "text/plain": [
       "                    author                                               body  \\\n",
       "0          AgronLovesSteel  Omg sooo good just finished! Gotta have some f...   \n",
       "1     Adventurous-Mess9304                                       Great answer   \n",
       "2                    ab901              thank you for serving and protecting!   \n",
       "3                [deleted]                                                NaN   \n",
       "4                  pardo92  Im sure they brighten the place up :) hows the...   \n",
       "...                    ...                                                ...   \n",
       "9995            Chief_BRUH                                               Bruh   \n",
       "9996             thelemonx  Pretty much all herbivores are.  People think ...   \n",
       "9997        dieinafirenazi  A rat in an enriching environment (other rats ...   \n",
       "9998       theFLORIDAman04  \"You are the worst child I have had\" or the cl...   \n",
       "9999                pyro57  Super sorry to hear that bud... It does suck, ...   \n",
       "\n",
       "      score  subreddit  subreddit_binary  \n",
       "0         1        AMA                 0  \n",
       "1         2        AMA                 0  \n",
       "2         1        AMA                 0  \n",
       "3         1        AMA                 0  \n",
       "4         1        AMA                 0  \n",
       "...     ...        ...               ...  \n",
       "9995      1  AskReddit                 1  \n",
       "9996     50  AskReddit                 1  \n",
       "9997     37  AskReddit                 1  \n",
       "9998      1  AskReddit                 1  \n",
       "9999      2  AskReddit                 1  \n",
       "\n",
       "[10000 rows x 5 columns]"
      ]
     },
     "execution_count": 7,
     "metadata": {},
     "output_type": "execute_result"
    }
   ],
   "source": [
    "df['body'] = np.where(df['body'] == '[deleted]', np.nan, df['body'])\n",
    "df"
   ]
  },
  {
   "cell_type": "code",
   "execution_count": 8,
   "id": "thermal-preserve",
   "metadata": {},
   "outputs": [
    {
     "data": {
      "text/plain": [
       "author                0\n",
       "body                173\n",
       "score                 0\n",
       "subreddit             0\n",
       "subreddit_binary      0\n",
       "dtype: int64"
      ]
     },
     "execution_count": 8,
     "metadata": {},
     "output_type": "execute_result"
    }
   ],
   "source": [
    "df.isna().sum()"
   ]
  },
  {
   "cell_type": "code",
   "execution_count": 9,
   "id": "mysterious-punch",
   "metadata": {},
   "outputs": [
    {
     "data": {
      "text/html": [
       "<div>\n",
       "<style scoped>\n",
       "    .dataframe tbody tr th:only-of-type {\n",
       "        vertical-align: middle;\n",
       "    }\n",
       "\n",
       "    .dataframe tbody tr th {\n",
       "        vertical-align: top;\n",
       "    }\n",
       "\n",
       "    .dataframe thead th {\n",
       "        text-align: right;\n",
       "    }\n",
       "</style>\n",
       "<table border=\"1\" class=\"dataframe\">\n",
       "  <thead>\n",
       "    <tr style=\"text-align: right;\">\n",
       "      <th></th>\n",
       "      <th>author</th>\n",
       "      <th>body</th>\n",
       "      <th>score</th>\n",
       "      <th>subreddit</th>\n",
       "      <th>subreddit_binary</th>\n",
       "    </tr>\n",
       "  </thead>\n",
       "  <tbody>\n",
       "    <tr>\n",
       "      <th>0</th>\n",
       "      <td>AgronLovesSteel</td>\n",
       "      <td>Omg sooo good just finished! Gotta have some f...</td>\n",
       "      <td>1</td>\n",
       "      <td>AMA</td>\n",
       "      <td>0</td>\n",
       "    </tr>\n",
       "    <tr>\n",
       "      <th>1</th>\n",
       "      <td>Adventurous-Mess9304</td>\n",
       "      <td>Great answer</td>\n",
       "      <td>2</td>\n",
       "      <td>AMA</td>\n",
       "      <td>0</td>\n",
       "    </tr>\n",
       "    <tr>\n",
       "      <th>2</th>\n",
       "      <td>ab901</td>\n",
       "      <td>thank you for serving and protecting!</td>\n",
       "      <td>1</td>\n",
       "      <td>AMA</td>\n",
       "      <td>0</td>\n",
       "    </tr>\n",
       "    <tr>\n",
       "      <th>4</th>\n",
       "      <td>pardo92</td>\n",
       "      <td>Im sure they brighten the place up :) hows the...</td>\n",
       "      <td>1</td>\n",
       "      <td>AMA</td>\n",
       "      <td>0</td>\n",
       "    </tr>\n",
       "    <tr>\n",
       "      <th>5</th>\n",
       "      <td>strawberrycreampie</td>\n",
       "      <td>yes, i would have needed the gun. im much too ...</td>\n",
       "      <td>1</td>\n",
       "      <td>AMA</td>\n",
       "      <td>0</td>\n",
       "    </tr>\n",
       "    <tr>\n",
       "      <th>...</th>\n",
       "      <td>...</td>\n",
       "      <td>...</td>\n",
       "      <td>...</td>\n",
       "      <td>...</td>\n",
       "      <td>...</td>\n",
       "    </tr>\n",
       "    <tr>\n",
       "      <th>9995</th>\n",
       "      <td>Chief_BRUH</td>\n",
       "      <td>Bruh</td>\n",
       "      <td>1</td>\n",
       "      <td>AskReddit</td>\n",
       "      <td>1</td>\n",
       "    </tr>\n",
       "    <tr>\n",
       "      <th>9996</th>\n",
       "      <td>thelemonx</td>\n",
       "      <td>Pretty much all herbivores are.  People think ...</td>\n",
       "      <td>50</td>\n",
       "      <td>AskReddit</td>\n",
       "      <td>1</td>\n",
       "    </tr>\n",
       "    <tr>\n",
       "      <th>9997</th>\n",
       "      <td>dieinafirenazi</td>\n",
       "      <td>A rat in an enriching environment (other rats ...</td>\n",
       "      <td>37</td>\n",
       "      <td>AskReddit</td>\n",
       "      <td>1</td>\n",
       "    </tr>\n",
       "    <tr>\n",
       "      <th>9998</th>\n",
       "      <td>theFLORIDAman04</td>\n",
       "      <td>\"You are the worst child I have had\" or the cl...</td>\n",
       "      <td>1</td>\n",
       "      <td>AskReddit</td>\n",
       "      <td>1</td>\n",
       "    </tr>\n",
       "    <tr>\n",
       "      <th>9999</th>\n",
       "      <td>pyro57</td>\n",
       "      <td>Super sorry to hear that bud... It does suck, ...</td>\n",
       "      <td>2</td>\n",
       "      <td>AskReddit</td>\n",
       "      <td>1</td>\n",
       "    </tr>\n",
       "  </tbody>\n",
       "</table>\n",
       "<p>9827 rows × 5 columns</p>\n",
       "</div>"
      ],
      "text/plain": [
       "                    author                                               body  \\\n",
       "0          AgronLovesSteel  Omg sooo good just finished! Gotta have some f...   \n",
       "1     Adventurous-Mess9304                                       Great answer   \n",
       "2                    ab901              thank you for serving and protecting!   \n",
       "4                  pardo92  Im sure they brighten the place up :) hows the...   \n",
       "5       strawberrycreampie  yes, i would have needed the gun. im much too ...   \n",
       "...                    ...                                                ...   \n",
       "9995            Chief_BRUH                                               Bruh   \n",
       "9996             thelemonx  Pretty much all herbivores are.  People think ...   \n",
       "9997        dieinafirenazi  A rat in an enriching environment (other rats ...   \n",
       "9998       theFLORIDAman04  \"You are the worst child I have had\" or the cl...   \n",
       "9999                pyro57  Super sorry to hear that bud... It does suck, ...   \n",
       "\n",
       "      score  subreddit  subreddit_binary  \n",
       "0         1        AMA                 0  \n",
       "1         2        AMA                 0  \n",
       "2         1        AMA                 0  \n",
       "4         1        AMA                 0  \n",
       "5         1        AMA                 0  \n",
       "...     ...        ...               ...  \n",
       "9995      1  AskReddit                 1  \n",
       "9996     50  AskReddit                 1  \n",
       "9997     37  AskReddit                 1  \n",
       "9998      1  AskReddit                 1  \n",
       "9999      2  AskReddit                 1  \n",
       "\n",
       "[9827 rows x 5 columns]"
      ]
     },
     "execution_count": 9,
     "metadata": {},
     "output_type": "execute_result"
    }
   ],
   "source": [
    "df.dropna(inplace=True)\n",
    "df"
   ]
  },
  {
   "cell_type": "code",
   "execution_count": 10,
   "id": "interracial-oriental",
   "metadata": {},
   "outputs": [],
   "source": [
    "X = df[['author', 'body', 'score']]\n",
    "y = df['subreddit_binary']"
   ]
  },
  {
   "cell_type": "code",
   "execution_count": 11,
   "id": "rubber-provision",
   "metadata": {},
   "outputs": [],
   "source": [
    "X_train, X_test, y_train, y_test = train_test_split(X, y, random_state=3)"
   ]
  },
  {
   "cell_type": "code",
   "execution_count": 12,
   "id": "earlier-connecticut",
   "metadata": {},
   "outputs": [
    {
     "data": {
      "text/plain": [
       "((7370, 3), (7370,))"
      ]
     },
     "execution_count": 12,
     "metadata": {},
     "output_type": "execute_result"
    }
   ],
   "source": [
    "(X_train.shape, y_train.shape)"
   ]
  },
  {
   "cell_type": "code",
   "execution_count": 13,
   "id": "decent-wound",
   "metadata": {},
   "outputs": [
    {
     "data": {
      "text/plain": [
       "((2457, 3), (2457,))"
      ]
     },
     "execution_count": 13,
     "metadata": {},
     "output_type": "execute_result"
    }
   ],
   "source": [
    "(X_test.shape, y_test.shape)"
   ]
  },
  {
   "cell_type": "code",
   "execution_count": 14,
   "id": "editorial-rover",
   "metadata": {},
   "outputs": [],
   "source": [
    "#vectorize\n",
    "cvect = CountVectorizer(stop_words='english', max_features=500)\n",
    "X_train_cvect = cvect.fit_transform(X_train)"
   ]
  },
  {
   "cell_type": "code",
   "execution_count": 15,
   "id": "julian-labor",
   "metadata": {},
   "outputs": [
    {
     "ename": "SyntaxError",
     "evalue": "invalid syntax (<ipython-input-15-8d81ad2fe686>, line 1)",
     "output_type": "error",
     "traceback": [
      "\u001b[1;36m  File \u001b[1;32m\"<ipython-input-15-8d81ad2fe686>\"\u001b[1;36m, line \u001b[1;32m1\u001b[0m\n\u001b[1;33m    X_train_cvect.\u001b[0m\n\u001b[1;37m                  ^\u001b[0m\n\u001b[1;31mSyntaxError\u001b[0m\u001b[1;31m:\u001b[0m invalid syntax\n"
     ]
    }
   ],
   "source": [
    "X_train_cvect."
   ]
  },
  {
   "cell_type": "code",
   "execution_count": null,
   "id": "appointed-lending",
   "metadata": {},
   "outputs": [],
   "source": [
    "bayes = MultinomialNB()\n",
    "bayes.fit(X_train_cvect, y_train)\n",
    "bayes.score(X_train_cvect, y_train)"
   ]
  },
  {
   "cell_type": "code",
   "execution_count": null,
   "id": "former-winter",
   "metadata": {},
   "outputs": [],
   "source": [
    "y.value_counts(normalize=True)"
   ]
  },
  {
   "cell_type": "code",
   "execution_count": null,
   "id": "gothic-trade",
   "metadata": {},
   "outputs": [],
   "source": []
  }
 ],
 "metadata": {
  "kernelspec": {
   "display_name": "Python 3",
   "language": "python",
   "name": "python3"
  },
  "language_info": {
   "codemirror_mode": {
    "name": "ipython",
    "version": 3
   },
   "file_extension": ".py",
   "mimetype": "text/x-python",
   "name": "python",
   "nbconvert_exporter": "python",
   "pygments_lexer": "ipython3",
   "version": "3.8.5"
  }
 },
 "nbformat": 4,
 "nbformat_minor": 5
}
