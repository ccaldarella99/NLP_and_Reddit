{
 "cells": [
  {
   "cell_type": "markdown",
   "id": "generous-passion",
   "metadata": {},
   "source": [
    "# Table of Contents"
   ]
  },
  {
   "cell_type": "markdown",
   "id": "structural-deposit",
   "metadata": {
    "tags": []
   },
   "source": [
    "[Functions](functions.ipynb)<br />\n",
    " - Import of libraries and all of the functions I am using for Project 3.\n",
    " - This Notebook is imported into all other Notebooks\n",
    " - Please note that you may need to install ipynb\n",
    "##### *Note: the command to install `ipynb` is inside the Function notebook and each of the other notebooks. The line to install is commented out and just needs to be uncommented and ran.*"
   ]
  },
  {
   "cell_type": "markdown",
   "id": "welsh-electric",
   "metadata": {
    "tags": []
   },
   "source": [
    "[Functions_stream_env](functions_stream_env.ipynb)<br />\n",
    " - Import of libraries and functions for notebooks using `spacy` for Lemmatization\n",
    " - This Notebook is used for [06 - Lemmatized Bayes](06_lemmatized_bayes.ipynb)\n"
   ]
  },
  {
   "cell_type": "markdown",
   "id": "endless-novelty",
   "metadata": {
    "tags": []
   },
   "source": [
    "[01 - Webscraping](01_webscraper.ipynb)<br />\n",
    "This Notebook does not have much explanation outside of Docstrings and is my Webscraping tool.\n",
    " - `call_scraper()` <br />\n",
    " - `log_to_file()` <br />\n",
    " - `print_special_line_to_log()` <br />\n",
    " - `get_date_time()` <br />\n",
    " - `read_in_before_csv()` <br />\n",
    " - `start_scraping()` <br />\n",
    " - `set_params_and_request()` <br />\n",
    " - `make_before_vals_df()` <br />\n",
    " - `write_to_csv()` <br />\n",
    " - `loop_call_scraper()` <br />\n",
    " - commands calling `loop_call_scraper()` and output <br />\n"
   ]
  },
  {
   "cell_type": "markdown",
   "id": "dated-cylinder",
   "metadata": {
    "tags": []
   },
   "source": [
    "[02 - EDA and Cleaning](02_eda_and_cleaning.ipynb)<br />\n",
    " - Data Dictionary <br />\n",
    "&nbsp;&nbsp;&nbsp; - Remarks about dropped columns <br />\n",
    " - Inspection <br />\n",
    "&nbsp;&nbsp;&nbsp; - Authors in one subreddit <br />\n",
    " - Looking for NaNs <br />\n",
    " - Features with little value <br />\n",
    " - Dropping Columns <br />\n",
    "&nbsp;&nbsp;&nbsp; - Checking for more NaNs <br />\n",
    "- Adding a Feature <br />\n",
    "&nbsp;&nbsp;&nbsp; - Adding `post_length` <br />\n",
    "&nbsp;&nbsp;&nbsp; - Some potential outliers <br />\n",
    " - EXPORT! <br />\n",
    " - Wrapping up the EDA process... <br />"
   ]
  },
  {
   "cell_type": "markdown",
   "id": "trying-concentrate",
   "metadata": {},
   "source": [
    "[03 - Models with GridSearch](03_models_with_gridsearch.ipynb)<br />\n",
    " - Observations and Overview for Models with GridSearch <br />\n",
    " - Import and Define our Variables for Models with GridSearch <br />\n",
    " - Make Classification Class with GridSearch <br />\n",
    " - Logistic Regression for Models with GridSearch <br />\n",
    " - Naive Bayes for Models with GridSearch <br />\n",
    " - K Nearest Neighbors for Models with GridSearch <br />\n"
   ]
  },
  {
   "cell_type": "markdown",
   "id": "continent-elizabeth",
   "metadata": {},
   "source": [
    "[04a - Models with `body`](04a_models_with_body.ipynb)<br />\n",
    " - Observations and Overview for Models with `body` <br />\n",
    " - Import and Define our Variables for Models with `body` <br />\n",
    " - Logistic Regression Models with `body` <br />\n",
    " - Random Forest Models with `body` <br />\n",
    " - Decision Tree Models with `body` <br />\n",
    " - Gradient Boosting Models with `body` <br />\n",
    " - Bagging Classifier Models with `body` <br />\n",
    " - Ada Boosting Models with `body` <br />\n",
    " - Compare Models with `body` <br />\n"
   ]
  },
  {
   "cell_type": "markdown",
   "id": "2c2b5c69-8404-4d44-9850-f77d9856fdcc",
   "metadata": {},
   "source": [
    "[04b - Models without `body`](04b_models_without_body.ipynb)<br />\n",
    " - Observations and Overview for Models without `body` <br />\n",
    " - Import and Define our Variables for Models without `body` <br />\n",
    " - Make Regression Class with GridSearch <br />\n",
    " - Regression Models <br />\n",
    " - More Regression Models <br />\n",
    " - Classification Models without `body` <br />\n",
    " - Random Forest Models without `body` <br />\n",
    " - Decision Tree without `body` <br />\n",
    " - Bagging without `body` <br />\n",
    " - Ada Boosting without `body` <br />\n",
    " - Gradient Boosting without `body` <br />\n",
    " - Logistic Regression without `body` <br />\n",
    " - Compare Train/Test Models without `body` <br />\n"
   ]
  },
  {
   "cell_type": "markdown",
   "id": "developmental-butler",
   "metadata": {},
   "source": [
    "[05 - Voting Models](05_voting_models.ipynb)<br />\n",
    " - Observations and Overview for Voting Models <br />\n",
    " - Import and Define our Variables for Voting Models <br />\n",
    " - Vectorizing X variables for Voting Models <br />\n",
    " - TFIDF Vectorizer for Voting Models <br />\n",
    " - Count Vectorizer for Voting Models <br />\n",
    " - Run some Classification Models with GridSearch <br />\n",
    " - GridSearch with Voting Ensemble <br />\n",
    " - Boosting and Logistict Regression Voting Ensemble with TFIDF Vectorization <br />\n",
    " - Decision Tree and Logistic Regression Voting Ensemble <br />\n",
    " - Random Forest and Logistic Regression Voting Ensemble <br />\n",
    " - Boosting and Logistict Regression Voting Ensemble with Count Vectorization <br />\n",
    "\n",
    "\n"
   ]
  },
  {
   "cell_type": "markdown",
   "id": "local-elder",
   "metadata": {},
   "source": [
    "[06 - Lemmatized Bayes](06_lemmatized_bayes.ipynb)\\* <br />\n",
    " - Observations and Overview for Lemmatized Bayes <br />\n",
    " - Import and Define our Variables for Lemmatized Bayes <br />\n",
    " - The previous Bayesian models without lemmatization <br />\n",
    " - Lemmatize <br />\n",
    " - Vectorization using Lemmatization as tokenizer <br />\n",
    " - Count Vectorizer using Lemmatization as tokenizer <br />\n",
    " - TFIDF Vectorizer using Lemmatization as tokenizer <br />\n",
    " - Lemmatized Bayes with Count Vectorization using GridSearch <br />\n",
    " - Lemmatized Bayes with Count Vectorization without GridSearch <br />\n",
    " - Lemmatized Bayes with TFIDF Vectorization using GridSearch <br />\n",
    " - Lemmatized Bayes with TFIDF Vectorization without GridSearch <br />\n",
    " - Compare Lemmatized Bayes with non-Lemmatized Bayes <br />\n",
    "\n",
    "\\* *NOTE, this notebook uses the [functions_stream_env.ipynb](functions_stream_env.ipynb) notebook.*\n"
   ]
  },
  {
   "cell_type": "markdown",
   "id": "universal-elizabeth",
   "metadata": {},
   "source": [
    "[07 - Voting Revisited](07_voting_revisited.ipynb)<br />\n",
    " - Observations and Overview for Voting Revisited <br />\n",
    " - Import and Define our Variables for Voting Revisited <br />\n",
    " - Vectorizing X variables for Voting Revisited <br />\n",
    " - Logistic Regression Model GridSearch (TFIDF) <br />\n",
    " - Bayes Model GridSearch (TFIDF) <br />\n",
    " - GridSearch Voting Ensemble with Logistic Regression + Naive Bayes <br />\n",
    "\n",
    "\n"
   ]
  },
  {
   "cell_type": "markdown",
   "id": "alpha-nothing",
   "metadata": {},
   "source": [
    "[08 - Conclusion](08_conclusion.ipynb)<br />\n",
    " - Conclusion <br/>\n",
    " - Areas for Further Research and Study <br/>\n",
    " - And further... <br/>\n",
    " - Can we do better than our Null Model? <br/>\n",
    " - Logistic Regression Model <br/>\n",
    " - Naive Bayes Model <br/>\n",
    " - Comparing Confusion Matrices <br/>\n",
    " - How do the predictions compare with our data? <br/>\n",
    " - And a quick example of using non-text features <br/>\n"
   ]
  },
  {
   "cell_type": "code",
   "execution_count": null,
   "id": "discrete-garage",
   "metadata": {},
   "outputs": [],
   "source": []
  }
 ],
 "metadata": {
  "kernelspec": {
   "display_name": "Python 3",
   "language": "python",
   "name": "python3"
  },
  "language_info": {
   "codemirror_mode": {
    "name": "ipython",
    "version": 3
   },
   "file_extension": ".py",
   "mimetype": "text/x-python",
   "name": "python",
   "nbconvert_exporter": "python",
   "pygments_lexer": "ipython3",
   "version": "3.8.10"
  }
 },
 "nbformat": 4,
 "nbformat_minor": 5
}
