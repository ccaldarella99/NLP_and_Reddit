{
 "cells": [
  {
   "cell_type": "markdown",
   "id": "wireless-garden",
   "metadata": {},
   "source": [
    "# Cobine CSV files\n",
    "#### Here I am combining the 'comments' CSV files of each subreddit into one CSV\n",
    "\n",
    "#### By the end of this, there should be four CSV files\n",
    "One for each subreddit, and each one of those should have a comments, and a submissions CSV file:\n",
    " - AMA Submissions\n",
    " - AskReddit Submissions\n",
    " - AMA Comments\n",
    " - AskReddit Comments\n"
   ]
  },
  {
   "cell_type": "code",
   "execution_count": 2,
   "id": "raised-gasoline",
   "metadata": {},
   "outputs": [],
   "source": [
    "import pandas as pd\n",
    "import numpy as np\n",
    "import os"
   ]
  },
  {
   "cell_type": "code",
   "execution_count": 3,
   "id": "comprehensive-today",
   "metadata": {},
   "outputs": [
    {
     "data": {
      "text/plain": [
       "['2021-04-24_2332_AMA_comments.csv',\n",
       " '2021-04-24_2332_AMA_submissions.csv',\n",
       " '2021-04-24_2332_AskReddit_comments.csv',\n",
       " '2021-04-24_2332_AskReddit_submissions.csv',\n",
       " '2021-04-24_2337_AMA_comments.csv',\n",
       " '2021-04-24_2337_AskReddit_comments.csv',\n",
       " '2021-04-24_2347_AMA_comments.csv',\n",
       " '2021-04-24_2347_AskReddit_comments.csv']"
      ]
     },
     "execution_count": 3,
     "metadata": {},
     "output_type": "execute_result"
    }
   ],
   "source": [
    "os.listdir('../data/')"
   ]
  },
  {
   "cell_type": "code",
   "execution_count": 14,
   "id": "sonic-garden",
   "metadata": {},
   "outputs": [],
   "source": [
    "# Visualizing which files to concatenate\n",
    "# '2021-04-24_2332_AMA_submissions.csv',\n",
    "# '2021-04-24_2332_AskReddit_submissions.csv',\n",
    "# '2021-04-24_2332_AMA_comments.csv',\n",
    "# '2021-04-24_2337_AMA_comments.csv',\n",
    "# '2021-04-24_2347_AMA_comments.csv',\n",
    "# '2021-04-24_2332_AskReddit_comments.csv',\n",
    "# '2021-04-24_2337_AskReddit_comments.csv',\n",
    "# '2021-04-24_2347_AskReddit_comments.csv'"
   ]
  },
  {
   "cell_type": "code",
   "execution_count": 8,
   "id": "exciting-offset",
   "metadata": {},
   "outputs": [
    {
     "data": {
      "text/plain": [
       "[(1000, 36), (2000, 37), (2000, 37)]"
      ]
     },
     "execution_count": 8,
     "metadata": {},
     "output_type": "execute_result"
    }
   ],
   "source": [
    "df_ama_c1 = pd.read_csv('../data/2021-04-24_2332_AMA_comments.csv')\n",
    "df_ama_c2 = pd.read_csv('../data/2021-04-24_2337_AMA_comments.csv')\n",
    "df_ama_c3 = pd.read_csv('../data/2021-04-24_2347_AMA_comments.csv')\n",
    "[df_ama_c1.shape, df_ama_c2.shape, df_ama_c3.shape]"
   ]
  },
  {
   "cell_type": "code",
   "execution_count": 6,
   "id": "nasty-kansas",
   "metadata": {},
   "outputs": [],
   "source": [
    "df_ar_c1 = pd.read_csv('../data/2021-04-24_2332_AskReddit_comments.csv')\n",
    "df_ar_c2 = pd.read_csv('../data/2021-04-24_2337_AskReddit_comments.csv')\n",
    "df_ar_c3 = pd.read_csv('../data/2021-04-24_2347_AskReddit_comments.csv')\n"
   ]
  },
  {
   "cell_type": "code",
   "execution_count": 10,
   "id": "surprised-connectivity",
   "metadata": {},
   "outputs": [
    {
     "data": {
      "text/plain": [
       "(5000, 37)"
      ]
     },
     "execution_count": 10,
     "metadata": {},
     "output_type": "execute_result"
    }
   ],
   "source": [
    "df_ama_c = pd.concat([df_ama_c1, df_ama_c2, df_ama_c3], axis=0)\n",
    "df_ama_c.shape"
   ]
  },
  {
   "cell_type": "code",
   "execution_count": 11,
   "id": "fifteen-meter",
   "metadata": {},
   "outputs": [
    {
     "data": {
      "text/plain": [
       "(5000, 37)"
      ]
     },
     "execution_count": 11,
     "metadata": {},
     "output_type": "execute_result"
    }
   ],
   "source": [
    "df_ar_c = pd.concat([df_ar_c1, df_ar_c2, df_ar_c3], axis=0)\n",
    "df_ar_c.shape"
   ]
  },
  {
   "cell_type": "code",
   "execution_count": 15,
   "id": "impaired-heater",
   "metadata": {},
   "outputs": [
    {
     "data": {
      "text/plain": [
       "(1000, 69)"
      ]
     },
     "execution_count": 15,
     "metadata": {},
     "output_type": "execute_result"
    }
   ],
   "source": [
    "df_ama_s = pd.read_csv('../data/2021-04-24_2332_AMA_submissions.csv')\n",
    "df_ama_s.shape"
   ]
  },
  {
   "cell_type": "code",
   "execution_count": 16,
   "id": "mysterious-wells",
   "metadata": {},
   "outputs": [
    {
     "data": {
      "text/plain": [
       "(1000, 64)"
      ]
     },
     "execution_count": 16,
     "metadata": {},
     "output_type": "execute_result"
    }
   ],
   "source": [
    "df_ar_s = pd.read_csv('../data/2021-04-24_2332_AskReddit_submissions.csv')\n",
    "df_ar_s.shape"
   ]
  },
  {
   "cell_type": "code",
   "execution_count": 19,
   "id": "imperial-mapping",
   "metadata": {},
   "outputs": [],
   "source": [
    "df_ama_c.to_csv('../data/ama_comments.csv', index=False)"
   ]
  },
  {
   "cell_type": "code",
   "execution_count": 20,
   "id": "certain-balloon",
   "metadata": {},
   "outputs": [],
   "source": [
    "df_ar_c.to_csv('../data/ar_comments.csv', index=False)"
   ]
  },
  {
   "cell_type": "code",
   "execution_count": 21,
   "id": "boring-trance",
   "metadata": {},
   "outputs": [
    {
     "data": {
      "text/plain": [
       "(10000, 37)"
      ]
     },
     "execution_count": 21,
     "metadata": {},
     "output_type": "execute_result"
    }
   ],
   "source": [
    "df_all_comments = pd.concat([df_ama_c, df_ar_c], axis=0)\n",
    "df_all_comments.shape"
   ]
  },
  {
   "cell_type": "code",
   "execution_count": 22,
   "id": "gothic-swift",
   "metadata": {},
   "outputs": [],
   "source": [
    "df_all_comments.to_csv('../data/comments.csv', index=False)"
   ]
  },
  {
   "cell_type": "code",
   "execution_count": null,
   "id": "inner-partnership",
   "metadata": {},
   "outputs": [],
   "source": []
  },
  {
   "cell_type": "code",
   "execution_count": 23,
   "id": "vital-print",
   "metadata": {},
   "outputs": [
    {
     "data": {
      "text/plain": [
       "(1000, 64)"
      ]
     },
     "execution_count": 23,
     "metadata": {},
     "output_type": "execute_result"
    }
   ],
   "source": [
    "df_ar_s = pd.read_csv('../data/ar_submissions.csv')\n",
    "df_ar_s.shape"
   ]
  },
  {
   "cell_type": "code",
   "execution_count": 24,
   "id": "cooked-priority",
   "metadata": {},
   "outputs": [
    {
     "data": {
      "text/plain": [
       "(1000, 69)"
      ]
     },
     "execution_count": 24,
     "metadata": {},
     "output_type": "execute_result"
    }
   ],
   "source": [
    "df_ama_s = pd.read_csv('../data/ama_submissions.csv')\n",
    "df_ama_s.shape"
   ]
  },
  {
   "cell_type": "code",
   "execution_count": 25,
   "id": "bearing-completion",
   "metadata": {},
   "outputs": [
    {
     "data": {
      "text/plain": [
       "(2000, 71)"
      ]
     },
     "execution_count": 25,
     "metadata": {},
     "output_type": "execute_result"
    }
   ],
   "source": [
    "df_all_submissions = pd.concat([df_ama_s, df_ar_s], axis=0)\n",
    "df_all_submissions.shape"
   ]
  },
  {
   "cell_type": "code",
   "execution_count": 26,
   "id": "formed-creation",
   "metadata": {},
   "outputs": [],
   "source": [
    "df_all_submissions.to_csv('../data/submissions.csv', index=False)"
   ]
  },
  {
   "cell_type": "code",
   "execution_count": null,
   "id": "great-polish",
   "metadata": {},
   "outputs": [],
   "source": []
  }
 ],
 "metadata": {
  "kernelspec": {
   "display_name": "Python 3",
   "language": "python",
   "name": "python3"
  },
  "language_info": {
   "codemirror_mode": {
    "name": "ipython",
    "version": 3
   },
   "file_extension": ".py",
   "mimetype": "text/x-python",
   "name": "python",
   "nbconvert_exporter": "python",
   "pygments_lexer": "ipython3",
   "version": "3.8.5"
  }
 },
 "nbformat": 4,
 "nbformat_minor": 5
}
