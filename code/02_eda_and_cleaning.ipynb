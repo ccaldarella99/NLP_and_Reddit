{
 "cells": [
  {
   "cell_type": "markdown",
   "id": "norman-courtesy",
   "metadata": {},
   "source": [
    "# EDA and Cleanup\n",
    "\n",
    "### Data dictionary describing each feature before we dive into inspection"
   ]
  },
  {
   "cell_type": "markdown",
   "id": "south-equilibrium",
   "metadata": {},
   "source": [
    "\n",
    "| Feature                         | Python Type | Data Type  | DROP? | Descritpion   |\n",
    "| ---                             | ---         | ---        | ---   |:---           |\n",
    "| all_awardings                   | Object      | Continuous |   X   | All awards the post received (tags, images, etc.) |\n",
    "| associated_award                | float64     | Continuous |   X   | Not sure - all were populated with '[]' |\n",
    "| author                          | Object      | Continuous |   X   | Reddit-Handle of the auther of the comment |\n",
    "| author_flair_background_color   | float64     | Continuous |   X   | Flair background color - all were populated with '[]' |\n",
    "| author_flair_css_class          | float64     | Continuous |   X   | Flair CSS class - all were populated with '[]' |\n",
    "| author_flair_richtext           | Object      | Continuous |   X   | Flair richtext - all were populated with '[]' |\n",
    "| author_flair_template_id        | float64     | Continuous |   X   | Flair template ID - all were populated with '[]' |\n",
    "| author_flair_text               | float64     | Nominal    |   X   | Flair text - all were populated with '[]' |\n",
    "| author_flair_text_color         | Object      | Nominal    |   X   | Flair text color - almost all were populated with '[]' |\n",
    "| author_flair_type               | Object      | Nominal    |   X   | Flair type - almost all are 'text' |\n",
    "| author_fullname                 | Object      | Continuous |   X   | Full author-id of the author of the comment |\n",
    "| author_patreon_flair            | Boolean     | Ordinal    |   X   | Whether author's has Patreon Flair almost all were 'False' |\n",
    "| author_premium                  | Boolean     | Continuous |       | Denotes whether author is a premium user |\n",
    "| awarders                        | Object      | Continuous |   X   | Not sure - all were populated with '[]' |\n",
    "| __body__                        | Object      | Continuous |       | Text part we will be evaluating (X-value) |\n",
    "| collapsed_because_crowd_control | int64       | Continuous |   X   | Not sure - all were populated with '[]' |\n",
    "| comment_type                    | int64       | Continuous |   X   | Not sure - all were populated with 'NaN' |\n",
    "| created_utc                     | Object      | Continuous |   X   | When the comment was created |\n",
    "| gildings                        | Object      | Continuous |   X   | Gildings teh author of the post has/recieved |\n",
    "| id                              | Object      | Continuous |   X   | Comment ID (in relation to other comments) |\n",
    "| is_submitter                    | Boolean     | Continuous |       | Seems to denote whether the commenter authored the parent post  |\n",
    "| link_id                         | Object      | Continuous |   X   | ID which part of is used in the permalink |\n",
    "| locked                          | Boolean     | Continuous |   X   | Denotes whether the thread (which the comment is part of) has been locked |\n",
    "| no_follow                       | Boolean     | Continuous |       | Seems to denote whether the author of the post can be followed on reddit |\n",
    "| parent_id                       | Object      | Continuous |   X   | ID of the parent comment (in relation to the current comment) Dropping because it may make guessing too easy. |\n",
    "| permalink                       | Object      | Continuous |   X   | URL to post - must drop because this contains the subreddit name |\n",
    "| retrieved_on                    | Object      | Continuous |   X   | When comment was retrieved through the pushshift.io API - dropping because it should not be relevant |\n",
    "| score                           | int64       | Continuous |       | 'Score' (or Karma) of the comment |\n",
    "| send_replies                    | Boolean     | Continuous |       | Seems to denote whether author of comment accepts replies |\n",
    "| stickied                        | Boolean     | Continuous |   X   | Denotes 'Sticky posts' - Sticky posts are announcements and are not posts |\n",
    "| __subreddit__                   | Object      | Continuous |   X   | y-value - the subreddit we want to predict, __must drop__ |\n",
    "| subreddit_id                    | Object      | Continuous |   X   | ID representation of the subreddit, __must drop__ |\n",
    "| top_awarded_type                | Object      | Continuous |   X   | Not sure - all were populated with 'NaN' |\n",
    "| total_awards_received           | int64       | Continuous |       | Number of awards received by the author of the comment |\n",
    "| treatment_tags                  | Object      | Continuous |   X   | Not sure - all were populated with '[]' |\n",
    "| distinguished                   | Object      | Continuous |   X   | Denotes whether the author of the post is a 'moderator' |\n",
    "| author_cakeday                  | Boolean     | Continuous |   X   | Boolean whether it is the 'cakeday' of the author of the comment (cakeday is the anniversary of the day the user originally signed up for reddit.) |\n",
    "\n",
    "\n",
    "##### \\* **About Flair**, per Reddit, \"Flair is used as a tagging system for posts as well as individual users, and it can be used to filter content, unique identifiers, and resources.\" I found that the entries I grabbed had no information in regard to Flair; when the value was not null, it typically had an empty list in it's place. It is unclear if that is because there was no info, or if the API was unable to get this information, but regardless, this is of no use to my model and will be or was dropped."
   ]
  },
  {
   "cell_type": "markdown",
   "id": "usual-broadway",
   "metadata": {},
   "source": [
    "### Remarks about dropped columns\n",
    "I dropped __a lot__ of columns, and the reason was to ensure that it was not too easy for the model to predict.\n",
    "\n",
    "For instance, I dropped almost all 'author' information since it not unusual for people on reddit to visit/comment in the same subreddits frequently (shown later in this document). \n",
    "\n",
    "I also removed columns that had any other type of ID, for instance the permalink has the subreddit identified within it.\n",
    "\n",
    "I also dropped columns that had no information, since many were completely populated wit hempty square brackets, or any information that would likely be irrelevant, like author_cakeday or distinguished."
   ]
  },
  {
   "cell_type": "code",
   "execution_count": 1,
   "id": "advised-serial",
   "metadata": {},
   "outputs": [],
   "source": [
    "from ipynb.fs.full.functions import *"
   ]
  },
  {
   "cell_type": "code",
   "execution_count": 2,
   "id": "traditional-turkish",
   "metadata": {},
   "outputs": [
    {
     "data": {
      "text/plain": [
       "(10000, 37)"
      ]
     },
     "execution_count": 2,
     "metadata": {},
     "output_type": "execute_result"
    }
   ],
   "source": [
    "df = pd.read_csv('../data/comments.csv')\n",
    "start_rows = df.shape[0]\n",
    "df.shape"
   ]
  },
  {
   "cell_type": "markdown",
   "id": "wrapped-treaty",
   "metadata": {},
   "source": [
    "## Inspection"
   ]
  },
  {
   "cell_type": "code",
   "execution_count": 3,
   "id": "impressive-tribune",
   "metadata": {},
   "outputs": [
    {
     "data": {
      "text/html": [
       "<div>\n",
       "<style scoped>\n",
       "    .dataframe tbody tr th:only-of-type {\n",
       "        vertical-align: middle;\n",
       "    }\n",
       "\n",
       "    .dataframe tbody tr th {\n",
       "        vertical-align: top;\n",
       "    }\n",
       "\n",
       "    .dataframe thead th {\n",
       "        text-align: right;\n",
       "    }\n",
       "</style>\n",
       "<table border=\"1\" class=\"dataframe\">\n",
       "  <thead>\n",
       "    <tr style=\"text-align: right;\">\n",
       "      <th></th>\n",
       "      <th>all_awardings</th>\n",
       "      <th>associated_award</th>\n",
       "      <th>author</th>\n",
       "      <th>author_flair_background_color</th>\n",
       "      <th>author_flair_css_class</th>\n",
       "      <th>author_flair_richtext</th>\n",
       "      <th>author_flair_template_id</th>\n",
       "      <th>author_flair_text</th>\n",
       "      <th>author_flair_text_color</th>\n",
       "      <th>author_flair_type</th>\n",
       "      <th>...</th>\n",
       "      <th>score</th>\n",
       "      <th>send_replies</th>\n",
       "      <th>stickied</th>\n",
       "      <th>subreddit</th>\n",
       "      <th>subreddit_id</th>\n",
       "      <th>top_awarded_type</th>\n",
       "      <th>total_awards_received</th>\n",
       "      <th>treatment_tags</th>\n",
       "      <th>distinguished</th>\n",
       "      <th>author_cakeday</th>\n",
       "    </tr>\n",
       "  </thead>\n",
       "  <tbody>\n",
       "    <tr>\n",
       "      <th>0</th>\n",
       "      <td>[]</td>\n",
       "      <td>NaN</td>\n",
       "      <td>AgronLovesSteel</td>\n",
       "      <td>NaN</td>\n",
       "      <td>NaN</td>\n",
       "      <td>[]</td>\n",
       "      <td>NaN</td>\n",
       "      <td>NaN</td>\n",
       "      <td>NaN</td>\n",
       "      <td>text</td>\n",
       "      <td>...</td>\n",
       "      <td>1</td>\n",
       "      <td>True</td>\n",
       "      <td>False</td>\n",
       "      <td>AMA</td>\n",
       "      <td>t5_2r4eo</td>\n",
       "      <td>NaN</td>\n",
       "      <td>0</td>\n",
       "      <td>[]</td>\n",
       "      <td>NaN</td>\n",
       "      <td>NaN</td>\n",
       "    </tr>\n",
       "    <tr>\n",
       "      <th>1</th>\n",
       "      <td>[]</td>\n",
       "      <td>NaN</td>\n",
       "      <td>Adventurous-Mess9304</td>\n",
       "      <td>NaN</td>\n",
       "      <td>NaN</td>\n",
       "      <td>[]</td>\n",
       "      <td>NaN</td>\n",
       "      <td>NaN</td>\n",
       "      <td>NaN</td>\n",
       "      <td>text</td>\n",
       "      <td>...</td>\n",
       "      <td>2</td>\n",
       "      <td>True</td>\n",
       "      <td>False</td>\n",
       "      <td>AMA</td>\n",
       "      <td>t5_2r4eo</td>\n",
       "      <td>NaN</td>\n",
       "      <td>0</td>\n",
       "      <td>[]</td>\n",
       "      <td>NaN</td>\n",
       "      <td>NaN</td>\n",
       "    </tr>\n",
       "    <tr>\n",
       "      <th>2</th>\n",
       "      <td>[]</td>\n",
       "      <td>NaN</td>\n",
       "      <td>ab901</td>\n",
       "      <td>NaN</td>\n",
       "      <td>NaN</td>\n",
       "      <td>[]</td>\n",
       "      <td>NaN</td>\n",
       "      <td>NaN</td>\n",
       "      <td>NaN</td>\n",
       "      <td>text</td>\n",
       "      <td>...</td>\n",
       "      <td>1</td>\n",
       "      <td>True</td>\n",
       "      <td>False</td>\n",
       "      <td>AMA</td>\n",
       "      <td>t5_2r4eo</td>\n",
       "      <td>NaN</td>\n",
       "      <td>0</td>\n",
       "      <td>[]</td>\n",
       "      <td>NaN</td>\n",
       "      <td>NaN</td>\n",
       "    </tr>\n",
       "    <tr>\n",
       "      <th>3</th>\n",
       "      <td>[]</td>\n",
       "      <td>NaN</td>\n",
       "      <td>[deleted]</td>\n",
       "      <td>NaN</td>\n",
       "      <td>NaN</td>\n",
       "      <td>NaN</td>\n",
       "      <td>NaN</td>\n",
       "      <td>NaN</td>\n",
       "      <td>dark</td>\n",
       "      <td>NaN</td>\n",
       "      <td>...</td>\n",
       "      <td>1</td>\n",
       "      <td>True</td>\n",
       "      <td>False</td>\n",
       "      <td>AMA</td>\n",
       "      <td>t5_2r4eo</td>\n",
       "      <td>NaN</td>\n",
       "      <td>0</td>\n",
       "      <td>[]</td>\n",
       "      <td>NaN</td>\n",
       "      <td>NaN</td>\n",
       "    </tr>\n",
       "    <tr>\n",
       "      <th>4</th>\n",
       "      <td>[]</td>\n",
       "      <td>NaN</td>\n",
       "      <td>pardo92</td>\n",
       "      <td>NaN</td>\n",
       "      <td>NaN</td>\n",
       "      <td>[]</td>\n",
       "      <td>NaN</td>\n",
       "      <td>NaN</td>\n",
       "      <td>NaN</td>\n",
       "      <td>text</td>\n",
       "      <td>...</td>\n",
       "      <td>1</td>\n",
       "      <td>True</td>\n",
       "      <td>False</td>\n",
       "      <td>AMA</td>\n",
       "      <td>t5_2r4eo</td>\n",
       "      <td>NaN</td>\n",
       "      <td>0</td>\n",
       "      <td>[]</td>\n",
       "      <td>NaN</td>\n",
       "      <td>NaN</td>\n",
       "    </tr>\n",
       "  </tbody>\n",
       "</table>\n",
       "<p>5 rows × 37 columns</p>\n",
       "</div>"
      ],
      "text/plain": [
       "  all_awardings  associated_award                author  \\\n",
       "0            []               NaN       AgronLovesSteel   \n",
       "1            []               NaN  Adventurous-Mess9304   \n",
       "2            []               NaN                 ab901   \n",
       "3            []               NaN             [deleted]   \n",
       "4            []               NaN               pardo92   \n",
       "\n",
       "   author_flair_background_color  author_flair_css_class  \\\n",
       "0                            NaN                     NaN   \n",
       "1                            NaN                     NaN   \n",
       "2                            NaN                     NaN   \n",
       "3                            NaN                     NaN   \n",
       "4                            NaN                     NaN   \n",
       "\n",
       "  author_flair_richtext  author_flair_template_id  author_flair_text  \\\n",
       "0                    []                       NaN                NaN   \n",
       "1                    []                       NaN                NaN   \n",
       "2                    []                       NaN                NaN   \n",
       "3                   NaN                       NaN                NaN   \n",
       "4                    []                       NaN                NaN   \n",
       "\n",
       "  author_flair_text_color author_flair_type  ... score send_replies stickied  \\\n",
       "0                     NaN              text  ...     1         True    False   \n",
       "1                     NaN              text  ...     2         True    False   \n",
       "2                     NaN              text  ...     1         True    False   \n",
       "3                    dark               NaN  ...     1         True    False   \n",
       "4                     NaN              text  ...     1         True    False   \n",
       "\n",
       "  subreddit subreddit_id  top_awarded_type  total_awards_received  \\\n",
       "0       AMA     t5_2r4eo               NaN                      0   \n",
       "1       AMA     t5_2r4eo               NaN                      0   \n",
       "2       AMA     t5_2r4eo               NaN                      0   \n",
       "3       AMA     t5_2r4eo               NaN                      0   \n",
       "4       AMA     t5_2r4eo               NaN                      0   \n",
       "\n",
       "   treatment_tags distinguished author_cakeday  \n",
       "0              []           NaN            NaN  \n",
       "1              []           NaN            NaN  \n",
       "2              []           NaN            NaN  \n",
       "3              []           NaN            NaN  \n",
       "4              []           NaN            NaN  \n",
       "\n",
       "[5 rows x 37 columns]"
      ]
     },
     "execution_count": 3,
     "metadata": {},
     "output_type": "execute_result"
    }
   ],
   "source": [
    "df.head()"
   ]
  },
  {
   "cell_type": "code",
   "execution_count": 4,
   "id": "dated-monthly",
   "metadata": {},
   "outputs": [],
   "source": [
    "df['post_length'] = df['body'].str.len()"
   ]
  },
  {
   "cell_type": "code",
   "execution_count": 5,
   "id": "unlimited-peripheral",
   "metadata": {},
   "outputs": [
    {
     "data": {
      "text/plain": [
       "count    10000.000000\n",
       "mean       151.824300\n",
       "std        298.460363\n",
       "min          1.000000\n",
       "25%         28.000000\n",
       "50%         71.000000\n",
       "75%        164.000000\n",
       "max       8845.000000\n",
       "Name: post_length, dtype: float64"
      ]
     },
     "execution_count": 5,
     "metadata": {},
     "output_type": "execute_result"
    }
   ],
   "source": [
    "df['post_length'].describe()"
   ]
  },
  {
   "cell_type": "code",
   "execution_count": 6,
   "id": "terminal-stupid",
   "metadata": {},
   "outputs": [
    {
     "data": {
      "text/plain": [
       "Index(['all_awardings', 'associated_award', 'author',\n",
       "       'author_flair_background_color', 'author_flair_css_class',\n",
       "       'author_flair_richtext', 'author_flair_template_id',\n",
       "       'author_flair_text', 'author_flair_text_color', 'author_flair_type',\n",
       "       'author_fullname', 'author_patreon_flair', 'author_premium', 'awarders',\n",
       "       'body', 'collapsed_because_crowd_control', 'comment_type',\n",
       "       'created_utc', 'gildings', 'id', 'is_submitter', 'link_id', 'locked',\n",
       "       'no_follow', 'parent_id', 'permalink', 'retrieved_on', 'score',\n",
       "       'send_replies', 'stickied', 'subreddit', 'subreddit_id',\n",
       "       'top_awarded_type', 'total_awards_received', 'treatment_tags',\n",
       "       'distinguished', 'author_cakeday', 'post_length'],\n",
       "      dtype='object')"
      ]
     },
     "execution_count": 6,
     "metadata": {},
     "output_type": "execute_result"
    }
   ],
   "source": [
    "df.columns"
   ]
  },
  {
   "cell_type": "markdown",
   "id": "mineral-allergy",
   "metadata": {},
   "source": [
    "### Authors in one subreddit\n",
    "#### I found some authors \"hang-out\" around the same subreddit\n",
    "I get into this more later."
   ]
  },
  {
   "cell_type": "code",
   "execution_count": 7,
   "id": "recreational-activation",
   "metadata": {},
   "outputs": [
    {
     "data": {
      "text/plain": [
       "[deleted]              237\n",
       "arrowfuckinghead       171\n",
       "Blue-Corn              104\n",
       "AutoModerator           92\n",
       "YeastyP1ssFlaps         71\n",
       "                      ... \n",
       "thegiraff3boi            1\n",
       "SurfWyoming              1\n",
       "dronna                   1\n",
       "Ok-Cauliflower-7760      1\n",
       "loopsydoopsy             1\n",
       "Name: author, Length: 4498, dtype: int64"
      ]
     },
     "execution_count": 7,
     "metadata": {},
     "output_type": "execute_result"
    }
   ],
   "source": [
    "df['author'].value_counts()"
   ]
  },
  {
   "cell_type": "code",
   "execution_count": 8,
   "id": "demographic-network",
   "metadata": {},
   "outputs": [
    {
     "data": {
      "text/plain": [
       "AMA    171\n",
       "Name: subreddit, dtype: int64"
      ]
     },
     "execution_count": 8,
     "metadata": {},
     "output_type": "execute_result"
    }
   ],
   "source": [
    "compare_author_to_subreddit = (df['author'] == 'arrowfuckinghead')\n",
    "df[compare_author_to_subreddit]['subreddit'].value_counts()"
   ]
  },
  {
   "cell_type": "code",
   "execution_count": 9,
   "id": "designing-router",
   "metadata": {},
   "outputs": [
    {
     "data": {
      "text/plain": [
       "AMA    104\n",
       "Name: subreddit, dtype: int64"
      ]
     },
     "execution_count": 9,
     "metadata": {},
     "output_type": "execute_result"
    }
   ],
   "source": [
    "compare_author_to_subreddit = (df['author'] == 'Blue-Corn')\n",
    "df[compare_author_to_subreddit]['subreddit'].value_counts()"
   ]
  },
  {
   "cell_type": "code",
   "execution_count": 10,
   "id": "smaller-twins",
   "metadata": {},
   "outputs": [
    {
     "data": {
      "text/plain": [
       "AskReddit    85\n",
       "AMA           7\n",
       "Name: subreddit, dtype: int64"
      ]
     },
     "execution_count": 10,
     "metadata": {},
     "output_type": "execute_result"
    }
   ],
   "source": [
    "compare_author_to_subreddit = (df['author'] == 'AutoModerator')\n",
    "df[compare_author_to_subreddit]['subreddit'].value_counts()"
   ]
  },
  {
   "cell_type": "code",
   "execution_count": 11,
   "id": "indoor-spice",
   "metadata": {},
   "outputs": [
    {
     "data": {
      "text/plain": [
       "AMA    71\n",
       "Name: subreddit, dtype: int64"
      ]
     },
     "execution_count": 11,
     "metadata": {},
     "output_type": "execute_result"
    }
   ],
   "source": [
    "compare_author_to_subreddit = (df['author'] == 'YeastyP1ssFlaps')\n",
    "df[compare_author_to_subreddit]['subreddit'].value_counts()"
   ]
  },
  {
   "cell_type": "markdown",
   "id": "surrounded-marketplace",
   "metadata": {},
   "source": [
    "## Looking for NaNs"
   ]
  },
  {
   "cell_type": "code",
   "execution_count": 12,
   "id": "bottom-information",
   "metadata": {},
   "outputs": [
    {
     "data": {
      "text/plain": [
       "author_flair_richtext                2.37\n",
       "author_flair_type                    2.37\n",
       "author_fullname                      2.37\n",
       "author_patreon_flair                 2.37\n",
       "author_premium                       2.37\n",
       "author_flair_text_color             97.63\n",
       "distinguished                       99.08\n",
       "author_cakeday                      99.79\n",
       "associated_award                   100.00\n",
       "author_flair_background_color      100.00\n",
       "author_flair_css_class             100.00\n",
       "author_flair_template_id           100.00\n",
       "author_flair_text                  100.00\n",
       "collapsed_because_crowd_control    100.00\n",
       "comment_type                       100.00\n",
       "top_awarded_type                   100.00\n",
       "dtype: float64"
      ]
     },
     "execution_count": 12,
     "metadata": {},
     "output_type": "execute_result"
    },
    {
     "data": {
      "image/png": "[encoded data removed]",
      "text/plain": [
       "<Figure size 1440x576 with 1 Axes>"
      ]
     },
     "metadata": {
      "needs_background": "light"
     },
     "output_type": "display_data"
    }
   ],
   "source": [
    "# plot_my_nans(df, save_output='../images/nan_columns_before.png')\n",
    "plot_my_nans(df)"
   ]
  },
  {
   "cell_type": "markdown",
   "id": "opponent-penetration",
   "metadata": {},
   "source": [
    "### That's a lot of NaNs!\n",
    "But there seem to be more columns without much data, but that are not NaNs"
   ]
  },
  {
   "cell_type": "code",
   "execution_count": 13,
   "id": "welcome-travel",
   "metadata": {},
   "outputs": [
    {
     "data": {
      "text/plain": [
       "text    9763\n",
       "Name: author_flair_type, dtype: int64"
      ]
     },
     "execution_count": 13,
     "metadata": {},
     "output_type": "execute_result"
    }
   ],
   "source": [
    "df['author_flair_type'].value_counts()"
   ]
  },
  {
   "cell_type": "code",
   "execution_count": 14,
   "id": "rapid-messaging",
   "metadata": {},
   "outputs": [
    {
     "data": {
      "text/plain": [
       "False    9763\n",
       "Name: author_patreon_flair, dtype: int64"
      ]
     },
     "execution_count": 14,
     "metadata": {},
     "output_type": "execute_result"
    }
   ],
   "source": [
    "df['author_patreon_flair'].value_counts()"
   ]
  },
  {
   "cell_type": "code",
   "execution_count": 15,
   "id": "literary-championship",
   "metadata": {},
   "outputs": [
    {
     "name": "stdout",
     "output_type": "stream",
     "text": [
      "[]    9763\n",
      "Name: author_flair_richtext, dtype: int64\n",
      "[]    10000\n",
      "Name: awarders, dtype: int64\n",
      "{}              9992\n",
      "{'gid_1': 1}       6\n",
      "{'gid_1': 3}       1\n",
      "{'gid_2': 1}       1\n",
      "Name: gildings, dtype: int64\n",
      "False    9997\n",
      "True        3\n",
      "Name: stickied, dtype: int64\n"
     ]
    }
   ],
   "source": [
    "# Low variance, and empty sets are not NaNs - changing these sets to NaNs in a step or two\n",
    "print(df['author_flair_richtext'].value_counts())\n",
    "print(df['awarders'].value_counts())\n",
    "print(df['gildings'].value_counts())\n",
    "print(df['stickied'].value_counts())\n"
   ]
  },
  {
   "cell_type": "markdown",
   "id": "heard-density",
   "metadata": {},
   "source": [
    "## Features with little value\n",
    "### I Found a bunch of features that do not tell us much\n",
    "There are features that are populated with empty square brackets\n",
    "\n",
    "Since this has no value, I am turning these into NaNs so htey are easier to remove from our dataset."
   ]
  },
  {
   "cell_type": "code",
   "execution_count": 16,
   "id": "green-prayer",
   "metadata": {},
   "outputs": [],
   "source": [
    "def replace_with_nan(df_in, feature, find):\n",
    "    return np.where(df_in[feature] == find, np.nan, df[feature])"
   ]
  },
  {
   "cell_type": "code",
   "execution_count": 17,
   "id": "improved-animation",
   "metadata": {},
   "outputs": [],
   "source": [
    "repl_feat = [ 'all_awardings', 'author_flair_richtext', 'awarders', 'gildings', 'stickied' ]\n",
    "repl_find = [ '[]', '[]', '[]', '{}', False ]\n",
    "\n",
    "for i in range(len(repl_feat)):\n",
    "    df[repl_feat[i]] = replace_with_nan(df, repl_feat[i], repl_find[i])"
   ]
  },
  {
   "cell_type": "code",
   "execution_count": 18,
   "id": "included-client",
   "metadata": {},
   "outputs": [
    {
     "data": {
      "text/plain": [
       "author_fullname                      2.37\n",
       "author_premium                       2.37\n",
       "author_patreon_flair                 2.37\n",
       "author_flair_type                    2.37\n",
       "author_flair_text_color             97.63\n",
       "distinguished                       99.08\n",
       "all_awardings                       99.71\n",
       "author_cakeday                      99.79\n",
       "gildings                            99.92\n",
       "stickied                            99.97\n",
       "author_flair_template_id           100.00\n",
       "author_flair_richtext              100.00\n",
       "author_flair_css_class             100.00\n",
       "author_flair_background_color      100.00\n",
       "associated_award                   100.00\n",
       "awarders                           100.00\n",
       "collapsed_because_crowd_control    100.00\n",
       "comment_type                       100.00\n",
       "top_awarded_type                   100.00\n",
       "author_flair_text                  100.00\n",
       "dtype: float64"
      ]
     },
     "execution_count": 18,
     "metadata": {},
     "output_type": "execute_result"
    },
    {
     "data": {
      "image/png": "[encoded data removed]",
      "text/plain": [
       "<Figure size 1440x576 with 1 Axes>"
      ]
     },
     "metadata": {
      "needs_background": "light"
     },
     "output_type": "display_data"
    }
   ],
   "source": [
    "# plot_my_nans(df, save_output='../images/nan_columns_after.png')\n",
    "plot_my_nans(df)"
   ]
  },
  {
   "cell_type": "markdown",
   "id": "sealed-alarm",
   "metadata": {},
   "source": [
    "## Dropping Columns\n",
    "### I decided to drop the following columns\n",
    "These columns either tell me to much or too little.\n",
    "\n",
    "#### Too little\n",
    "What I mean by telling me *too little* I expressed earlier in htis document (e.g. turning empty square brackets into NaNs).\n",
    "\n",
    "#### Too much\n",
    "What I mean by telling me *too much*, I give the example that the permalink has the subreeddit name within it. \n",
    "\n",
    "Another example of too much is the fact that people on reddit tend to \"hang out\" in the same subreddit, as I mentioned earlier in this document. \n",
    "In the end, I got rid of __*most*__ author information.\n",
    "\n",
    "Leaving things like this in place would defeat the purpose of this project."
   ]
  },
  {
   "cell_type": "code",
   "execution_count": 19,
   "id": "hungry-spank",
   "metadata": {},
   "outputs": [],
   "source": [
    "drop_cols = [ 'all_awardings', 'associated_award', 'author_flair_background_color', 'author_flair_css_class',\n",
    "       'author_flair_richtext', 'author_flair_template_id', 'author_flair_text', 'author_flair_text_color', \n",
    "       'author_flair_type', 'author_patreon_flair', 'awarders', 'collapsed_because_crowd_control', 'comment_type',\n",
    "       'created_utc', 'gildings',\n",
    "       'locked', 'permalink', 'retrieved_on', 'stickied', 'subreddit_id', 'top_awarded_type', 'treatment_tags', \n",
    "       'distinguished', 'author_cakeday']\n",
    "\n",
    "df.drop(columns=drop_cols, inplace=True)"
   ]
  },
  {
   "cell_type": "code",
   "execution_count": 20,
   "id": "sticky-virus",
   "metadata": {},
   "outputs": [],
   "source": [
    "df = remove_deleted_comments(df)"
   ]
  },
  {
   "cell_type": "code",
   "execution_count": 21,
   "id": "improving-biodiversity",
   "metadata": {},
   "outputs": [],
   "source": [
    "df.dropna(inplace=True)"
   ]
  },
  {
   "cell_type": "code",
   "execution_count": 22,
   "id": "saved-guatemala",
   "metadata": {},
   "outputs": [
    {
     "data": {
      "text/plain": [
       "author                   0\n",
       "author_fullname          0\n",
       "author_premium           0\n",
       "body                     0\n",
       "id                       0\n",
       "is_submitter             0\n",
       "link_id                  0\n",
       "no_follow                0\n",
       "parent_id                0\n",
       "score                    0\n",
       "send_replies             0\n",
       "subreddit                0\n",
       "total_awards_received    0\n",
       "post_length              0\n",
       "dtype: int64"
      ]
     },
     "execution_count": 22,
     "metadata": {},
     "output_type": "execute_result"
    }
   ],
   "source": [
    "# CLeaned out irrelevent data\n",
    "df.isna().sum()"
   ]
  },
  {
   "cell_type": "code",
   "execution_count": 23,
   "id": "pressed-black",
   "metadata": {},
   "outputs": [
    {
     "data": {
      "text/html": [
       "<div>\n",
       "<style scoped>\n",
       "    .dataframe tbody tr th:only-of-type {\n",
       "        vertical-align: middle;\n",
       "    }\n",
       "\n",
       "    .dataframe tbody tr th {\n",
       "        vertical-align: top;\n",
       "    }\n",
       "\n",
       "    .dataframe thead th {\n",
       "        text-align: right;\n",
       "    }\n",
       "</style>\n",
       "<table border=\"1\" class=\"dataframe\">\n",
       "  <thead>\n",
       "    <tr style=\"text-align: right;\">\n",
       "      <th></th>\n",
       "      <th>author</th>\n",
       "      <th>author_fullname</th>\n",
       "      <th>author_premium</th>\n",
       "      <th>body</th>\n",
       "      <th>id</th>\n",
       "      <th>is_submitter</th>\n",
       "      <th>link_id</th>\n",
       "      <th>no_follow</th>\n",
       "      <th>parent_id</th>\n",
       "      <th>score</th>\n",
       "      <th>send_replies</th>\n",
       "      <th>subreddit</th>\n",
       "      <th>total_awards_received</th>\n",
       "      <th>post_length</th>\n",
       "    </tr>\n",
       "  </thead>\n",
       "  <tbody>\n",
       "    <tr>\n",
       "      <th>0</th>\n",
       "      <td>AgronLovesSteel</td>\n",
       "      <td>t2_68gsl4ib</td>\n",
       "      <td>False</td>\n",
       "      <td>Omg sooo good just finished! Gotta have some f...</td>\n",
       "      <td>gvrcgqn</td>\n",
       "      <td>True</td>\n",
       "      <td>t3_mxukth</td>\n",
       "      <td>True</td>\n",
       "      <td>t1_gvrccgy</td>\n",
       "      <td>1</td>\n",
       "      <td>True</td>\n",
       "      <td>AMA</td>\n",
       "      <td>0</td>\n",
       "      <td>68</td>\n",
       "    </tr>\n",
       "    <tr>\n",
       "      <th>1</th>\n",
       "      <td>Adventurous-Mess9304</td>\n",
       "      <td>t2_8x6i6s4f</td>\n",
       "      <td>False</td>\n",
       "      <td>Great answer</td>\n",
       "      <td>gvrcf1t</td>\n",
       "      <td>False</td>\n",
       "      <td>t3_mxnfsk</td>\n",
       "      <td>True</td>\n",
       "      <td>t1_gvqnjl0</td>\n",
       "      <td>2</td>\n",
       "      <td>True</td>\n",
       "      <td>AMA</td>\n",
       "      <td>0</td>\n",
       "      <td>12</td>\n",
       "    </tr>\n",
       "    <tr>\n",
       "      <th>2</th>\n",
       "      <td>ab901</td>\n",
       "      <td>t2_6cyel9fk</td>\n",
       "      <td>False</td>\n",
       "      <td>thank you for serving and protecting!</td>\n",
       "      <td>gvrcd04</td>\n",
       "      <td>False</td>\n",
       "      <td>t3_mxnfsk</td>\n",
       "      <td>True</td>\n",
       "      <td>t3_mxnfsk</td>\n",
       "      <td>1</td>\n",
       "      <td>True</td>\n",
       "      <td>AMA</td>\n",
       "      <td>0</td>\n",
       "      <td>37</td>\n",
       "    </tr>\n",
       "    <tr>\n",
       "      <th>4</th>\n",
       "      <td>pardo92</td>\n",
       "      <td>t2_uckdfgu</td>\n",
       "      <td>False</td>\n",
       "      <td>Im sure they brighten the place up :) hows the...</td>\n",
       "      <td>gvrccgy</td>\n",
       "      <td>False</td>\n",
       "      <td>t3_mxukth</td>\n",
       "      <td>True</td>\n",
       "      <td>t1_gvrc8ir</td>\n",
       "      <td>1</td>\n",
       "      <td>True</td>\n",
       "      <td>AMA</td>\n",
       "      <td>0</td>\n",
       "      <td>53</td>\n",
       "    </tr>\n",
       "    <tr>\n",
       "      <th>5</th>\n",
       "      <td>strawberrycreampie</td>\n",
       "      <td>t2_7vozh</td>\n",
       "      <td>False</td>\n",
       "      <td>yes, i would have needed the gun. im much too ...</td>\n",
       "      <td>gvrcaz0</td>\n",
       "      <td>True</td>\n",
       "      <td>t3_mxi3xq</td>\n",
       "      <td>True</td>\n",
       "      <td>t1_gvoquax</td>\n",
       "      <td>1</td>\n",
       "      <td>True</td>\n",
       "      <td>AMA</td>\n",
       "      <td>0</td>\n",
       "      <td>95</td>\n",
       "    </tr>\n",
       "    <tr>\n",
       "      <th>...</th>\n",
       "      <td>...</td>\n",
       "      <td>...</td>\n",
       "      <td>...</td>\n",
       "      <td>...</td>\n",
       "      <td>...</td>\n",
       "      <td>...</td>\n",
       "      <td>...</td>\n",
       "      <td>...</td>\n",
       "      <td>...</td>\n",
       "      <td>...</td>\n",
       "      <td>...</td>\n",
       "      <td>...</td>\n",
       "      <td>...</td>\n",
       "      <td>...</td>\n",
       "    </tr>\n",
       "    <tr>\n",
       "      <th>9995</th>\n",
       "      <td>Chief_BRUH</td>\n",
       "      <td>t2_rz6p1</td>\n",
       "      <td>False</td>\n",
       "      <td>Bruh</td>\n",
       "      <td>gvrcwi6</td>\n",
       "      <td>False</td>\n",
       "      <td>t3_mxf4dl</td>\n",
       "      <td>True</td>\n",
       "      <td>t1_gvor24q</td>\n",
       "      <td>1</td>\n",
       "      <td>True</td>\n",
       "      <td>AskReddit</td>\n",
       "      <td>0</td>\n",
       "      <td>4</td>\n",
       "    </tr>\n",
       "    <tr>\n",
       "      <th>9996</th>\n",
       "      <td>thelemonx</td>\n",
       "      <td>t2_kj5x6</td>\n",
       "      <td>False</td>\n",
       "      <td>Pretty much all herbivores are.  People think ...</td>\n",
       "      <td>gvrcwhi</td>\n",
       "      <td>False</td>\n",
       "      <td>t3_mxqjly</td>\n",
       "      <td>False</td>\n",
       "      <td>t1_gvqzlil</td>\n",
       "      <td>50</td>\n",
       "      <td>True</td>\n",
       "      <td>AskReddit</td>\n",
       "      <td>0</td>\n",
       "      <td>101</td>\n",
       "    </tr>\n",
       "    <tr>\n",
       "      <th>9997</th>\n",
       "      <td>dieinafirenazi</td>\n",
       "      <td>t2_3y2z14a7</td>\n",
       "      <td>False</td>\n",
       "      <td>A rat in an enriching environment (other rats ...</td>\n",
       "      <td>gvrcwgr</td>\n",
       "      <td>False</td>\n",
       "      <td>t3_mxnf10</td>\n",
       "      <td>False</td>\n",
       "      <td>t1_gvr51zw</td>\n",
       "      <td>37</td>\n",
       "      <td>True</td>\n",
       "      <td>AskReddit</td>\n",
       "      <td>0</td>\n",
       "      <td>144</td>\n",
       "    </tr>\n",
       "    <tr>\n",
       "      <th>9998</th>\n",
       "      <td>theFLORIDAman04</td>\n",
       "      <td>t2_5dmamdcl</td>\n",
       "      <td>False</td>\n",
       "      <td>\"You are the worst child I have had\" or the cl...</td>\n",
       "      <td>gvrcwgl</td>\n",
       "      <td>False</td>\n",
       "      <td>t3_mxf4dl</td>\n",
       "      <td>True</td>\n",
       "      <td>t3_mxf4dl</td>\n",
       "      <td>1</td>\n",
       "      <td>True</td>\n",
       "      <td>AskReddit</td>\n",
       "      <td>0</td>\n",
       "      <td>385</td>\n",
       "    </tr>\n",
       "    <tr>\n",
       "      <th>9999</th>\n",
       "      <td>pyro57</td>\n",
       "      <td>t2_pi0y0</td>\n",
       "      <td>False</td>\n",
       "      <td>Super sorry to hear that bud... It does suck, ...</td>\n",
       "      <td>gvrcwek</td>\n",
       "      <td>False</td>\n",
       "      <td>t3_mxuzpo</td>\n",
       "      <td>True</td>\n",
       "      <td>t1_gvrcrj8</td>\n",
       "      <td>2</td>\n",
       "      <td>True</td>\n",
       "      <td>AskReddit</td>\n",
       "      <td>0</td>\n",
       "      <td>89</td>\n",
       "    </tr>\n",
       "  </tbody>\n",
       "</table>\n",
       "<p>9763 rows × 14 columns</p>\n",
       "</div>"
      ],
      "text/plain": [
       "                    author author_fullname author_premium  \\\n",
       "0          AgronLovesSteel     t2_68gsl4ib          False   \n",
       "1     Adventurous-Mess9304     t2_8x6i6s4f          False   \n",
       "2                    ab901     t2_6cyel9fk          False   \n",
       "4                  pardo92      t2_uckdfgu          False   \n",
       "5       strawberrycreampie        t2_7vozh          False   \n",
       "...                    ...             ...            ...   \n",
       "9995            Chief_BRUH        t2_rz6p1          False   \n",
       "9996             thelemonx        t2_kj5x6          False   \n",
       "9997        dieinafirenazi     t2_3y2z14a7          False   \n",
       "9998       theFLORIDAman04     t2_5dmamdcl          False   \n",
       "9999                pyro57        t2_pi0y0          False   \n",
       "\n",
       "                                                   body       id  \\\n",
       "0     Omg sooo good just finished! Gotta have some f...  gvrcgqn   \n",
       "1                                          Great answer  gvrcf1t   \n",
       "2                 thank you for serving and protecting!  gvrcd04   \n",
       "4     Im sure they brighten the place up :) hows the...  gvrccgy   \n",
       "5     yes, i would have needed the gun. im much too ...  gvrcaz0   \n",
       "...                                                 ...      ...   \n",
       "9995                                               Bruh  gvrcwi6   \n",
       "9996  Pretty much all herbivores are.  People think ...  gvrcwhi   \n",
       "9997  A rat in an enriching environment (other rats ...  gvrcwgr   \n",
       "9998  \"You are the worst child I have had\" or the cl...  gvrcwgl   \n",
       "9999  Super sorry to hear that bud... It does suck, ...  gvrcwek   \n",
       "\n",
       "      is_submitter    link_id  no_follow   parent_id  score  send_replies  \\\n",
       "0             True  t3_mxukth       True  t1_gvrccgy      1          True   \n",
       "1            False  t3_mxnfsk       True  t1_gvqnjl0      2          True   \n",
       "2            False  t3_mxnfsk       True   t3_mxnfsk      1          True   \n",
       "4            False  t3_mxukth       True  t1_gvrc8ir      1          True   \n",
       "5             True  t3_mxi3xq       True  t1_gvoquax      1          True   \n",
       "...            ...        ...        ...         ...    ...           ...   \n",
       "9995         False  t3_mxf4dl       True  t1_gvor24q      1          True   \n",
       "9996         False  t3_mxqjly      False  t1_gvqzlil     50          True   \n",
       "9997         False  t3_mxnf10      False  t1_gvr51zw     37          True   \n",
       "9998         False  t3_mxf4dl       True   t3_mxf4dl      1          True   \n",
       "9999         False  t3_mxuzpo       True  t1_gvrcrj8      2          True   \n",
       "\n",
       "      subreddit  total_awards_received  post_length  \n",
       "0           AMA                      0           68  \n",
       "1           AMA                      0           12  \n",
       "2           AMA                      0           37  \n",
       "4           AMA                      0           53  \n",
       "5           AMA                      0           95  \n",
       "...         ...                    ...          ...  \n",
       "9995  AskReddit                      0            4  \n",
       "9996  AskReddit                      0          101  \n",
       "9997  AskReddit                      0          144  \n",
       "9998  AskReddit                      0          385  \n",
       "9999  AskReddit                      0           89  \n",
       "\n",
       "[9763 rows x 14 columns]"
      ]
     },
     "execution_count": 23,
     "metadata": {},
     "output_type": "execute_result"
    }
   ],
   "source": [
    "df"
   ]
  },
  {
   "cell_type": "code",
   "execution_count": 24,
   "id": "qualified-mattress",
   "metadata": {},
   "outputs": [
    {
     "data": {
      "text/plain": [
       "False    7713\n",
       "True     2050\n",
       "Name: is_submitter, dtype: int64"
      ]
     },
     "execution_count": 24,
     "metadata": {},
     "output_type": "execute_result"
    }
   ],
   "source": [
    "df['is_submitter'].value_counts()"
   ]
  },
  {
   "cell_type": "code",
   "execution_count": 25,
   "id": "refined-relaxation",
   "metadata": {},
   "outputs": [
    {
     "data": {
      "text/plain": [
       "False    8984\n",
       "True      779\n",
       "Name: author_premium, dtype: int64"
      ]
     },
     "execution_count": 25,
     "metadata": {},
     "output_type": "execute_result"
    }
   ],
   "source": [
    "df['author_premium'].value_counts()"
   ]
  },
  {
   "cell_type": "code",
   "execution_count": 26,
   "id": "every-guyana",
   "metadata": {},
   "outputs": [
    {
     "data": {
      "text/plain": [
       "True     7570\n",
       "False    2193\n",
       "Name: no_follow, dtype: int64"
      ]
     },
     "execution_count": 26,
     "metadata": {},
     "output_type": "execute_result"
    }
   ],
   "source": [
    "df['no_follow'].value_counts()"
   ]
  },
  {
   "cell_type": "code",
   "execution_count": 27,
   "id": "static-dream",
   "metadata": {},
   "outputs": [
    {
     "data": {
      "text/plain": [
       "0    9734\n",
       "1      26\n",
       "8       1\n",
       "2       1\n",
       "3       1\n",
       "Name: total_awards_received, dtype: int64"
      ]
     },
     "execution_count": 27,
     "metadata": {},
     "output_type": "execute_result"
    }
   ],
   "source": [
    "df['total_awards_received'].value_counts()"
   ]
  },
  {
   "cell_type": "code",
   "execution_count": 28,
   "id": "combined-lexington",
   "metadata": {},
   "outputs": [
    {
     "data": {
      "text/html": [
       "<div>\n",
       "<style scoped>\n",
       "    .dataframe tbody tr th:only-of-type {\n",
       "        vertical-align: middle;\n",
       "    }\n",
       "\n",
       "    .dataframe tbody tr th {\n",
       "        vertical-align: top;\n",
       "    }\n",
       "\n",
       "    .dataframe thead th {\n",
       "        text-align: right;\n",
       "    }\n",
       "</style>\n",
       "<table border=\"1\" class=\"dataframe\">\n",
       "  <thead>\n",
       "    <tr style=\"text-align: right;\">\n",
       "      <th></th>\n",
       "      <th>subreddit</th>\n",
       "      <th>total_awards_received</th>\n",
       "    </tr>\n",
       "  </thead>\n",
       "  <tbody>\n",
       "    <tr>\n",
       "      <th>1063</th>\n",
       "      <td>AMA</td>\n",
       "      <td>2</td>\n",
       "    </tr>\n",
       "    <tr>\n",
       "      <th>2739</th>\n",
       "      <td>AMA</td>\n",
       "      <td>1</td>\n",
       "    </tr>\n",
       "    <tr>\n",
       "      <th>5047</th>\n",
       "      <td>AskReddit</td>\n",
       "      <td>1</td>\n",
       "    </tr>\n",
       "    <tr>\n",
       "      <th>5284</th>\n",
       "      <td>AskReddit</td>\n",
       "      <td>1</td>\n",
       "    </tr>\n",
       "    <tr>\n",
       "      <th>5618</th>\n",
       "      <td>AskReddit</td>\n",
       "      <td>1</td>\n",
       "    </tr>\n",
       "    <tr>\n",
       "      <th>5627</th>\n",
       "      <td>AskReddit</td>\n",
       "      <td>1</td>\n",
       "    </tr>\n",
       "    <tr>\n",
       "      <th>5837</th>\n",
       "      <td>AskReddit</td>\n",
       "      <td>1</td>\n",
       "    </tr>\n",
       "    <tr>\n",
       "      <th>5963</th>\n",
       "      <td>AskReddit</td>\n",
       "      <td>1</td>\n",
       "    </tr>\n",
       "    <tr>\n",
       "      <th>6204</th>\n",
       "      <td>AskReddit</td>\n",
       "      <td>1</td>\n",
       "    </tr>\n",
       "    <tr>\n",
       "      <th>6221</th>\n",
       "      <td>AskReddit</td>\n",
       "      <td>1</td>\n",
       "    </tr>\n",
       "    <tr>\n",
       "      <th>6276</th>\n",
       "      <td>AskReddit</td>\n",
       "      <td>1</td>\n",
       "    </tr>\n",
       "    <tr>\n",
       "      <th>6408</th>\n",
       "      <td>AskReddit</td>\n",
       "      <td>1</td>\n",
       "    </tr>\n",
       "    <tr>\n",
       "      <th>6660</th>\n",
       "      <td>AskReddit</td>\n",
       "      <td>1</td>\n",
       "    </tr>\n",
       "    <tr>\n",
       "      <th>6967</th>\n",
       "      <td>AskReddit</td>\n",
       "      <td>1</td>\n",
       "    </tr>\n",
       "    <tr>\n",
       "      <th>6979</th>\n",
       "      <td>AskReddit</td>\n",
       "      <td>1</td>\n",
       "    </tr>\n",
       "    <tr>\n",
       "      <th>6991</th>\n",
       "      <td>AskReddit</td>\n",
       "      <td>1</td>\n",
       "    </tr>\n",
       "    <tr>\n",
       "      <th>7058</th>\n",
       "      <td>AskReddit</td>\n",
       "      <td>1</td>\n",
       "    </tr>\n",
       "    <tr>\n",
       "      <th>7163</th>\n",
       "      <td>AskReddit</td>\n",
       "      <td>1</td>\n",
       "    </tr>\n",
       "    <tr>\n",
       "      <th>7182</th>\n",
       "      <td>AskReddit</td>\n",
       "      <td>1</td>\n",
       "    </tr>\n",
       "    <tr>\n",
       "      <th>7458</th>\n",
       "      <td>AskReddit</td>\n",
       "      <td>1</td>\n",
       "    </tr>\n",
       "    <tr>\n",
       "      <th>7845</th>\n",
       "      <td>AskReddit</td>\n",
       "      <td>3</td>\n",
       "    </tr>\n",
       "    <tr>\n",
       "      <th>7856</th>\n",
       "      <td>AskReddit</td>\n",
       "      <td>8</td>\n",
       "    </tr>\n",
       "    <tr>\n",
       "      <th>7891</th>\n",
       "      <td>AskReddit</td>\n",
       "      <td>1</td>\n",
       "    </tr>\n",
       "    <tr>\n",
       "      <th>7914</th>\n",
       "      <td>AskReddit</td>\n",
       "      <td>1</td>\n",
       "    </tr>\n",
       "    <tr>\n",
       "      <th>7998</th>\n",
       "      <td>AskReddit</td>\n",
       "      <td>1</td>\n",
       "    </tr>\n",
       "    <tr>\n",
       "      <th>8110</th>\n",
       "      <td>AskReddit</td>\n",
       "      <td>1</td>\n",
       "    </tr>\n",
       "    <tr>\n",
       "      <th>8285</th>\n",
       "      <td>AskReddit</td>\n",
       "      <td>1</td>\n",
       "    </tr>\n",
       "    <tr>\n",
       "      <th>8294</th>\n",
       "      <td>AskReddit</td>\n",
       "      <td>1</td>\n",
       "    </tr>\n",
       "    <tr>\n",
       "      <th>8552</th>\n",
       "      <td>AskReddit</td>\n",
       "      <td>1</td>\n",
       "    </tr>\n",
       "  </tbody>\n",
       "</table>\n",
       "</div>"
      ],
      "text/plain": [
       "      subreddit  total_awards_received\n",
       "1063        AMA                      2\n",
       "2739        AMA                      1\n",
       "5047  AskReddit                      1\n",
       "5284  AskReddit                      1\n",
       "5618  AskReddit                      1\n",
       "5627  AskReddit                      1\n",
       "5837  AskReddit                      1\n",
       "5963  AskReddit                      1\n",
       "6204  AskReddit                      1\n",
       "6221  AskReddit                      1\n",
       "6276  AskReddit                      1\n",
       "6408  AskReddit                      1\n",
       "6660  AskReddit                      1\n",
       "6967  AskReddit                      1\n",
       "6979  AskReddit                      1\n",
       "6991  AskReddit                      1\n",
       "7058  AskReddit                      1\n",
       "7163  AskReddit                      1\n",
       "7182  AskReddit                      1\n",
       "7458  AskReddit                      1\n",
       "7845  AskReddit                      3\n",
       "7856  AskReddit                      8\n",
       "7891  AskReddit                      1\n",
       "7914  AskReddit                      1\n",
       "7998  AskReddit                      1\n",
       "8110  AskReddit                      1\n",
       "8285  AskReddit                      1\n",
       "8294  AskReddit                      1\n",
       "8552  AskReddit                      1"
      ]
     },
     "execution_count": 28,
     "metadata": {},
     "output_type": "execute_result"
    }
   ],
   "source": [
    "df[df['total_awards_received'] > 0][['subreddit', 'total_awards_received']]"
   ]
  },
  {
   "cell_type": "code",
   "execution_count": 29,
   "id": "protective-south",
   "metadata": {},
   "outputs": [
    {
     "data": {
      "text/plain": [
       "True     9663\n",
       "False     100\n",
       "Name: send_replies, dtype: int64"
      ]
     },
     "execution_count": 29,
     "metadata": {},
     "output_type": "execute_result"
    }
   ],
   "source": [
    "df['send_replies'].value_counts()"
   ]
  },
  {
   "cell_type": "code",
   "execution_count": 30,
   "id": "dressed-sleep",
   "metadata": {},
   "outputs": [],
   "source": [
    "# Remove Sticky posts, and then remove the column\n",
    "# Sticky posts are announcements and are not posts.\n",
    "#df[df['stickied'] == True][['subreddit', 'body']]"
   ]
  },
  {
   "cell_type": "code",
   "execution_count": 31,
   "id": "earlier-footwear",
   "metadata": {},
   "outputs": [
    {
     "data": {
      "text/html": [
       "<div>\n",
       "<style scoped>\n",
       "    .dataframe tbody tr th:only-of-type {\n",
       "        vertical-align: middle;\n",
       "    }\n",
       "\n",
       "    .dataframe tbody tr th {\n",
       "        vertical-align: top;\n",
       "    }\n",
       "\n",
       "    .dataframe thead th {\n",
       "        text-align: right;\n",
       "    }\n",
       "</style>\n",
       "<table border=\"1\" class=\"dataframe\">\n",
       "  <thead>\n",
       "    <tr style=\"text-align: right;\">\n",
       "      <th></th>\n",
       "      <th>author</th>\n",
       "      <th>author_fullname</th>\n",
       "      <th>author_premium</th>\n",
       "      <th>body</th>\n",
       "      <th>id</th>\n",
       "      <th>is_submitter</th>\n",
       "      <th>link_id</th>\n",
       "      <th>no_follow</th>\n",
       "      <th>parent_id</th>\n",
       "      <th>score</th>\n",
       "      <th>send_replies</th>\n",
       "      <th>subreddit</th>\n",
       "      <th>total_awards_received</th>\n",
       "      <th>post_length</th>\n",
       "    </tr>\n",
       "  </thead>\n",
       "  <tbody>\n",
       "    <tr>\n",
       "      <th>0</th>\n",
       "      <td>AgronLovesSteel</td>\n",
       "      <td>t2_68gsl4ib</td>\n",
       "      <td>False</td>\n",
       "      <td>Omg sooo good just finished! Gotta have some f...</td>\n",
       "      <td>gvrcgqn</td>\n",
       "      <td>True</td>\n",
       "      <td>t3_mxukth</td>\n",
       "      <td>True</td>\n",
       "      <td>t1_gvrccgy</td>\n",
       "      <td>1</td>\n",
       "      <td>True</td>\n",
       "      <td>AMA</td>\n",
       "      <td>0</td>\n",
       "      <td>68</td>\n",
       "    </tr>\n",
       "    <tr>\n",
       "      <th>1</th>\n",
       "      <td>Adventurous-Mess9304</td>\n",
       "      <td>t2_8x6i6s4f</td>\n",
       "      <td>False</td>\n",
       "      <td>Great answer</td>\n",
       "      <td>gvrcf1t</td>\n",
       "      <td>False</td>\n",
       "      <td>t3_mxnfsk</td>\n",
       "      <td>True</td>\n",
       "      <td>t1_gvqnjl0</td>\n",
       "      <td>2</td>\n",
       "      <td>True</td>\n",
       "      <td>AMA</td>\n",
       "      <td>0</td>\n",
       "      <td>12</td>\n",
       "    </tr>\n",
       "    <tr>\n",
       "      <th>2</th>\n",
       "      <td>ab901</td>\n",
       "      <td>t2_6cyel9fk</td>\n",
       "      <td>False</td>\n",
       "      <td>thank you for serving and protecting!</td>\n",
       "      <td>gvrcd04</td>\n",
       "      <td>False</td>\n",
       "      <td>t3_mxnfsk</td>\n",
       "      <td>True</td>\n",
       "      <td>t3_mxnfsk</td>\n",
       "      <td>1</td>\n",
       "      <td>True</td>\n",
       "      <td>AMA</td>\n",
       "      <td>0</td>\n",
       "      <td>37</td>\n",
       "    </tr>\n",
       "    <tr>\n",
       "      <th>4</th>\n",
       "      <td>pardo92</td>\n",
       "      <td>t2_uckdfgu</td>\n",
       "      <td>False</td>\n",
       "      <td>Im sure they brighten the place up :) hows the...</td>\n",
       "      <td>gvrccgy</td>\n",
       "      <td>False</td>\n",
       "      <td>t3_mxukth</td>\n",
       "      <td>True</td>\n",
       "      <td>t1_gvrc8ir</td>\n",
       "      <td>1</td>\n",
       "      <td>True</td>\n",
       "      <td>AMA</td>\n",
       "      <td>0</td>\n",
       "      <td>53</td>\n",
       "    </tr>\n",
       "    <tr>\n",
       "      <th>5</th>\n",
       "      <td>strawberrycreampie</td>\n",
       "      <td>t2_7vozh</td>\n",
       "      <td>False</td>\n",
       "      <td>yes, i would have needed the gun. im much too ...</td>\n",
       "      <td>gvrcaz0</td>\n",
       "      <td>True</td>\n",
       "      <td>t3_mxi3xq</td>\n",
       "      <td>True</td>\n",
       "      <td>t1_gvoquax</td>\n",
       "      <td>1</td>\n",
       "      <td>True</td>\n",
       "      <td>AMA</td>\n",
       "      <td>0</td>\n",
       "      <td>95</td>\n",
       "    </tr>\n",
       "    <tr>\n",
       "      <th>...</th>\n",
       "      <td>...</td>\n",
       "      <td>...</td>\n",
       "      <td>...</td>\n",
       "      <td>...</td>\n",
       "      <td>...</td>\n",
       "      <td>...</td>\n",
       "      <td>...</td>\n",
       "      <td>...</td>\n",
       "      <td>...</td>\n",
       "      <td>...</td>\n",
       "      <td>...</td>\n",
       "      <td>...</td>\n",
       "      <td>...</td>\n",
       "      <td>...</td>\n",
       "    </tr>\n",
       "    <tr>\n",
       "      <th>9995</th>\n",
       "      <td>Chief_BRUH</td>\n",
       "      <td>t2_rz6p1</td>\n",
       "      <td>False</td>\n",
       "      <td>Bruh</td>\n",
       "      <td>gvrcwi6</td>\n",
       "      <td>False</td>\n",
       "      <td>t3_mxf4dl</td>\n",
       "      <td>True</td>\n",
       "      <td>t1_gvor24q</td>\n",
       "      <td>1</td>\n",
       "      <td>True</td>\n",
       "      <td>AskReddit</td>\n",
       "      <td>0</td>\n",
       "      <td>4</td>\n",
       "    </tr>\n",
       "    <tr>\n",
       "      <th>9996</th>\n",
       "      <td>thelemonx</td>\n",
       "      <td>t2_kj5x6</td>\n",
       "      <td>False</td>\n",
       "      <td>Pretty much all herbivores are.  People think ...</td>\n",
       "      <td>gvrcwhi</td>\n",
       "      <td>False</td>\n",
       "      <td>t3_mxqjly</td>\n",
       "      <td>False</td>\n",
       "      <td>t1_gvqzlil</td>\n",
       "      <td>50</td>\n",
       "      <td>True</td>\n",
       "      <td>AskReddit</td>\n",
       "      <td>0</td>\n",
       "      <td>101</td>\n",
       "    </tr>\n",
       "    <tr>\n",
       "      <th>9997</th>\n",
       "      <td>dieinafirenazi</td>\n",
       "      <td>t2_3y2z14a7</td>\n",
       "      <td>False</td>\n",
       "      <td>A rat in an enriching environment (other rats ...</td>\n",
       "      <td>gvrcwgr</td>\n",
       "      <td>False</td>\n",
       "      <td>t3_mxnf10</td>\n",
       "      <td>False</td>\n",
       "      <td>t1_gvr51zw</td>\n",
       "      <td>37</td>\n",
       "      <td>True</td>\n",
       "      <td>AskReddit</td>\n",
       "      <td>0</td>\n",
       "      <td>144</td>\n",
       "    </tr>\n",
       "    <tr>\n",
       "      <th>9998</th>\n",
       "      <td>theFLORIDAman04</td>\n",
       "      <td>t2_5dmamdcl</td>\n",
       "      <td>False</td>\n",
       "      <td>\"You are the worst child I have had\" or the cl...</td>\n",
       "      <td>gvrcwgl</td>\n",
       "      <td>False</td>\n",
       "      <td>t3_mxf4dl</td>\n",
       "      <td>True</td>\n",
       "      <td>t3_mxf4dl</td>\n",
       "      <td>1</td>\n",
       "      <td>True</td>\n",
       "      <td>AskReddit</td>\n",
       "      <td>0</td>\n",
       "      <td>385</td>\n",
       "    </tr>\n",
       "    <tr>\n",
       "      <th>9999</th>\n",
       "      <td>pyro57</td>\n",
       "      <td>t2_pi0y0</td>\n",
       "      <td>False</td>\n",
       "      <td>Super sorry to hear that bud... It does suck, ...</td>\n",
       "      <td>gvrcwek</td>\n",
       "      <td>False</td>\n",
       "      <td>t3_mxuzpo</td>\n",
       "      <td>True</td>\n",
       "      <td>t1_gvrcrj8</td>\n",
       "      <td>2</td>\n",
       "      <td>True</td>\n",
       "      <td>AskReddit</td>\n",
       "      <td>0</td>\n",
       "      <td>89</td>\n",
       "    </tr>\n",
       "  </tbody>\n",
       "</table>\n",
       "<p>9763 rows × 14 columns</p>\n",
       "</div>"
      ],
      "text/plain": [
       "                    author author_fullname author_premium  \\\n",
       "0          AgronLovesSteel     t2_68gsl4ib          False   \n",
       "1     Adventurous-Mess9304     t2_8x6i6s4f          False   \n",
       "2                    ab901     t2_6cyel9fk          False   \n",
       "4                  pardo92      t2_uckdfgu          False   \n",
       "5       strawberrycreampie        t2_7vozh          False   \n",
       "...                    ...             ...            ...   \n",
       "9995            Chief_BRUH        t2_rz6p1          False   \n",
       "9996             thelemonx        t2_kj5x6          False   \n",
       "9997        dieinafirenazi     t2_3y2z14a7          False   \n",
       "9998       theFLORIDAman04     t2_5dmamdcl          False   \n",
       "9999                pyro57        t2_pi0y0          False   \n",
       "\n",
       "                                                   body       id  \\\n",
       "0     Omg sooo good just finished! Gotta have some f...  gvrcgqn   \n",
       "1                                          Great answer  gvrcf1t   \n",
       "2                 thank you for serving and protecting!  gvrcd04   \n",
       "4     Im sure they brighten the place up :) hows the...  gvrccgy   \n",
       "5     yes, i would have needed the gun. im much too ...  gvrcaz0   \n",
       "...                                                 ...      ...   \n",
       "9995                                               Bruh  gvrcwi6   \n",
       "9996  Pretty much all herbivores are.  People think ...  gvrcwhi   \n",
       "9997  A rat in an enriching environment (other rats ...  gvrcwgr   \n",
       "9998  \"You are the worst child I have had\" or the cl...  gvrcwgl   \n",
       "9999  Super sorry to hear that bud... It does suck, ...  gvrcwek   \n",
       "\n",
       "      is_submitter    link_id  no_follow   parent_id  score  send_replies  \\\n",
       "0             True  t3_mxukth       True  t1_gvrccgy      1          True   \n",
       "1            False  t3_mxnfsk       True  t1_gvqnjl0      2          True   \n",
       "2            False  t3_mxnfsk       True   t3_mxnfsk      1          True   \n",
       "4            False  t3_mxukth       True  t1_gvrc8ir      1          True   \n",
       "5             True  t3_mxi3xq       True  t1_gvoquax      1          True   \n",
       "...            ...        ...        ...         ...    ...           ...   \n",
       "9995         False  t3_mxf4dl       True  t1_gvor24q      1          True   \n",
       "9996         False  t3_mxqjly      False  t1_gvqzlil     50          True   \n",
       "9997         False  t3_mxnf10      False  t1_gvr51zw     37          True   \n",
       "9998         False  t3_mxf4dl       True   t3_mxf4dl      1          True   \n",
       "9999         False  t3_mxuzpo       True  t1_gvrcrj8      2          True   \n",
       "\n",
       "      subreddit  total_awards_received  post_length  \n",
       "0           AMA                      0           68  \n",
       "1           AMA                      0           12  \n",
       "2           AMA                      0           37  \n",
       "4           AMA                      0           53  \n",
       "5           AMA                      0           95  \n",
       "...         ...                    ...          ...  \n",
       "9995  AskReddit                      0            4  \n",
       "9996  AskReddit                      0          101  \n",
       "9997  AskReddit                      0          144  \n",
       "9998  AskReddit                      0          385  \n",
       "9999  AskReddit                      0           89  \n",
       "\n",
       "[9763 rows x 14 columns]"
      ]
     },
     "execution_count": 31,
     "metadata": {},
     "output_type": "execute_result"
    }
   ],
   "source": [
    "df"
   ]
  },
  {
   "cell_type": "markdown",
   "id": "acknowledged-regular",
   "metadata": {},
   "source": [
    "### Checking for more NaNs\n",
    "Looking good!"
   ]
  },
  {
   "cell_type": "code",
   "execution_count": 32,
   "id": "phantom-phrase",
   "metadata": {},
   "outputs": [
    {
     "data": {
      "text/plain": [
       "author                   0\n",
       "author_fullname          0\n",
       "author_premium           0\n",
       "body                     0\n",
       "id                       0\n",
       "is_submitter             0\n",
       "link_id                  0\n",
       "no_follow                0\n",
       "parent_id                0\n",
       "score                    0\n",
       "send_replies             0\n",
       "subreddit                0\n",
       "total_awards_received    0\n",
       "post_length              0\n",
       "dtype: int64"
      ]
     },
     "execution_count": 32,
     "metadata": {},
     "output_type": "execute_result"
    }
   ],
   "source": [
    "df.isna().sum()"
   ]
  },
  {
   "cell_type": "code",
   "execution_count": 33,
   "id": "duplicate-sleep",
   "metadata": {},
   "outputs": [
    {
     "data": {
      "text/plain": [
       "(9763, 14)"
      ]
     },
     "execution_count": 33,
     "metadata": {},
     "output_type": "execute_result"
    }
   ],
   "source": [
    "df.shape"
   ]
  },
  {
   "cell_type": "markdown",
   "id": "postal-phrase",
   "metadata": {},
   "source": [
    "## Adding a Feature\n",
    "#### Adding `post_length`\n",
    "Post length contains the number of characters in a posted comment."
   ]
  },
  {
   "cell_type": "code",
   "execution_count": 34,
   "id": "solid-opinion",
   "metadata": {},
   "outputs": [
    {
     "data": {
      "text/plain": [
       "count    9763.000000\n",
       "mean      155.274199\n",
       "std       301.224344\n",
       "min         1.000000\n",
       "25%        31.000000\n",
       "50%        74.000000\n",
       "75%       167.000000\n",
       "max      8845.000000\n",
       "Name: post_length, dtype: float64"
      ]
     },
     "execution_count": 34,
     "metadata": {},
     "output_type": "execute_result"
    }
   ],
   "source": [
    "df['post_length'].describe()"
   ]
  },
  {
   "cell_type": "markdown",
   "id": "union-polish",
   "metadata": {},
   "source": [
    "#### Some potential outliers"
   ]
  },
  {
   "cell_type": "code",
   "execution_count": 35,
   "id": "immediate-going",
   "metadata": {},
   "outputs": [
    {
     "data": {
      "image/png": "[encoded data removed]",
      "text/plain": [
       "<Figure size 432x288 with 1 Axes>"
      ]
     },
     "metadata": {
      "needs_background": "light"
     },
     "output_type": "display_data"
    }
   ],
   "source": [
    "sns.histplot(data=df, x='post_length');\n",
    "# plt.savefig('../images/post_length_histo.png', bbox_inches = \"tight\")"
   ]
  },
  {
   "cell_type": "code",
   "execution_count": 36,
   "id": "attached-soundtrack",
   "metadata": {},
   "outputs": [
    {
     "data": {
      "text/plain": [
       "AMA    4\n",
       "Name: subreddit, dtype: int64"
      ]
     },
     "execution_count": 36,
     "metadata": {},
     "output_type": "execute_result"
    }
   ],
   "source": [
    "# How many posts greater than 6000\n",
    "df[df['post_length'] >= 6000]['subreddit'].value_counts()"
   ]
  },
  {
   "cell_type": "code",
   "execution_count": 37,
   "id": "affiliated-concept",
   "metadata": {},
   "outputs": [
    {
     "data": {
      "text/plain": [
       "AMA          8\n",
       "AskReddit    3\n",
       "Name: subreddit, dtype: int64"
      ]
     },
     "execution_count": 37,
     "metadata": {},
     "output_type": "execute_result"
    }
   ],
   "source": [
    "# How many posts greater than 4000\n",
    "df[df['post_length'] >= 4000]['subreddit'].value_counts()"
   ]
  },
  {
   "cell_type": "code",
   "execution_count": 38,
   "id": "paperback-stranger",
   "metadata": {},
   "outputs": [
    {
     "data": {
      "text/plain": [
       "AMA          21\n",
       "AskReddit    11\n",
       "Name: subreddit, dtype: int64"
      ]
     },
     "execution_count": 38,
     "metadata": {},
     "output_type": "execute_result"
    }
   ],
   "source": [
    "# How many posts greater than 2000\n",
    "df[df['post_length'] >= 2000]['subreddit'].value_counts()"
   ]
  },
  {
   "cell_type": "code",
   "execution_count": 39,
   "id": "homeless-plant",
   "metadata": {},
   "outputs": [
    {
     "data": {
      "text/plain": [
       "AMA          76\n",
       "AskReddit    73\n",
       "Name: subreddit, dtype: int64"
      ]
     },
     "execution_count": 39,
     "metadata": {},
     "output_type": "execute_result"
    }
   ],
   "source": [
    "# How many posts greater than 1000\n",
    "df[df['post_length'] >= 1000]['subreddit'].value_counts()"
   ]
  },
  {
   "cell_type": "code",
   "execution_count": 40,
   "id": "centered-review",
   "metadata": {},
   "outputs": [
    {
     "data": {
      "text/plain": [
       "AMA          301\n",
       "AskReddit    265\n",
       "Name: subreddit, dtype: int64"
      ]
     },
     "execution_count": 40,
     "metadata": {},
     "output_type": "execute_result"
    }
   ],
   "source": [
    "# How many posts greater than 500\n",
    "df[df['post_length'] >= 500]['subreddit'].value_counts()"
   ]
  },
  {
   "cell_type": "code",
   "execution_count": 41,
   "id": "objective-bikini",
   "metadata": {},
   "outputs": [
    {
     "name": "stdout",
     "output_type": "stream",
     "text": [
      "Rows remaining: \n"
     ]
    },
    {
     "data": {
      "text/plain": [
       "9752"
      ]
     },
     "execution_count": 41,
     "metadata": {},
     "output_type": "execute_result"
    }
   ],
   "source": [
    "# We can get rid of 32 rows by counting any comment over 2000 char as an outlier\n",
    "#    (which is not much considering the original data set is 10_000, making this amount less than 0.33%)\n",
    "# This has the added benefit of making this task more difficult since more of the longer posts seemed to be from AMA\n",
    "\n",
    "# df = df[df['post_length'] < 2000]\n",
    "df = df[df['post_length'] < 4000]\n",
    "print('Rows remaining: ')\n",
    "df.shape[0]"
   ]
  },
  {
   "cell_type": "code",
   "execution_count": null,
   "id": "eligible-freedom",
   "metadata": {},
   "outputs": [],
   "source": []
  },
  {
   "cell_type": "code",
   "execution_count": 42,
   "id": "bizarre-albuquerque",
   "metadata": {},
   "outputs": [
    {
     "data": {
      "text/plain": [
       "2.48"
      ]
     },
     "execution_count": 42,
     "metadata": {},
     "output_type": "execute_result"
    }
   ],
   "source": [
    "# percent of removed data, out of 10_000\n",
    "100*(start_rows - df.shape[0])/start_rows"
   ]
  },
  {
   "cell_type": "code",
   "execution_count": 43,
   "id": "romantic-screen",
   "metadata": {},
   "outputs": [
    {
     "data": {
      "text/plain": [
       "97.52"
      ]
     },
     "execution_count": 43,
     "metadata": {},
     "output_type": "execute_result"
    }
   ],
   "source": [
    "# percent of adequate data, out of 10_000\n",
    "100*df.shape[0]/start_rows"
   ]
  },
  {
   "cell_type": "markdown",
   "id": "economic-heating",
   "metadata": {},
   "source": [
    "## EXPORT!"
   ]
  },
  {
   "cell_type": "code",
   "execution_count": 44,
   "id": "institutional-standing",
   "metadata": {},
   "outputs": [],
   "source": [
    "# Uncomment to export.\n",
    "# df.to_csv('../data/clean_data.csv')"
   ]
  },
  {
   "cell_type": "code",
   "execution_count": null,
   "id": "improved-hurricane",
   "metadata": {},
   "outputs": [],
   "source": []
  },
  {
   "cell_type": "markdown",
   "id": "further-nurse",
   "metadata": {},
   "source": [
    "#### Wrapping up the EDA process...\n",
    "Literally, wrapping it up - I wrote a function that deals with this since it is all things that can be automated.\n",
    "I then converted it into a class which cconverts the input DataFrame into a clean one.\n",
    "\n",
    "I found that using either the function or Class was desirable so I can get more data, or new data and run models on the fly.\n",
    "\n",
    "\n",
    "Also, in regard to \"outliers\" in character-length, I found that removing outliers with character-length greater than 2000 was too much; I settled on greater than 4000 instead.\n"
   ]
  },
  {
   "cell_type": "code",
   "execution_count": null,
   "id": "lovely-duration",
   "metadata": {},
   "outputs": [],
   "source": []
  }
 ],
 "metadata": {
  "kernelspec": {
   "display_name": "Python 3",
   "language": "python",
   "name": "python3"
  },
  "language_info": {
   "codemirror_mode": {
    "name": "ipython",
    "version": 3
   },
   "file_extension": ".py",
   "mimetype": "text/x-python",
   "name": "python",
   "nbconvert_exporter": "python",
   "pygments_lexer": "ipython3",
   "version": "3.8.10"
  }
 },
 "nbformat": 4,
 "nbformat_minor": 5
}
